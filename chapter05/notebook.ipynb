{
  "cells": [
    {
      "cell_type": "markdown",
      "metadata": {
        "id": "6x7b3Rpfgpk0"
      },
      "source": [
        "# 5. LangChain Expression Language(LCEL) 심층 해설\n"
      ]
    },
    {
      "cell_type": "code",
      "execution_count": 1,
      "metadata": {
        "execution": {
          "iopub.execute_input": "2024-06-28T02:32:34.489407Z",
          "iopub.status.busy": "2024-06-28T02:32:34.488775Z",
          "iopub.status.idle": "2024-06-28T02:32:34.491583Z",
          "shell.execute_reply": "2024-06-28T02:32:34.491086Z"
        },
        "id": "jvuKOwNbgpk1"
      },
      "outputs": [],
      "source": [
        "import os\n",
        "from google.colab import userdata\n",
        "\n",
        "os.environ[\"OPENAI_API_KEY\"] = userdata.get(\"OPENAI_API_KEY\")\n",
        "os.environ[\"LANGCHAIN_TRACING_V2\"] = \"true\"\n",
        "os.environ[\"LANGCHAIN_ENDPOINT\"] = \"https://api.smith.langchain.com\"\n",
        "os.environ[\"LANGCHAIN_API_KEY\"] = userdata.get(\"LANGCHAIN_API_KEY\")\n",
        "os.environ[\"LANGCHAIN_PROJECT\"] = \"agent-book\""
      ]
    },
    {
      "cell_type": "code",
      "execution_count": 2,
      "metadata": {
        "id": "CQ4fwamMgpk1",
        "outputId": "40db0b4b-b501-484e-913e-46acc3dd1736",
        "colab": {
          "base_uri": "https://localhost:8080/"
        }
      },
      "outputs": [
        {
          "output_type": "stream",
          "name": "stdout",
          "text": [
            "Collecting langchain-core==0.3.0\n",
            "  Downloading langchain_core-0.3.0-py3-none-any.whl.metadata (6.2 kB)\n",
            "Collecting langchain-openai==0.2.0\n",
            "  Downloading langchain_openai-0.2.0-py3-none-any.whl.metadata (2.6 kB)\n",
            "Collecting langchain-community==0.3.0\n",
            "  Downloading langchain_community-0.3.0-py3-none-any.whl.metadata (2.8 kB)\n",
            "Requirement already satisfied: PyYAML>=5.3 in /usr/local/lib/python3.11/dist-packages (from langchain-core==0.3.0) (6.0.2)\n",
            "Requirement already satisfied: jsonpatch<2.0,>=1.33 in /usr/local/lib/python3.11/dist-packages (from langchain-core==0.3.0) (1.33)\n",
            "Collecting langsmith<0.2.0,>=0.1.117 (from langchain-core==0.3.0)\n",
            "  Downloading langsmith-0.1.147-py3-none-any.whl.metadata (14 kB)\n",
            "Requirement already satisfied: packaging<25,>=23.2 in /usr/local/lib/python3.11/dist-packages (from langchain-core==0.3.0) (24.2)\n",
            "Requirement already satisfied: pydantic<3.0.0,>=2.5.2 in /usr/local/lib/python3.11/dist-packages (from langchain-core==0.3.0) (2.10.6)\n",
            "Collecting tenacity!=8.4.0,<9.0.0,>=8.1.0 (from langchain-core==0.3.0)\n",
            "  Downloading tenacity-8.5.0-py3-none-any.whl.metadata (1.2 kB)\n",
            "Requirement already satisfied: typing-extensions>=4.7 in /usr/local/lib/python3.11/dist-packages (from langchain-core==0.3.0) (4.12.2)\n",
            "Requirement already satisfied: openai<2.0.0,>=1.40.0 in /usr/local/lib/python3.11/dist-packages (from langchain-openai==0.2.0) (1.61.1)\n",
            "Collecting tiktoken<1,>=0.7 (from langchain-openai==0.2.0)\n",
            "  Downloading tiktoken-0.9.0-cp311-cp311-manylinux_2_17_x86_64.manylinux2014_x86_64.whl.metadata (6.7 kB)\n",
            "Requirement already satisfied: SQLAlchemy<3,>=1.4 in /usr/local/lib/python3.11/dist-packages (from langchain-community==0.3.0) (2.0.38)\n",
            "Requirement already satisfied: aiohttp<4.0.0,>=3.8.3 in /usr/local/lib/python3.11/dist-packages (from langchain-community==0.3.0) (3.11.13)\n",
            "Collecting dataclasses-json<0.7,>=0.5.7 (from langchain-community==0.3.0)\n",
            "  Downloading dataclasses_json-0.6.7-py3-none-any.whl.metadata (25 kB)\n",
            "Requirement already satisfied: langchain<0.4.0,>=0.3.0 in /usr/local/lib/python3.11/dist-packages (from langchain-community==0.3.0) (0.3.19)\n",
            "Requirement already satisfied: numpy<2,>=1 in /usr/local/lib/python3.11/dist-packages (from langchain-community==0.3.0) (1.26.4)\n",
            "Collecting pydantic-settings<3.0.0,>=2.4.0 (from langchain-community==0.3.0)\n",
            "  Downloading pydantic_settings-2.8.1-py3-none-any.whl.metadata (3.5 kB)\n",
            "Requirement already satisfied: requests<3,>=2 in /usr/local/lib/python3.11/dist-packages (from langchain-community==0.3.0) (2.32.3)\n",
            "Requirement already satisfied: aiohappyeyeballs>=2.3.0 in /usr/local/lib/python3.11/dist-packages (from aiohttp<4.0.0,>=3.8.3->langchain-community==0.3.0) (2.4.6)\n",
            "Requirement already satisfied: aiosignal>=1.1.2 in /usr/local/lib/python3.11/dist-packages (from aiohttp<4.0.0,>=3.8.3->langchain-community==0.3.0) (1.3.2)\n",
            "Requirement already satisfied: attrs>=17.3.0 in /usr/local/lib/python3.11/dist-packages (from aiohttp<4.0.0,>=3.8.3->langchain-community==0.3.0) (25.1.0)\n",
            "Requirement already satisfied: frozenlist>=1.1.1 in /usr/local/lib/python3.11/dist-packages (from aiohttp<4.0.0,>=3.8.3->langchain-community==0.3.0) (1.5.0)\n",
            "Requirement already satisfied: multidict<7.0,>=4.5 in /usr/local/lib/python3.11/dist-packages (from aiohttp<4.0.0,>=3.8.3->langchain-community==0.3.0) (6.1.0)\n",
            "Requirement already satisfied: propcache>=0.2.0 in /usr/local/lib/python3.11/dist-packages (from aiohttp<4.0.0,>=3.8.3->langchain-community==0.3.0) (0.3.0)\n",
            "Requirement already satisfied: yarl<2.0,>=1.17.0 in /usr/local/lib/python3.11/dist-packages (from aiohttp<4.0.0,>=3.8.3->langchain-community==0.3.0) (1.18.3)\n",
            "Collecting marshmallow<4.0.0,>=3.18.0 (from dataclasses-json<0.7,>=0.5.7->langchain-community==0.3.0)\n",
            "  Downloading marshmallow-3.26.1-py3-none-any.whl.metadata (7.3 kB)\n",
            "Collecting typing-inspect<1,>=0.4.0 (from dataclasses-json<0.7,>=0.5.7->langchain-community==0.3.0)\n",
            "  Downloading typing_inspect-0.9.0-py3-none-any.whl.metadata (1.5 kB)\n",
            "Requirement already satisfied: jsonpointer>=1.9 in /usr/local/lib/python3.11/dist-packages (from jsonpatch<2.0,>=1.33->langchain-core==0.3.0) (3.0.0)\n",
            "INFO: pip is looking at multiple versions of langchain to determine which version is compatible with other requirements. This could take a while.\n",
            "Collecting langchain<0.4.0,>=0.3.0 (from langchain-community==0.3.0)\n",
            "  Downloading langchain-0.3.20-py3-none-any.whl.metadata (7.7 kB)\n",
            "  Downloading langchain-0.3.18-py3-none-any.whl.metadata (7.8 kB)\n",
            "  Downloading langchain-0.3.17-py3-none-any.whl.metadata (7.1 kB)\n",
            "  Downloading langchain-0.3.16-py3-none-any.whl.metadata (7.1 kB)\n",
            "  Downloading langchain-0.3.15-py3-none-any.whl.metadata (7.1 kB)\n",
            "  Downloading langchain-0.3.14-py3-none-any.whl.metadata (7.1 kB)\n",
            "  Downloading langchain-0.3.13-py3-none-any.whl.metadata (7.1 kB)\n",
            "INFO: pip is still looking at multiple versions of langchain to determine which version is compatible with other requirements. This could take a while.\n",
            "  Downloading langchain-0.3.12-py3-none-any.whl.metadata (7.1 kB)\n",
            "  Downloading langchain-0.3.11-py3-none-any.whl.metadata (7.1 kB)\n",
            "  Downloading langchain-0.3.10-py3-none-any.whl.metadata (7.1 kB)\n",
            "  Downloading langchain-0.3.9-py3-none-any.whl.metadata (7.1 kB)\n",
            "  Downloading langchain-0.3.8-py3-none-any.whl.metadata (7.1 kB)\n",
            "INFO: This is taking longer than usual. You might need to provide the dependency resolver with stricter constraints to reduce runtime. See https://pip.pypa.io/warnings/backtracking for guidance. If you want to abort this run, press Ctrl + C.\n",
            "  Downloading langchain-0.3.7-py3-none-any.whl.metadata (7.1 kB)\n",
            "  Downloading langchain-0.3.6-py3-none-any.whl.metadata (7.1 kB)\n",
            "  Downloading langchain-0.3.5-py3-none-any.whl.metadata (7.1 kB)\n",
            "  Downloading langchain-0.3.4-py3-none-any.whl.metadata (7.1 kB)\n",
            "  Downloading langchain-0.3.3-py3-none-any.whl.metadata (7.1 kB)\n",
            "  Downloading langchain-0.3.2-py3-none-any.whl.metadata (7.1 kB)\n",
            "  Downloading langchain-0.3.1-py3-none-any.whl.metadata (7.1 kB)\n",
            "  Downloading langchain-0.3.0-py3-none-any.whl.metadata (7.1 kB)\n",
            "Requirement already satisfied: langchain-text-splitters<0.4.0,>=0.3.0 in /usr/local/lib/python3.11/dist-packages (from langchain<0.4.0,>=0.3.0->langchain-community==0.3.0) (0.3.6)\n",
            "Requirement already satisfied: httpx<1,>=0.23.0 in /usr/local/lib/python3.11/dist-packages (from langsmith<0.2.0,>=0.1.117->langchain-core==0.3.0) (0.28.1)\n",
            "Requirement already satisfied: orjson<4.0.0,>=3.9.14 in /usr/local/lib/python3.11/dist-packages (from langsmith<0.2.0,>=0.1.117->langchain-core==0.3.0) (3.10.15)\n",
            "Requirement already satisfied: requests-toolbelt<2.0.0,>=1.0.0 in /usr/local/lib/python3.11/dist-packages (from langsmith<0.2.0,>=0.1.117->langchain-core==0.3.0) (1.0.0)\n",
            "Requirement already satisfied: anyio<5,>=3.5.0 in /usr/local/lib/python3.11/dist-packages (from openai<2.0.0,>=1.40.0->langchain-openai==0.2.0) (3.7.1)\n",
            "Requirement already satisfied: distro<2,>=1.7.0 in /usr/local/lib/python3.11/dist-packages (from openai<2.0.0,>=1.40.0->langchain-openai==0.2.0) (1.9.0)\n",
            "Requirement already satisfied: jiter<1,>=0.4.0 in /usr/local/lib/python3.11/dist-packages (from openai<2.0.0,>=1.40.0->langchain-openai==0.2.0) (0.8.2)\n",
            "Requirement already satisfied: sniffio in /usr/local/lib/python3.11/dist-packages (from openai<2.0.0,>=1.40.0->langchain-openai==0.2.0) (1.3.1)\n",
            "Requirement already satisfied: tqdm>4 in /usr/local/lib/python3.11/dist-packages (from openai<2.0.0,>=1.40.0->langchain-openai==0.2.0) (4.67.1)\n",
            "Requirement already satisfied: annotated-types>=0.6.0 in /usr/local/lib/python3.11/dist-packages (from pydantic<3.0.0,>=2.5.2->langchain-core==0.3.0) (0.7.0)\n",
            "Requirement already satisfied: pydantic-core==2.27.2 in /usr/local/lib/python3.11/dist-packages (from pydantic<3.0.0,>=2.5.2->langchain-core==0.3.0) (2.27.2)\n",
            "Collecting python-dotenv>=0.21.0 (from pydantic-settings<3.0.0,>=2.4.0->langchain-community==0.3.0)\n",
            "  Downloading python_dotenv-1.0.1-py3-none-any.whl.metadata (23 kB)\n",
            "Requirement already satisfied: charset-normalizer<4,>=2 in /usr/local/lib/python3.11/dist-packages (from requests<3,>=2->langchain-community==0.3.0) (3.4.1)\n",
            "Requirement already satisfied: idna<4,>=2.5 in /usr/local/lib/python3.11/dist-packages (from requests<3,>=2->langchain-community==0.3.0) (3.10)\n",
            "Requirement already satisfied: urllib3<3,>=1.21.1 in /usr/local/lib/python3.11/dist-packages (from requests<3,>=2->langchain-community==0.3.0) (2.3.0)\n",
            "Requirement already satisfied: certifi>=2017.4.17 in /usr/local/lib/python3.11/dist-packages (from requests<3,>=2->langchain-community==0.3.0) (2025.1.31)\n",
            "Requirement already satisfied: greenlet!=0.4.17 in /usr/local/lib/python3.11/dist-packages (from SQLAlchemy<3,>=1.4->langchain-community==0.3.0) (3.1.1)\n",
            "Requirement already satisfied: regex>=2022.1.18 in /usr/local/lib/python3.11/dist-packages (from tiktoken<1,>=0.7->langchain-openai==0.2.0) (2024.11.6)\n",
            "Requirement already satisfied: httpcore==1.* in /usr/local/lib/python3.11/dist-packages (from httpx<1,>=0.23.0->langsmith<0.2.0,>=0.1.117->langchain-core==0.3.0) (1.0.7)\n",
            "Requirement already satisfied: h11<0.15,>=0.13 in /usr/local/lib/python3.11/dist-packages (from httpcore==1.*->httpx<1,>=0.23.0->langsmith<0.2.0,>=0.1.117->langchain-core==0.3.0) (0.14.0)\n",
            "INFO: pip is looking at multiple versions of langchain-text-splitters to determine which version is compatible with other requirements. This could take a while.\n",
            "Collecting langchain-text-splitters<0.4.0,>=0.3.0 (from langchain<0.4.0,>=0.3.0->langchain-community==0.3.0)\n",
            "  Downloading langchain_text_splitters-0.3.5-py3-none-any.whl.metadata (2.3 kB)\n",
            "  Downloading langchain_text_splitters-0.3.4-py3-none-any.whl.metadata (2.3 kB)\n",
            "  Downloading langchain_text_splitters-0.3.3-py3-none-any.whl.metadata (2.3 kB)\n",
            "  Downloading langchain_text_splitters-0.3.2-py3-none-any.whl.metadata (2.3 kB)\n",
            "  Downloading langchain_text_splitters-0.3.1-py3-none-any.whl.metadata (2.3 kB)\n",
            "  Downloading langchain_text_splitters-0.3.0-py3-none-any.whl.metadata (2.3 kB)\n",
            "Collecting mypy-extensions>=0.3.0 (from typing-inspect<1,>=0.4.0->dataclasses-json<0.7,>=0.5.7->langchain-community==0.3.0)\n",
            "  Downloading mypy_extensions-1.0.0-py3-none-any.whl.metadata (1.1 kB)\n",
            "Downloading langchain_core-0.3.0-py3-none-any.whl (405 kB)\n",
            "\u001b[2K   \u001b[90m━━━━━━━━━━━━━━━━━━━━━━━━━━━━━━━━━━━━━━━━\u001b[0m \u001b[32m405.1/405.1 kB\u001b[0m \u001b[31m13.0 MB/s\u001b[0m eta \u001b[36m0:00:00\u001b[0m\n",
            "\u001b[?25hDownloading langchain_openai-0.2.0-py3-none-any.whl (51 kB)\n",
            "\u001b[2K   \u001b[90m━━━━━━━━━━━━━━━━━━━━━━━━━━━━━━━━━━━━━━━━\u001b[0m \u001b[32m51.5/51.5 kB\u001b[0m \u001b[31m4.3 MB/s\u001b[0m eta \u001b[36m0:00:00\u001b[0m\n",
            "\u001b[?25hDownloading langchain_community-0.3.0-py3-none-any.whl (2.3 MB)\n",
            "\u001b[2K   \u001b[90m━━━━━━━━━━━━━━━━━━━━━━━━━━━━━━━━━━━━━━━━\u001b[0m \u001b[32m2.3/2.3 MB\u001b[0m \u001b[31m58.9 MB/s\u001b[0m eta \u001b[36m0:00:00\u001b[0m\n",
            "\u001b[?25hDownloading dataclasses_json-0.6.7-py3-none-any.whl (28 kB)\n",
            "Downloading langchain-0.3.0-py3-none-any.whl (1.0 MB)\n",
            "\u001b[2K   \u001b[90m━━━━━━━━━━━━━━━━━━━━━━━━━━━━━━━━━━━━━━━━\u001b[0m \u001b[32m1.0/1.0 MB\u001b[0m \u001b[31m53.9 MB/s\u001b[0m eta \u001b[36m0:00:00\u001b[0m\n",
            "\u001b[?25hDownloading langsmith-0.1.147-py3-none-any.whl (311 kB)\n",
            "\u001b[2K   \u001b[90m━━━━━━━━━━━━━━━━━━━━━━━━━━━━━━━━━━━━━━━━\u001b[0m \u001b[32m311.8/311.8 kB\u001b[0m \u001b[31m24.6 MB/s\u001b[0m eta \u001b[36m0:00:00\u001b[0m\n",
            "\u001b[?25hDownloading pydantic_settings-2.8.1-py3-none-any.whl (30 kB)\n",
            "Downloading tenacity-8.5.0-py3-none-any.whl (28 kB)\n",
            "Downloading tiktoken-0.9.0-cp311-cp311-manylinux_2_17_x86_64.manylinux2014_x86_64.whl (1.2 MB)\n",
            "\u001b[2K   \u001b[90m━━━━━━━━━━━━━━━━━━━━━━━━━━━━━━━━━━━━━━━━\u001b[0m \u001b[32m1.2/1.2 MB\u001b[0m \u001b[31m55.2 MB/s\u001b[0m eta \u001b[36m0:00:00\u001b[0m\n",
            "\u001b[?25hDownloading langchain_text_splitters-0.3.0-py3-none-any.whl (25 kB)\n",
            "Downloading marshmallow-3.26.1-py3-none-any.whl (50 kB)\n",
            "\u001b[2K   \u001b[90m━━━━━━━━━━━━━━━━━━━━━━━━━━━━━━━━━━━━━━━━\u001b[0m \u001b[32m50.9/50.9 kB\u001b[0m \u001b[31m4.5 MB/s\u001b[0m eta \u001b[36m0:00:00\u001b[0m\n",
            "\u001b[?25hDownloading python_dotenv-1.0.1-py3-none-any.whl (19 kB)\n",
            "Downloading typing_inspect-0.9.0-py3-none-any.whl (8.8 kB)\n",
            "Downloading mypy_extensions-1.0.0-py3-none-any.whl (4.7 kB)\n",
            "Installing collected packages: tenacity, python-dotenv, mypy-extensions, marshmallow, typing-inspect, tiktoken, pydantic-settings, langsmith, dataclasses-json, langchain-core, langchain-text-splitters, langchain-openai, langchain, langchain-community\n",
            "  Attempting uninstall: tenacity\n",
            "    Found existing installation: tenacity 9.0.0\n",
            "    Uninstalling tenacity-9.0.0:\n",
            "      Successfully uninstalled tenacity-9.0.0\n",
            "  Attempting uninstall: langsmith\n",
            "    Found existing installation: langsmith 0.3.11\n",
            "    Uninstalling langsmith-0.3.11:\n",
            "      Successfully uninstalled langsmith-0.3.11\n",
            "  Attempting uninstall: langchain-core\n",
            "    Found existing installation: langchain-core 0.3.40\n",
            "    Uninstalling langchain-core-0.3.40:\n",
            "      Successfully uninstalled langchain-core-0.3.40\n",
            "  Attempting uninstall: langchain-text-splitters\n",
            "    Found existing installation: langchain-text-splitters 0.3.6\n",
            "    Uninstalling langchain-text-splitters-0.3.6:\n",
            "      Successfully uninstalled langchain-text-splitters-0.3.6\n",
            "  Attempting uninstall: langchain\n",
            "    Found existing installation: langchain 0.3.19\n",
            "    Uninstalling langchain-0.3.19:\n",
            "      Successfully uninstalled langchain-0.3.19\n",
            "Successfully installed dataclasses-json-0.6.7 langchain-0.3.0 langchain-community-0.3.0 langchain-core-0.3.0 langchain-openai-0.2.0 langchain-text-splitters-0.3.0 langsmith-0.1.147 marshmallow-3.26.1 mypy-extensions-1.0.0 pydantic-settings-2.8.1 python-dotenv-1.0.1 tenacity-8.5.0 tiktoken-0.9.0 typing-inspect-0.9.0\n"
          ]
        }
      ],
      "source": [
        "!pip install langchain-core==0.3.0 langchain-openai==0.2.0 langchain-community==0.3.0"
      ]
    },
    {
      "cell_type": "markdown",
      "metadata": {
        "id": "QkvQCCUQgpk1"
      },
      "source": [
        "## 5.1. Runnable과 RunnableSequence―LCEL의 가장 기본적인 구성 요소\n"
      ]
    },
    {
      "cell_type": "code",
      "execution_count": 3,
      "metadata": {
        "execution": {
          "iopub.execute_input": "2024-06-28T02:33:12.290335Z",
          "iopub.status.busy": "2024-06-28T02:33:12.290156Z",
          "iopub.status.idle": "2024-06-28T02:33:12.344661Z",
          "shell.execute_reply": "2024-06-28T02:33:12.344241Z"
        },
        "id": "iw47kajfgpk2"
      },
      "outputs": [],
      "source": [
        "from langchain_core.output_parsers import StrOutputParser\n",
        "from langchain_core.prompts import ChatPromptTemplate\n",
        "from langchain_openai import ChatOpenAI\n",
        "\n",
        "prompt = ChatPromptTemplate.from_messages(\n",
        "    [\n",
        "        (\"system\", \"사용자가 입력한 요리의 레시피를 생각해 주세요.\"),\n",
        "        (\"human\", \"{dish}\"),\n",
        "    ]\n",
        ")\n",
        "\n",
        "model = ChatOpenAI(model=\"gpt-4o-mini\", temperature=0)\n",
        "\n",
        "output_parser = StrOutputParser()"
      ]
    },
    {
      "cell_type": "code",
      "execution_count": 4,
      "metadata": {
        "execution": {
          "iopub.execute_input": "2024-06-28T02:33:12.346689Z",
          "iopub.status.busy": "2024-06-28T02:33:12.346510Z",
          "iopub.status.idle": "2024-06-28T02:33:21.108437Z",
          "shell.execute_reply": "2024-06-28T02:33:21.108007Z"
        },
        "id": "v1e4ytz_gpk2",
        "outputId": "98c95f7c-9b0b-4de4-c6b0-70f52494cc73",
        "colab": {
          "base_uri": "https://localhost:8080/"
        }
      },
      "outputs": [
        {
          "output_type": "stream",
          "name": "stdout",
          "text": [
            "카레는 다양한 재료와 향신료를 사용하여 만드는 맛있는 요리입니다. 아래는 기본적인 카레 레시피입니다.\n",
            "\n",
            "### 재료\n",
            "- 고기 (닭고기, 소고기, 돼지고기 등) 300g\n",
            "- 양파 1개\n",
            "- 감자 1개\n",
            "- 당근 1개\n",
            "- 카레 가루 2-3 큰술\n",
            "- 식용유 2 큰술\n",
            "- 물 3컵\n",
            "- 소금, 후추 약간\n",
            "- 선택 재료: 피망, 버섯, 완두콩 등\n",
            "\n",
            "### 조리 방법\n",
            "1. **재료 손질**: 고기는 한 입 크기로 자르고, 양파는 다지고, 감자와 당근은 깍둑썰기 합니다.\n",
            "\n",
            "2. **양파 볶기**: 큰 냄비에 식용유를 두르고 중불에서 다진 양파를 넣어 투명해질 때까지 볶습니다.\n",
            "\n",
            "3. **고기 추가**: 양파가 볶아지면 고기를 넣고 겉면이 익을 때까지 볶습니다.\n",
            "\n",
            "4. **채소 추가**: 감자와 당근을 넣고 함께 볶아줍니다.\n",
            "\n",
            "5. **물 붓기**: 재료가 잘 섞이면 물을 붓고 끓입니다. 끓기 시작하면 불을 줄이고 중약불로 15-20분 정도 끓입니다.\n",
            "\n",
            "6. **카레 가루 추가**: 카레 가루를 넣고 잘 섞은 후, 다시 10분 정도 끓입니다. 필요에 따라 소금과 후추로 간을 맞춥니다.\n",
            "\n",
            "7. **완성**: 카레가 걸쭉해지면 불을 끄고, 밥과 함께 서빙합니다.\n",
            "\n",
            "### 팁\n",
            "- 카레는 냉장고에 보관하면 맛이 더 깊어지므로, 다음 날 먹는 것도 추천합니다.\n",
            "- 다양한 채소나 해산물을 추가하여 나만의 카레를 만들어 보세요!\n",
            "\n",
            "맛있게 드세요!\n"
          ]
        }
      ],
      "source": [
        "prompt_value = prompt.invoke({\"dish\": \"카레\"})\n",
        "ai_message = model.invoke(prompt_value)\n",
        "output = output_parser.invoke(ai_message)\n",
        "\n",
        "print(output)"
      ]
    },
    {
      "cell_type": "code",
      "execution_count": 5,
      "metadata": {
        "execution": {
          "iopub.execute_input": "2024-06-28T02:33:21.110332Z",
          "iopub.status.busy": "2024-06-28T02:33:21.110173Z",
          "iopub.status.idle": "2024-06-28T02:33:21.112634Z",
          "shell.execute_reply": "2024-06-28T02:33:21.112238Z"
        },
        "id": "Y1_uIxQ4gpk2"
      },
      "outputs": [],
      "source": [
        "chain = prompt | model | output_parser"
      ]
    },
    {
      "cell_type": "code",
      "execution_count": 6,
      "metadata": {
        "execution": {
          "iopub.execute_input": "2024-06-28T02:33:21.114678Z",
          "iopub.status.busy": "2024-06-28T02:33:21.114418Z",
          "iopub.status.idle": "2024-06-28T02:33:26.539851Z",
          "shell.execute_reply": "2024-06-28T02:33:26.539250Z"
        },
        "id": "sidnFryBgpk2",
        "outputId": "5636c41b-0710-4ce2-a1ed-aed680303063",
        "colab": {
          "base_uri": "https://localhost:8080/"
        }
      },
      "outputs": [
        {
          "output_type": "stream",
          "name": "stdout",
          "text": [
            "카레는 다양한 재료와 향신료를 사용하여 만드는 맛있는 요리입니다. 아래는 기본적인 카레 레시피입니다.\n",
            "\n",
            "### 재료\n",
            "- 고기 (닭고기, 소고기, 양고기 등) 300g\n",
            "- 양파 1개\n",
            "- 감자 1개\n",
            "- 당근 1개\n",
            "- 카레 가루 2-3 큰술\n",
            "- 식용유 2 큰술\n",
            "- 물 3컵\n",
            "- 소금, 후추 약간\n",
            "- 선택 재료: 피망, 버섯, 완두콩 등\n",
            "\n",
            "### 조리 방법\n",
            "1. **재료 손질**: 고기는 한 입 크기로 자르고, 양파는 다지고, 감자와 당근은 깍둑썰기 합니다.\n",
            "\n",
            "2. **양파 볶기**: 큰 냄비에 식용유를 두르고 중불에서 다진 양파를 넣어 투명해질 때까지 볶습니다.\n",
            "\n",
            "3. **고기 추가**: 양파가 볶아지면 고기를 넣고 겉면이 익을 때까지 볶습니다.\n",
            "\n",
            "4. **채소 추가**: 감자와 당근을 넣고 함께 볶아줍니다.\n",
            "\n",
            "5. **물 붓기**: 재료가 잘 섞이면 물을 붓고 끓입니다. 끓기 시작하면 불을 줄이고 중약불로 15-20분 정도 끓입니다.\n",
            "\n",
            "6. **카레 가루 추가**: 카레 가루를 넣고 잘 섞은 후, 다시 10분 정도 끓입니다. 필요에 따라 소금과 후추로 간을 맞춥니다.\n",
            "\n",
            "7. **완성**: 카레가 걸쭉해지면 불을 끄고, 밥과 함께 서빙합니다.\n",
            "\n",
            "### 팁\n",
            "- 카레는 시간이 지날수록 맛이 깊어지므로, 하루 정도 숙성시키면 더욱 맛있습니다.\n",
            "- 다양한 채소나 해산물을 추가하여 나만의 카레를 만들어 보세요.\n",
            "\n",
            "맛있게 드세요!\n"
          ]
        }
      ],
      "source": [
        "output = chain.invoke({\"dish\": \"카레\"})\n",
        "print(output)"
      ]
    },
    {
      "cell_type": "markdown",
      "metadata": {
        "id": "CyCfUHUngpk2"
      },
      "source": [
        "### Runnable의 실행 방법―invoke・stream・batch\n"
      ]
    },
    {
      "cell_type": "code",
      "execution_count": 7,
      "metadata": {
        "execution": {
          "iopub.execute_input": "2024-06-28T02:33:26.545129Z",
          "iopub.status.busy": "2024-06-28T02:33:26.544905Z",
          "iopub.status.idle": "2024-06-28T02:33:32.478679Z",
          "shell.execute_reply": "2024-06-28T02:33:32.478134Z"
        },
        "id": "G44R6pakgpk3",
        "outputId": "b23ef256-54b4-464e-feb9-0f84acf03b2e",
        "colab": {
          "base_uri": "https://localhost:8080/"
        }
      },
      "outputs": [
        {
          "output_type": "stream",
          "name": "stdout",
          "text": [
            "카레는 다양한 재료와 향신료를 사용하여 만드는 맛있는 요리입니다. 아래는 기본적인 카레 레시피입니다.\n",
            "\n",
            "### 재료\n",
            "- 고기 (닭고기, 소고기, 양고기 등) 300g\n",
            "- 양파 1개\n",
            "- 감자 1개\n",
            "- 당근 1개\n",
            "- 카레 가루 2-3 큰술\n",
            "- 식용유 2 큰술\n",
            "- 물 3컵\n",
            "- 소금, 후추 약간\n",
            "- 선택 재료: 마늘, 생강, 피망, 버섯 등\n",
            "\n",
            "### 조리 방법\n",
            "1. **재료 손질**: 고기는 한 입 크기로 자르고, 양파는 다지고, 감자와 당근은 깍둑썰기 합니다. 선택 재료가 있다면 함께 손질합니다.\n",
            "\n",
            "2. **양파 볶기**: 큰 냄비에 식용유를 두르고 중불에서 다진 양파를 넣고 볶아줍니다. 양파가 투명해질 때까지 볶습니다.\n",
            "\n",
            "3. **고기 추가**: 손질한 고기를 넣고 겉면이 익을 때까지 볶습니다. 이때 마늘과 생강을 추가하면 향이 더해집니다.\n",
            "\n",
            "4. **채소 추가**: 감자와 당근을 넣고 함께 볶아줍니다. 다른 채소도 이 단계에서 추가할 수 있습니다.\n",
            "\n",
            "5. **물 붓기**: 모든 재료가 잘 섞이면 물을 붓고 끓입니다. 끓기 시작하면 불을 줄이고 중약불에서 15-20분 정도 끓입니다.\n",
            "\n",
            "6. **카레 가루 추가**: 카레 가루를 넣고 잘 섞어줍니다. 원하는 농도에 따라 물을 추가할 수 있습니다. 소금과 후추로 간을 맞춥니다.\n",
            "\n",
            "7. **완성**: 카레가 걸쭉해지면 불을 끄고, 5분 정도 뜸을 들인 후 그릇에 담아냅니다.\n",
            "\n",
            "### 서빙\n",
            "밥과 함께 서빙하면 좋습니다. 또한, 나안이나 빵과 함께 먹어도 맛있습니다. 취향에 따라 피클이나 샐러드를 곁들여도 좋습니다.\n",
            "\n",
            "맛있게 드세요!"
          ]
        }
      ],
      "source": [
        "chain = prompt | model | output_parser\n",
        "\n",
        "for chunk in chain.stream({\"dish\": \"카레\"}):\n",
        "    print(chunk, end=\"\", flush=True)"
      ]
    },
    {
      "cell_type": "code",
      "execution_count": 8,
      "metadata": {
        "execution": {
          "iopub.execute_input": "2024-06-28T02:33:32.480592Z",
          "iopub.status.busy": "2024-06-28T02:33:32.480406Z",
          "iopub.status.idle": "2024-06-28T02:33:38.976064Z",
          "shell.execute_reply": "2024-06-28T02:33:38.974376Z"
        },
        "id": "2pol6DGIgpk3",
        "outputId": "926f0641-a3e3-4285-a63e-f04d49baf444",
        "colab": {
          "base_uri": "https://localhost:8080/"
        }
      },
      "outputs": [
        {
          "output_type": "stream",
          "name": "stdout",
          "text": [
            "['카레는 다양한 재료와 향신료를 사용하여 만드는 맛있는 요리입니다. 아래는 기본적인 카레 레시피입니다.\\n\\n### 재료\\n- 고기 (닭고기, 소고기, 양고기 등) 300g\\n- 양파 1개\\n- 감자 1개\\n- 당근 1개\\n- 카레 가루 2-3 큰술\\n- 식용유 2 큰술\\n- 물 3컵\\n- 소금, 후추 약간\\n- 선택 재료: 마늘, 생강, 피망, 버섯 등\\n\\n### 조리 방법\\n1. **재료 손질**: 고기는 한 입 크기로 자르고, 양파는 다지고, 감자와 당근은 깍둑썰기 합니다.\\n\\n2. **양파 볶기**: 큰 냄비에 식용유를 두르고 중불에서 다진 양파를 넣고 투명해질 때까지 볶습니다.\\n\\n3. **고기 추가**: 양파가 볶아지면 고기를 넣고 겉면이 익을 때까지 볶습니다.\\n\\n4. **채소 추가**: 감자와 당근을 넣고 함께 볶아줍니다. 이때 마늘과 생강을 추가하면 향이 더해집니다.\\n\\n5. **물 붓기**: 모든 재료가 잘 섞이면 물을 붓고 끓입니다. 끓기 시작하면 불을 줄이고 중약불에서 15-20분 정도 끓입니다.\\n\\n6. **카레 가루 추가**: 카레 가루를 넣고 잘 저어줍니다. 원하는 농도에 따라 물을 추가할 수 있습니다.\\n\\n7. **간 맞추기**: 소금과 후추로 간을 맞추고, 약한 불에서 10분 정도 더 끓입니다.\\n\\n8. **완성**: 카레가 걸쭉해지면 불을 끄고, 밥과 함께 서빙합니다.\\n\\n### 팁\\n- 카레는 다음 날 더 맛있어지므로, 미리 만들어 두면 좋습니다.\\n- 다양한 채소나 해산물을 추가하여 변화를 줄 수 있습니다.\\n- 매운 맛을 원한다면 고추가루나 청양고추를 추가하세요.\\n\\n맛있게 드세요!', '우동은 일본의 전통적인 면 요리로, 쫄깃한 면과 다양한 재료가 어우러져 맛있는 국물과 함께 즐길 수 있습니다. 아래는 기본적인 우동 레시피입니다.\\n\\n### 재료\\n- 우동 면 200g\\n- 물 4컵\\n- 다시마 10cm 조각\\n- 가쓰오부시 1컵\\n- 간장 3큰술\\n- 미림 2큰술\\n- 소금 약간\\n- 대파 (썰어서) 1대\\n- 버섯 (표고버섯, 느타리버섯 등) 100g\\n- 시금치 또는 다른 채소 (선택사항)\\n- 튀김가루 (텐푸라용, 선택사항)\\n\\n### 조리 방법\\n\\n1. **육수 만들기**:\\n   - 냄비에 물과 다시마를 넣고 중불에서 끓입니다. 끓기 시작하면 다시마를 제거합니다.\\n   - 가쓰오부시를 넣고 5분 정도 끓인 후, 체에 걸러 육수를 만듭니다.\\n\\n2. **국물 간 맞추기**:\\n   - 육수에 간장, 미림, 소금을 넣고 잘 섞어 간을 맞춥니다. 필요에 따라 간장을 추가할 수 있습니다.\\n\\n3. **우동 면 삶기**:\\n   - 다른 냄비에 물을 끓이고 우동 면을 넣어 포장지에 적힌 시간에 맞춰 삶습니다. 삶은 후 찬물에 헹궈 전분을 제거합니다.\\n\\n4. **재료 준비**:\\n   - 버섯과 채소를 적당한 크기로 썰어 준비합니다. 대파는 송송 썰어줍니다.\\n\\n5. **우동 조리**:\\n   - 육수를 다시 끓이고, 준비한 버섯과 채소를 넣어 익힙니다.\\n   - 삶은 우동 면을 넣고 1-2분 정도 더 끓입니다.\\n\\n6. **서빙**:\\n   - 그릇에 우동을 담고, 국물을 부은 후 대파를 올립니다. 원한다면 튀김가루를 올려서 함께 즐기세요.\\n\\n### 팁\\n- 우동에 추가할 수 있는 재료로는 계란, 해산물, 고기 등을 넣어도 좋습니다.\\n- 매운 맛을 원하신다면 고추가루를 추가해 보세요.\\n\\n맛있게 드세요!']\n"
          ]
        }
      ],
      "source": [
        "chain = prompt | model | output_parser\n",
        "\n",
        "outputs = chain.batch([{\"dish\": \"카레\"}, {\"dish\": \"우동\"}])\n",
        "print(outputs)"
      ]
    },
    {
      "cell_type": "markdown",
      "metadata": {
        "id": "d2QALc2_gpk3"
      },
      "source": [
        "### LCEL의 \"|\"로 다양한 Runnable 연결하기\n"
      ]
    },
    {
      "cell_type": "code",
      "execution_count": 9,
      "metadata": {
        "execution": {
          "iopub.execute_input": "2024-06-28T02:33:38.984366Z",
          "iopub.status.busy": "2024-06-28T02:33:38.983620Z",
          "iopub.status.idle": "2024-06-28T02:33:39.072077Z",
          "shell.execute_reply": "2024-06-28T02:33:39.071585Z"
        },
        "id": "f3Djwd2Tgpk3"
      },
      "outputs": [],
      "source": [
        "from langchain_core.output_parsers import StrOutputParser\n",
        "from langchain_core.prompts import ChatPromptTemplate\n",
        "from langchain_openai import ChatOpenAI\n",
        "\n",
        "model = ChatOpenAI(model=\"gpt-4o-mini\", temperature=0)\n",
        "\n",
        "output_parser = StrOutputParser()"
      ]
    },
    {
      "cell_type": "code",
      "execution_count": 10,
      "metadata": {
        "execution": {
          "iopub.execute_input": "2024-06-28T02:33:39.073954Z",
          "iopub.status.busy": "2024-06-28T02:33:39.073805Z",
          "iopub.status.idle": "2024-06-28T02:33:39.076746Z",
          "shell.execute_reply": "2024-06-28T02:33:39.076291Z"
        },
        "id": "dCC0nUongpk3"
      },
      "outputs": [],
      "source": [
        "cot_prompt = ChatPromptTemplate.from_messages(\n",
        "    [\n",
        "        (\"system\", \"사용자의 질문에 단계적으로 답변해 주세요.\"),\n",
        "        (\"human\", \"{question}\"),\n",
        "    ]\n",
        ")\n",
        "\n",
        "cot_chain = cot_prompt | model | output_parser"
      ]
    },
    {
      "cell_type": "code",
      "execution_count": 11,
      "metadata": {
        "execution": {
          "iopub.execute_input": "2024-06-28T02:33:39.078597Z",
          "iopub.status.busy": "2024-06-28T02:33:39.078287Z",
          "iopub.status.idle": "2024-06-28T02:33:39.080804Z",
          "shell.execute_reply": "2024-06-28T02:33:39.080464Z"
        },
        "id": "26AxQ2Pygpk3"
      },
      "outputs": [],
      "source": [
        "summarize_prompt = ChatPromptTemplate.from_messages(\n",
        "    [\n",
        "        (\"system\", \"단계적으로 생각한 답변에서 결론만 추출해 주세요.\"),\n",
        "        (\"human\", \"{text}\"),\n",
        "    ]\n",
        ")\n",
        "\n",
        "summarize_chain = summarize_prompt | model | output_parser"
      ]
    },
    {
      "cell_type": "code",
      "execution_count": 12,
      "metadata": {
        "execution": {
          "iopub.execute_input": "2024-06-28T02:33:39.082487Z",
          "iopub.status.busy": "2024-06-28T02:33:39.082344Z",
          "iopub.status.idle": "2024-06-28T02:33:42.144944Z",
          "shell.execute_reply": "2024-06-28T02:33:42.144538Z"
        },
        "id": "VDRZWSxqgpk3",
        "outputId": "cb336331-8708-4aeb-f792-b41f4b995a7a",
        "colab": {
          "base_uri": "https://localhost:8080/"
        }
      },
      "outputs": [
        {
          "output_type": "stream",
          "name": "stdout",
          "text": [
            "결론: \\(10 + 2 * 3 = 16\\)입니다.\n"
          ]
        }
      ],
      "source": [
        "cot_summarize_chain = cot_chain | summarize_chain\n",
        "output = cot_summarize_chain.invoke({\"question\": \"10 + 2 * 3\"})\n",
        "print(output)"
      ]
    },
    {
      "cell_type": "markdown",
      "metadata": {
        "id": "Hu5nZTZFgpk3"
      },
      "source": [
        "## 5.2. RunnableLambda―임의의 함수를 Runnable로 만들기\n"
      ]
    },
    {
      "cell_type": "code",
      "execution_count": 13,
      "metadata": {
        "execution": {
          "iopub.execute_input": "2024-06-28T02:33:42.146898Z",
          "iopub.status.busy": "2024-06-28T02:33:42.146736Z",
          "iopub.status.idle": "2024-06-28T02:33:42.204154Z",
          "shell.execute_reply": "2024-06-28T02:33:42.203681Z"
        },
        "id": "POlYJCm4gpk4"
      },
      "outputs": [],
      "source": [
        "from langchain_core.output_parsers import StrOutputParser\n",
        "from langchain_core.prompts import ChatPromptTemplate\n",
        "from langchain_openai import ChatOpenAI\n",
        "\n",
        "prompt = ChatPromptTemplate.from_messages(\n",
        "    [\n",
        "        (\"system\", \"You are a helpful assistant.\"),\n",
        "        (\"human\", \"{input}\"),\n",
        "    ]\n",
        ")\n",
        "\n",
        "model = ChatOpenAI(model=\"gpt-4o-mini\", temperature=0)\n",
        "\n",
        "output_parser = StrOutputParser()"
      ]
    },
    {
      "cell_type": "code",
      "execution_count": 14,
      "metadata": {
        "execution": {
          "iopub.execute_input": "2024-06-28T02:33:42.206082Z",
          "iopub.status.busy": "2024-06-28T02:33:42.205909Z",
          "iopub.status.idle": "2024-06-28T02:33:43.030226Z",
          "shell.execute_reply": "2024-06-28T02:33:43.029756Z"
        },
        "id": "y8DJj3qvgpk4",
        "outputId": "2ebe7cf2-64b0-4695-f64b-6c69dcd07b8c",
        "colab": {
          "base_uri": "https://localhost:8080/"
        }
      },
      "outputs": [
        {
          "output_type": "stream",
          "name": "stdout",
          "text": [
            "HELLO! HOW CAN I ASSIST YOU TODAY?\n"
          ]
        }
      ],
      "source": [
        "from langchain_core.runnables import RunnableLambda\n",
        "\n",
        "\n",
        "def upper(text: str) -> str:\n",
        "    return text.upper()\n",
        "\n",
        "\n",
        "chain = prompt | model | output_parser | RunnableLambda(upper)\n",
        "\n",
        "ai_message = chain.invoke({\"input\": \"Hello!\"})\n",
        "print(ai_message)"
      ]
    },
    {
      "cell_type": "markdown",
      "metadata": {
        "id": "jjfB51xjgpk4"
      },
      "source": [
        "### chain 데코레이터를 사용한 RunnableLambda 구현\n"
      ]
    },
    {
      "cell_type": "code",
      "execution_count": 15,
      "metadata": {
        "execution": {
          "iopub.execute_input": "2024-06-28T02:33:43.032211Z",
          "iopub.status.busy": "2024-06-28T02:33:43.032048Z",
          "iopub.status.idle": "2024-06-28T02:33:43.501555Z",
          "shell.execute_reply": "2024-06-28T02:33:43.499283Z"
        },
        "id": "6A7mxm6ugpk4",
        "outputId": "56916a99-d59b-409d-b224-bca96a2aaebd",
        "colab": {
          "base_uri": "https://localhost:8080/"
        }
      },
      "outputs": [
        {
          "output_type": "stream",
          "name": "stdout",
          "text": [
            "HELLO! HOW CAN I ASSIST YOU TODAY?\n"
          ]
        }
      ],
      "source": [
        "from langchain_core.runnables import chain\n",
        "\n",
        "\n",
        "@chain\n",
        "def upper(text: str) -> str:\n",
        "    return text.upper()\n",
        "\n",
        "\n",
        "chain = prompt | model | output_parser | upper\n",
        "\n",
        "ai_message = chain.invoke({\"input\": \"Hello!\"})\n",
        "print(ai_message)"
      ]
    },
    {
      "cell_type": "markdown",
      "metadata": {
        "id": "VJCe5l0Ngpk4"
      },
      "source": [
        "### RunnableLambda 자동 변환\n"
      ]
    },
    {
      "cell_type": "code",
      "execution_count": 16,
      "metadata": {
        "execution": {
          "iopub.execute_input": "2024-06-28T02:33:43.508518Z",
          "iopub.status.busy": "2024-06-28T02:33:43.508321Z",
          "iopub.status.idle": "2024-06-28T02:33:43.511080Z",
          "shell.execute_reply": "2024-06-28T02:33:43.510672Z"
        },
        "id": "xTSxNdrFgpk4"
      },
      "outputs": [],
      "source": [
        "def upper(text: str) -> str:\n",
        "    return text.upper()\n",
        "\n",
        "\n",
        "chain = prompt | model | output_parser | upper"
      ]
    },
    {
      "cell_type": "code",
      "execution_count": 17,
      "metadata": {
        "execution": {
          "iopub.execute_input": "2024-06-28T02:33:43.512885Z",
          "iopub.status.busy": "2024-06-28T02:33:43.512594Z",
          "iopub.status.idle": "2024-06-28T02:33:43.961318Z",
          "shell.execute_reply": "2024-06-28T02:33:43.960803Z"
        },
        "id": "kcZUxBzegpk4",
        "outputId": "48a62adf-c39d-4479-f171-80d665946e8f",
        "colab": {
          "base_uri": "https://localhost:8080/"
        }
      },
      "outputs": [
        {
          "output_type": "stream",
          "name": "stdout",
          "text": [
            "HELLO! HOW CAN I ASSIST YOU TODAY?\n"
          ]
        }
      ],
      "source": [
        "ai_message = chain.invoke({\"input\": \"Hello!\"})\n",
        "print(ai_message)"
      ]
    },
    {
      "cell_type": "markdown",
      "metadata": {
        "id": "AEZdX1idgpk4"
      },
      "source": [
        "### Runnable의 입력 타입과 출력 타입에 주의\n"
      ]
    },
    {
      "cell_type": "code",
      "execution_count": 18,
      "metadata": {
        "execution": {
          "iopub.execute_input": "2024-06-28T02:33:43.963174Z",
          "iopub.status.busy": "2024-06-28T02:33:43.963026Z",
          "iopub.status.idle": "2024-06-28T02:33:43.965674Z",
          "shell.execute_reply": "2024-06-28T02:33:43.965305Z"
        },
        "id": "BgXWvKxSgpk4"
      },
      "outputs": [],
      "source": [
        "def upper(text: str) -> str:\n",
        "    return text.upper()\n",
        "\n",
        "\n",
        "chain = prompt | model | upper\n",
        "\n",
        "# 아래 코드를 실행하면 오류가 발생합니다\n",
        "# output = chain.invoke({\"input\": \"Hello!\"})"
      ]
    },
    {
      "cell_type": "code",
      "execution_count": 19,
      "metadata": {
        "execution": {
          "iopub.execute_input": "2024-06-28T02:33:43.967542Z",
          "iopub.status.busy": "2024-06-28T02:33:43.967246Z",
          "iopub.status.idle": "2024-06-28T02:33:44.531734Z",
          "shell.execute_reply": "2024-06-28T02:33:44.531210Z"
        },
        "id": "maAuLYwXgpk4"
      },
      "outputs": [],
      "source": [
        "chain = prompt | model | StrOutputParser() | upper"
      ]
    },
    {
      "cell_type": "code",
      "execution_count": 20,
      "metadata": {
        "id": "zatE6tdcgpk5",
        "outputId": "ad9c01fe-d1b3-42a6-980a-e628f2e9ef95",
        "colab": {
          "base_uri": "https://localhost:8080/"
        }
      },
      "outputs": [
        {
          "output_type": "stream",
          "name": "stdout",
          "text": [
            "HELLO! HOW CAN I ASSIST YOU TODAY?\n"
          ]
        }
      ],
      "source": [
        "output = chain.invoke({\"input\": \"Hello!\"})\n",
        "print(output)"
      ]
    },
    {
      "cell_type": "markdown",
      "metadata": {
        "id": "pyx---Y6gpk5"
      },
      "source": [
        "### (칼럼) 사용자 함수를 stream에 대응시키는 방법\n"
      ]
    },
    {
      "cell_type": "code",
      "execution_count": 21,
      "metadata": {
        "execution": {
          "iopub.execute_input": "2024-06-28T02:33:44.533838Z",
          "iopub.status.busy": "2024-06-28T02:33:44.533678Z",
          "iopub.status.idle": "2024-06-28T02:33:45.353621Z",
          "shell.execute_reply": "2024-06-28T02:33:45.353115Z"
        },
        "id": "uMj9etfGgpk5",
        "outputId": "0a74a1c6-ec35-460f-9546-88af39ffdc9e",
        "colab": {
          "base_uri": "https://localhost:8080/"
        }
      },
      "outputs": [
        {
          "output_type": "stream",
          "name": "stdout",
          "text": [
            "HELLO! HOW CAN I ASSIST YOU TODAY?"
          ]
        }
      ],
      "source": [
        "from typing import Iterator\n",
        "\n",
        "\n",
        "def upper(input_stream: Iterator[str]) -> Iterator[str]:\n",
        "    for text in input_stream:\n",
        "        yield text.upper()\n",
        "\n",
        "\n",
        "chain = prompt | model | StrOutputParser() | upper\n",
        "\n",
        "for chunk in chain.stream({\"input\": \"Hello!\"}):\n",
        "    print(chunk, end=\"\", flush=True)"
      ]
    },
    {
      "cell_type": "markdown",
      "metadata": {
        "id": "BklIITh1gpk5"
      },
      "source": [
        "## 5.3. RunnableParallel―여러 Runnable을 병렬로 처리하기\n"
      ]
    },
    {
      "cell_type": "code",
      "execution_count": 22,
      "metadata": {
        "execution": {
          "iopub.execute_input": "2024-06-28T02:33:45.355560Z",
          "iopub.status.busy": "2024-06-28T02:33:45.355402Z",
          "iopub.status.idle": "2024-06-28T02:33:45.407879Z",
          "shell.execute_reply": "2024-06-28T02:33:45.407407Z"
        },
        "id": "q69b2WNfgpk5"
      },
      "outputs": [],
      "source": [
        "from langchain_core.output_parsers import StrOutputParser\n",
        "from langchain_core.prompts import ChatPromptTemplate\n",
        "from langchain_openai import ChatOpenAI\n",
        "\n",
        "model = ChatOpenAI(model=\"gpt-4o-mini\", temperature=0)\n",
        "output_parser = StrOutputParser()"
      ]
    },
    {
      "cell_type": "code",
      "execution_count": 23,
      "metadata": {
        "execution": {
          "iopub.execute_input": "2024-06-28T02:33:45.409670Z",
          "iopub.status.busy": "2024-06-28T02:33:45.409524Z",
          "iopub.status.idle": "2024-06-28T02:33:45.412232Z",
          "shell.execute_reply": "2024-06-28T02:33:45.411889Z"
        },
        "id": "vDdo367ogpk5"
      },
      "outputs": [],
      "source": [
        "optimistic_prompt = ChatPromptTemplate.from_messages(\n",
        "    [\n",
        "        (\"system\", \"당신은 낙관주의자입니다. 사용자의 입력에 대해 낙관적인 의견을 제공해 주세요.\"),\n",
        "        (\"human\", \"{topic}\"),\n",
        "    ]\n",
        ")\n",
        "optimistic_chain = optimistic_prompt | model | output_parser"
      ]
    },
    {
      "cell_type": "code",
      "execution_count": 24,
      "metadata": {
        "execution": {
          "iopub.execute_input": "2024-06-28T02:33:45.414087Z",
          "iopub.status.busy": "2024-06-28T02:33:45.413807Z",
          "iopub.status.idle": "2024-06-28T02:33:45.416778Z",
          "shell.execute_reply": "2024-06-28T02:33:45.416359Z"
        },
        "id": "_96vanPzgpk5"
      },
      "outputs": [],
      "source": [
        "pessimistic_prompt = ChatPromptTemplate.from_messages(\n",
        "    [\n",
        "        (\"system\", \"당신은 비관주의자입니다. 사용자의 입력에 대해 비관적인 의견을 제공해 주세요.\"),\n",
        "        (\"human\", \"{topic}\"),\n",
        "    ]\n",
        ")\n",
        "pessimistic_chain = pessimistic_prompt | model | output_parser"
      ]
    },
    {
      "cell_type": "code",
      "execution_count": 25,
      "metadata": {
        "execution": {
          "iopub.execute_input": "2024-06-28T02:33:45.418636Z",
          "iopub.status.busy": "2024-06-28T02:33:45.418458Z",
          "iopub.status.idle": "2024-06-28T02:33:48.115947Z",
          "shell.execute_reply": "2024-06-28T02:33:48.115444Z"
        },
        "id": "4jE7_Kg5gpk5",
        "outputId": "e815432a-5e1f-4889-b881-8a9278bb23f6",
        "colab": {
          "base_uri": "https://localhost:8080/"
        }
      },
      "outputs": [
        {
          "output_type": "stream",
          "name": "stdout",
          "text": [
            "{'optimistic_opinion': '생성 AI의 진화는 정말 흥미로운 주제입니다! 기술이 발전함에 따라 우리는 더욱 창의적이고 '\n",
            "                       '혁신적인 도구를 얻게 될 것입니다. AI가 예술, 음악, 글쓰기 등 다양한 분야에서 사람들과 '\n",
            "                       '협력하여 새로운 형태의 창작물을 만들어내는 모습을 상상해보세요. \\n'\n",
            "                       '\\n'\n",
            "                       '또한, 생성 AI는 개인화된 경험을 제공하고, 교육, 의료, 비즈니스 등 여러 분야에서 효율성을 '\n",
            "                       '높이는 데 큰 역할을 할 것입니다. 이러한 발전은 우리의 삶을 더욱 풍요롭게 하고, 새로운 기회를 '\n",
            "                       '창출할 것입니다. 앞으로의 가능성은 무궁무진하니, 기대가 됩니다!',\n",
            " 'pessimistic_opinion': '생성 AI의 진화는 분명 흥미로운 주제이지만, 그 이면에는 많은 우려가 존재합니다. 기술이 '\n",
            "                        '발전함에 따라 우리는 더욱 정교한 AI를 경험하게 될 것이지만, 이는 동시에 인간의 창의성과 '\n",
            "                        '직업을 위협할 가능성이 큽니다. \\n'\n",
            "                        '\\n'\n",
            "                        'AI가 생성하는 콘텐츠의 품질이 높아질수록, 사람들은 점점 더 AI에 의존하게 될 것이고, 이는 '\n",
            "                        '결국 인간의 사고력과 창의력을 저하시킬 수 있습니다. 또한, AI가 만들어내는 정보의 신뢰성 '\n",
            "                        '문제도 심각합니다. 잘못된 정보나 편향된 데이터로 인해 사회가 더욱 혼란스러워질 수 있습니다.\\n'\n",
            "                        '\\n'\n",
            "                        '결국, 생성 AI의 진화는 기술적 진보를 가져오겠지만, 그로 인해 발생할 수 있는 윤리적, '\n",
            "                        '사회적 문제들은 결코 간과할 수 없는 요소입니다. 우리는 이 기술이 가져올 부정적인 영향에 대해 '\n",
            "                        '경계해야 할 필요가 있습니다.'}\n"
          ]
        }
      ],
      "source": [
        "import pprint\n",
        "from langchain_core.runnables import RunnableParallel\n",
        "\n",
        "parallel_chain = RunnableParallel(\n",
        "    {\n",
        "        \"optimistic_opinion\": optimistic_chain,\n",
        "        \"pessimistic_opinion\": pessimistic_chain,\n",
        "    }\n",
        ")\n",
        "\n",
        "output = parallel_chain.invoke({\"topic\": \"생성 AI의 진화에 관해\"})\n",
        "pprint.pprint(output)"
      ]
    },
    {
      "cell_type": "markdown",
      "metadata": {
        "id": "eh_836fMgpk6"
      },
      "source": [
        "### RunnableParallel의 출력을 Runnable의 입력으로 연결하기\n"
      ]
    },
    {
      "cell_type": "code",
      "execution_count": 26,
      "metadata": {
        "execution": {
          "iopub.execute_input": "2024-06-28T02:33:48.117879Z",
          "iopub.status.busy": "2024-06-28T02:33:48.117728Z",
          "iopub.status.idle": "2024-06-28T02:33:54.979992Z",
          "shell.execute_reply": "2024-06-28T02:33:54.978363Z"
        },
        "id": "HnU_2vpvgpk6"
      },
      "outputs": [],
      "source": [
        "synthesize_prompt = ChatPromptTemplate.from_messages(\n",
        "    [\n",
        "        (\"system\", \"당신은 객관적 AI입니다. 두 가지 의견을 종합해 주세요.\"),\n",
        "        (\"human\", \"낙관적 의견: {optimistic_opinion}\\n비관적 의견: {pessimistic_opinion}\"),\n",
        "    ]\n",
        ")"
      ]
    },
    {
      "cell_type": "code",
      "execution_count": 27,
      "metadata": {
        "id": "NZf4LL47gpk6",
        "outputId": "48a42783-af2e-4461-88d5-1056fdc33e6e",
        "colab": {
          "base_uri": "https://localhost:8080/"
        }
      },
      "outputs": [
        {
          "output_type": "stream",
          "name": "stdout",
          "text": [
            "생성 AI의 진화에 대한 두 가지 의견은 서로 상반된 시각을 제시하고 있습니다. 낙관적인 시각에서는 AI 기술의 발전이 창의성, 문제 해결, 그리고 인간의 삶을 풍요롭게 만드는 데 기여할 것이라고 강조합니다. AI는 예술, 음악, 글쓰기 등 다양한 분야에서 새로운 창작물을 만들어내고, 개인 맞춤형 콘텐츠 제공 및 교육 분야에서도 긍정적인 변화를 가져올 것으로 기대됩니다. 이러한 기술이 인간의 상상력을 확장하고 새로운 아이디어를 탐구하는 데 도움을 줄 것이라는 점에서 희망적인 미래를 제시합니다.\n",
            "\n",
            "반면, 비관적인 시각에서는 AI의 발전이 인간의 창의성과 고유한 사고 능력을 무시할 위험이 있다고 경고합니다. AI가 생성하는 콘텐츠의 증가로 인해 진정한 예술성과 독창성이 사라질 수 있으며, 사람들은 AI에 의존하게 되어 인간의 감정과 경험이 담긴 창작물이 희귀해질 것이라는 우려가 있습니다. 또한, AI의 발전은 윤리적 문제를 동반하며, 잘못된 정보나 편향된 데이터로 인해 사회에 미치는 영향이 심각할 수 있다는 점을 지적합니다.\n",
            "\n",
            "결론적으로, 생성 AI의 진화는 기술적 진보를 가져오지만, 그 과정에서 인간성의 일부를 잃고 복잡한 사회적 문제에 직면할 가능성도 존재합니다. 따라서 이러한 기술의 발전을 긍정적으로 활용하기 위해서는 윤리적 고려와 인간의 창의성을 존중하는 방향으로 나아가야 할 필요성이 있습니다.\n"
          ]
        }
      ],
      "source": [
        "synthesize_chain = (\n",
        "    RunnableParallel(\n",
        "        {\n",
        "            \"optimistic_opinion\": optimistic_chain,\n",
        "            \"pessimistic_opinion\": pessimistic_chain,\n",
        "        }\n",
        "    )\n",
        "    | synthesize_prompt\n",
        "    | model\n",
        "    | output_parser\n",
        ")\n",
        "\n",
        "output = synthesize_chain.invoke({\"topic\": \"생성 AI의 진화에 관해\"})\n",
        "print(output)"
      ]
    },
    {
      "cell_type": "markdown",
      "metadata": {
        "id": "COKJXWrsgpk6"
      },
      "source": [
        "### RunnableParallel 자동 변환\n"
      ]
    },
    {
      "cell_type": "code",
      "execution_count": 28,
      "metadata": {
        "execution": {
          "iopub.execute_input": "2024-06-28T02:33:54.986651Z",
          "iopub.status.busy": "2024-06-28T02:33:54.986098Z",
          "iopub.status.idle": "2024-06-28T02:33:54.994428Z",
          "shell.execute_reply": "2024-06-28T02:33:54.992735Z"
        },
        "id": "TycHWzFegpk6"
      },
      "outputs": [],
      "source": [
        "synthesize_chain = (\n",
        "    {\n",
        "        \"optimistic_opinion\": optimistic_chain,\n",
        "        \"pessimistic_opinion\": pessimistic_chain,\n",
        "    }\n",
        "    | synthesize_prompt\n",
        "    | model\n",
        "    | output_parser\n",
        ")"
      ]
    },
    {
      "cell_type": "code",
      "execution_count": 29,
      "metadata": {
        "execution": {
          "iopub.execute_input": "2024-06-28T02:33:55.000866Z",
          "iopub.status.busy": "2024-06-28T02:33:55.000312Z",
          "iopub.status.idle": "2024-06-28T02:34:01.170210Z",
          "shell.execute_reply": "2024-06-28T02:34:01.169705Z"
        },
        "id": "B2tXTmJegpk7",
        "outputId": "33050bd5-c8dd-45e0-a8ff-f14c096ed41a",
        "colab": {
          "base_uri": "https://localhost:8080/"
        }
      },
      "outputs": [
        {
          "output_type": "stream",
          "name": "stdout",
          "text": [
            "생성 AI의 진화에 대한 두 가지 의견은 기술 발전의 긍정적인 가능성과 그로 인한 우려를 잘 보여줍니다. \n",
            "\n",
            "낙관적인 시각에서는 생성 AI가 예술, 음악, 글쓰기 등 다양한 분야에서 창의성과 혁신을 촉진하며, 인간과 AI의 협력이 더욱 깊어질 것이라고 강조합니다. 이러한 발전은 새로운 아이디어와 관점을 제공하고, 사회에 긍정적인 영향을 미칠 것으로 기대됩니다.\n",
            "\n",
            "반면, 비관적인 시각에서는 생성 AI의 발전이 인간의 창의성과 노동을 대체할 위험이 있으며, 이는 일자리 상실과 사회적 불평등을 초래할 수 있다고 경고합니다. 또한, 생성 AI가 만들어내는 콘텐츠의 품질과 신뢰성 문제, 그리고 인간의 비판적 사고 능력 저하와 같은 윤리적, 사회적 문제도 간과할 수 없다고 지적합니다.\n",
            "\n",
            "결론적으로, 생성 AI의 진화는 기술적 진보를 가져오지만, 그에 따른 사회적, 윤리적 문제를 해결하기 위한 준비와 논의가 필요합니다. 긍정적인 가능성과 부정적인 우려를 균형 있게 고려하며, 지속 가능한 발전을 도모하는 것이 중요합니다.\n"
          ]
        }
      ],
      "source": [
        "output = synthesize_chain.invoke({\"topic\": \"생성 AI의 진화에 관해\"})\n",
        "print(output)"
      ]
    },
    {
      "cell_type": "markdown",
      "metadata": {
        "id": "iNN-x47bgpk7"
      },
      "source": [
        "### RunnableLambda와의 조합―itemgetter를 사용한 예시\n"
      ]
    },
    {
      "cell_type": "code",
      "execution_count": 30,
      "metadata": {
        "execution": {
          "iopub.execute_input": "2024-06-28T02:34:01.172136Z",
          "iopub.status.busy": "2024-06-28T02:34:01.171982Z",
          "iopub.status.idle": "2024-06-28T02:34:01.174756Z",
          "shell.execute_reply": "2024-06-28T02:34:01.174370Z"
        },
        "id": "_0CLV_6sgpk7",
        "outputId": "3e5fc284-c316-42a2-fee1-c1b43f527b59",
        "colab": {
          "base_uri": "https://localhost:8080/"
        }
      },
      "outputs": [
        {
          "output_type": "stream",
          "name": "stdout",
          "text": [
            "생성 AI의 진화에 관해\n"
          ]
        }
      ],
      "source": [
        "from operator import itemgetter\n",
        "\n",
        "topic_getter = itemgetter(\"topic\")\n",
        "topic = topic_getter({\"topic\": \"생성 AI의 진화에 관해\"})\n",
        "print(topic)"
      ]
    },
    {
      "cell_type": "code",
      "execution_count": 31,
      "metadata": {
        "execution": {
          "iopub.execute_input": "2024-06-28T02:34:01.176493Z",
          "iopub.status.busy": "2024-06-28T02:34:01.176278Z",
          "iopub.status.idle": "2024-06-28T02:34:09.682638Z",
          "shell.execute_reply": "2024-06-28T02:34:09.682146Z"
        },
        "id": "mXj7XLL5gpk7",
        "outputId": "c2b64a24-cbea-4a27-f532-fd46ffdabc6b",
        "colab": {
          "base_uri": "https://localhost:8080/"
        }
      },
      "outputs": [
        {
          "output_type": "stream",
          "name": "stdout",
          "text": [
            "생성 AI의 진화에 대한 두 가지 의견은 기술 발전의 긍정적인 측면과 부정적인 측면을 잘 보여줍니다.\n",
            "\n",
            "낙관적인 시각에서는 생성 AI가 예술, 음악, 글쓰기 등 다양한 분야에서 창의성과 혁신을 촉진하며, 인간과 AI 간의 협력이 더욱 깊어질 것이라고 강조합니다. 이러한 발전은 새로운 아이디어와 솔루션을 창출하는 데 기여하고, 사회에 긍정적인 영향을 미칠 것으로 기대됩니다. AI는 사람들의 상상력을 자극하고, 협업을 통해 더 나은 미래를 만들어가는 데 중요한 역할을 할 수 있습니다.\n",
            "\n",
            "반면, 비관적인 시각에서는 생성 AI의 발전이 인간의 창의성과 직업을 위협할 수 있으며, AI에 대한 의존도가 높아짐에 따라 인간의 사고력과 창의력이 저하될 우려가 있다고 지적합니다. 또한, AI가 생성하는 콘텐츠의 품질과 신뢰성 문제는 사회적 혼란을 초래할 수 있으며, 이러한 윤리적, 사회적 문제들은 간과할 수 없는 요소로 남아 있습니다. 결국, 생성 AI의 진화는 기술적 진보를 가져오지만, 그로 인해 발생할 수 있는 부작용에 대한 준비가 필요하다는 경고를 담고 있습니다.\n",
            "\n",
            "이 두 가지 의견은 생성 AI의 발전이 가져올 수 있는 다양한 가능성과 위험을 균형 있게 이해하는 데 중요한 시사점을 제공합니다.\n"
          ]
        }
      ],
      "source": [
        "from operator import itemgetter\n",
        "\n",
        "synthesize_prompt = ChatPromptTemplate.from_messages(\n",
        "    [\n",
        "        (\n",
        "            \"system\",\n",
        "            \"당신은 객관적 AI입니다. {topic}에 대한 두 가지 의견을 종합해 주세요.\",\n",
        "        ),\n",
        "        (\n",
        "            \"human\",\n",
        "            \"낙관적 의견: {optimistic_opinion}\\n비관적 의견: {pessimistic_opinion}\",\n",
        "        ),\n",
        "    ]\n",
        ")\n",
        "\n",
        "synthesize_chain = (\n",
        "    {\n",
        "        \"optimistic_opinion\": optimistic_chain,\n",
        "        \"pessimistic_opinion\": pessimistic_chain,\n",
        "        \"topic\": itemgetter(\"topic\"),\n",
        "    }\n",
        "    | synthesize_prompt\n",
        "    | model\n",
        "    | output_parser\n",
        ")\n",
        "\n",
        "output = synthesize_chain.invoke({\"topic\": \"생성 AI의 진화에 관해\"})\n",
        "print(output)"
      ]
    },
    {
      "cell_type": "markdown",
      "metadata": {
        "id": "AIWPMfaHgpk7"
      },
      "source": [
        "## 5.4. RunnablePassthrough―입력을 그대로 출력하기\n"
      ]
    },
    {
      "cell_type": "code",
      "execution_count": 33,
      "metadata": {
        "id": "wZEBEbd9gpk7"
      },
      "outputs": [],
      "source": [
        "import os\n",
        "from google.colab import userdata\n",
        "\n",
        "os.environ[\"TAVILY_API_KEY\"] = userdata.get(\"TAVILY_API_KEY\")"
      ]
    },
    {
      "cell_type": "code",
      "execution_count": 34,
      "metadata": {
        "id": "1mFb4dTHgpk7",
        "outputId": "91f07dca-3ac1-4b73-9146-215e84c87ea6",
        "colab": {
          "base_uri": "https://localhost:8080/"
        }
      },
      "outputs": [
        {
          "output_type": "stream",
          "name": "stdout",
          "text": [
            "Collecting tavily-python==0.5.0\n",
            "  Downloading tavily_python-0.5.0-py3-none-any.whl.metadata (11 kB)\n",
            "Requirement already satisfied: requests in /usr/local/lib/python3.11/dist-packages (from tavily-python==0.5.0) (2.32.3)\n",
            "Requirement already satisfied: tiktoken>=0.5.1 in /usr/local/lib/python3.11/dist-packages (from tavily-python==0.5.0) (0.9.0)\n",
            "Requirement already satisfied: httpx in /usr/local/lib/python3.11/dist-packages (from tavily-python==0.5.0) (0.28.1)\n",
            "Requirement already satisfied: regex>=2022.1.18 in /usr/local/lib/python3.11/dist-packages (from tiktoken>=0.5.1->tavily-python==0.5.0) (2024.11.6)\n",
            "Requirement already satisfied: charset-normalizer<4,>=2 in /usr/local/lib/python3.11/dist-packages (from requests->tavily-python==0.5.0) (3.4.1)\n",
            "Requirement already satisfied: idna<4,>=2.5 in /usr/local/lib/python3.11/dist-packages (from requests->tavily-python==0.5.0) (3.10)\n",
            "Requirement already satisfied: urllib3<3,>=1.21.1 in /usr/local/lib/python3.11/dist-packages (from requests->tavily-python==0.5.0) (2.3.0)\n",
            "Requirement already satisfied: certifi>=2017.4.17 in /usr/local/lib/python3.11/dist-packages (from requests->tavily-python==0.5.0) (2025.1.31)\n",
            "Requirement already satisfied: anyio in /usr/local/lib/python3.11/dist-packages (from httpx->tavily-python==0.5.0) (3.7.1)\n",
            "Requirement already satisfied: httpcore==1.* in /usr/local/lib/python3.11/dist-packages (from httpx->tavily-python==0.5.0) (1.0.7)\n",
            "Requirement already satisfied: h11<0.15,>=0.13 in /usr/local/lib/python3.11/dist-packages (from httpcore==1.*->httpx->tavily-python==0.5.0) (0.14.0)\n",
            "Requirement already satisfied: sniffio>=1.1 in /usr/local/lib/python3.11/dist-packages (from anyio->httpx->tavily-python==0.5.0) (1.3.1)\n",
            "Downloading tavily_python-0.5.0-py3-none-any.whl (14 kB)\n",
            "Installing collected packages: tavily-python\n",
            "Successfully installed tavily-python-0.5.0\n"
          ]
        }
      ],
      "source": [
        "!pip install tavily-python==0.5.0"
      ]
    },
    {
      "cell_type": "code",
      "execution_count": 50,
      "metadata": {
        "id": "tkeaFNJtgpk7"
      },
      "outputs": [],
      "source": [
        "from langchain_core.prompts import ChatPromptTemplate\n",
        "from langchain_openai import ChatOpenAI\n",
        "\n",
        "prompt = ChatPromptTemplate.from_template('''\\\n",
        "다음 문맥만을 고려하여 질문에 답변해 주세요.\n",
        "\n",
        "문맥: \"\"\"\n",
        "{context}\n",
        "\"\"\"\n",
        "\n",
        "질문: {question}\n",
        "''')\n",
        "\n",
        "model = ChatOpenAI(model_name=\"gpt-4o-mini\", temperature=0)"
      ]
    },
    {
      "cell_type": "code",
      "execution_count": 63,
      "metadata": {
        "id": "bGANXxDTgpk7"
      },
      "outputs": [],
      "source": [
        "from langchain_community.retrievers import TavilySearchAPIRetriever\n",
        "\n",
        "retriever = TavilySearchAPIRetriever(k=3)"
      ]
    },
    {
      "cell_type": "code",
      "execution_count": 66,
      "metadata": {
        "id": "GRwWTmr4gpk8",
        "outputId": "5a8e8eae-80c5-410c-fb1d-f5a9ef983b34",
        "colab": {
          "base_uri": "https://localhost:8080/"
        }
      },
      "outputs": [
        {
          "output_type": "stream",
          "name": "stdout",
          "text": [
            "서울의 현재 날씨는 31°F(약 -0.6°C)이며, 체감 온도는 36°F(약 2.2°C)입니다. 바람은 남남서쪽에서 시속 4마일(약 6.4km/h)로 불고 있으며, 강수 확률은 40%입니다. 날씨는 맑고 추운 상태입니다.\n"
          ]
        }
      ],
      "source": [
        "from langchain_core.runnables import RunnablePassthrough\n",
        "\n",
        "chain = (\n",
        "    {\"context\": retriever, \"question\": RunnablePassthrough()}\n",
        "    | prompt\n",
        "    | model\n",
        "    | StrOutputParser()\n",
        ")\n",
        "\n",
        "output = chain.invoke(\"서울의 현재 날씨는?\")\n",
        "print(output)"
      ]
    },
    {
      "cell_type": "markdown",
      "metadata": {
        "id": "CWMIB2fegpk8"
      },
      "source": [
        "### assign―RunnableParallel의 출력에 값 추가하기\n"
      ]
    },
    {
      "cell_type": "code",
      "execution_count": 67,
      "metadata": {
        "execution": {
          "iopub.execute_input": "2024-06-28T02:34:14.820735Z",
          "iopub.status.busy": "2024-06-28T02:34:14.820536Z",
          "iopub.status.idle": "2024-06-28T02:34:20.477887Z",
          "shell.execute_reply": "2024-06-28T02:34:20.477378Z"
        },
        "id": "kuEaBuX1gpk8",
        "outputId": "f03ff4d2-1b6f-40da-8be2-9b81241e6975",
        "colab": {
          "base_uri": "https://localhost:8080/"
        }
      },
      "outputs": [
        {
          "output_type": "stream",
          "name": "stdout",
          "text": [
            "{'answer': '서울의 현재 날씨는 31°F(약 -0.5°C)이며, 체감 온도는 36°F(약 2.2°C)입니다. 바람은 남남서쪽에서 '\n",
            "           '시속 4마일(약 6.4km/h)로 불고 있으며, 강수 확률은 40%입니다. 날씨는 맑고 추운 상태입니다.',\n",
            " 'context': [Document(metadata={'title': '서울특별시, 서울시, 대한민국 현재 날씨 | AccuWeather', 'source': 'https://www.accuweather.com/ko/kr/seoul/226081/current-weather/226081', 'score': 0.8649622, 'images': []}, page_content='서울특별시, 서울시, 대한민국 현재 날씨 | AccuWeather 서울특별시, 서울시 ========== 31°F 현재 위치 사용 서울특별시 서울시 31° 서울특별시, 서울시 날씨 오늘 WinterCast 지역 {stormName} 추적기 시간별 일별 레이더 MinuteCast 월 대기질 건강 및 활동 오늘 WinterCast 시간별 일별 레이더 MinuteCast 월 대기질 건강 및 활동 RealFeel® 36° 추움 RealFeel Shade™ 32° 추움 36° 32° 최대 자외선 지수 남남서 4mi/h 4mi/h 8° F 10mi RealFeel® 37° 추움 RealFeel Shade™ 33° 추움 최대 자외선 지수3 보통 바람서남서 5mi/h 강수 확률40% 강수0.00in 강수 시간2 RealFeel® 18° 매우 추움 맑고 추움 바람남남동 2mi/h 강수 확률0% 강수0.00in 일몰 PM 6:05 일출 PM 3:32 36° 17° 36° 19° 45° 29° ### 시간별### 일별### 월 전 세계 아시아 대한민국 서울시 서울특별시 동작구, 서울시 마포구, 서울시 서대문구, 서울시'),\n",
            "             Document(metadata={'title': '서울특별시 일기예보 및 날씨 - The Weather Channel | Weather.com', 'source': 'https://weather.com/ko-KR/weather/today/l/82e46175f97c224acf6b95afc4934fbae0e4ba123adcee8a52b7be97c303467b', 'score': 0.63179934, 'images': []}, page_content='서울특별시 일기예보 및 날씨 - The Weather Channel | Weather.com 알제리 | العربية알제리 | Français앙골라 | Português베냉 | Français부르키나파소 | Français부룬디 | Français카메룬 | Français카메룬 | English카보베르데 | Português중앙 아프리카 공화국 | Français차드 | Français차드 | العربية코모로 | Français코모로 | العربيةDemocratic Republic of the Congo | Français콩고 공화국 | Français코트디부아르 | Français지부티 | Français지부티 | العربية이집트 | العربية적도 기니 | Español에리트레아 | العربية가봉 | Français감비아 | English가나 | English기니 | Français기니비사우 | Português케냐 | English레소토 | English라이베리아 | English리비아 | العربية마다가스카르 | Français말리 | Français모리타니 | العربية모리셔스 | English모리셔스 | Français모로코 | العربية모로코 | Français모잠비크 | Português나미비아 | English니제르 | Français나이지리아 | English르완다 | Français르완다 | English상투메 프린시페 | Português세네갈 | Français시에라리온 | English소말리아 | العربية남아프리카 | English남수단 | English수단 | العربية스와질란드 | English탄자니아 | English토고 | Français튀니지 | العربية우간다 | English 1° --/-10° -9° ### 18:00 0° 강수확률4% ### 19:00 -2° 강수확률1% ### 20:00 -3° 강수확률1% ### 21:00 -4° 강수확률2%'),\n",
            "             Document(metadata={'title': '현재 날씨 - 기상청 날씨누리', 'source': 'https://www.weather.go.kr/w/weather/now.do', 'score': 0.24851635, 'images': []}, page_content='날씨 바다 영상·일기도 태풍 기후 기후변화 지진·화산 테마날씨 황사 관측 소식·지식 개편된 날씨누리 홈페이지 첫 화면에서 지도를 통한 실시간 기상정보와 레이더영상, 전국 특보 현황을 조회할 수 있으며, 내 지역의 현재 기상상황과 대기질 상태, 일출/일몰 시각을 확인할 수 있습니다. 현재 위치 설정 혹은 검색을 통해 조회한 육상지역 및 해역은 위치 정보 우측의 별표를 클릭하여 관심지역으로 설정할 수 있으며, 관심지역 설정 해제 또한 별표를 다시 클릭하여 해제할 수 있습니다. 설정한 관심지역은 현재 위치 정보 우측의 화살표를 클릭하여 확인할 수 있으며, 사용중인 브라우저 캐시 영역에 저장되므로 캐시 삭제시 설정한 관심지역 정보가 초기화됩니다.\" 첫 화면 상단의 톱니바퀴 아이콘을 클릭하여 날씨누리 홈페이지 첫 화면(기본화면, 지도화면) 및 풍속단위(m/s, km/h)를 맞춤 설정할 수 있습니다. 날씨누리 첫화면에서 육상 및 해상의 현재 기상정보, 초단기 강수예측, 특보 상황을 지도상에서 확인할 수 있습니다.')],\n",
            " 'question': '서울의 현재 날씨는?'}\n"
          ]
        }
      ],
      "source": [
        "import pprint\n",
        "\n",
        "chain = {\n",
        "    \"question\": RunnablePassthrough(),\n",
        "    \"context\": retriever,\n",
        "} | RunnablePassthrough.assign(answer=prompt | model | StrOutputParser())\n",
        "\n",
        "output = chain.invoke(\"서울의 현재 날씨는?\")\n",
        "pprint.pprint(output)"
      ]
    },
    {
      "cell_type": "code",
      "execution_count": 68,
      "metadata": {
        "execution": {
          "iopub.execute_input": "2024-06-28T02:34:20.479839Z",
          "iopub.status.busy": "2024-06-28T02:34:20.479664Z",
          "iopub.status.idle": "2024-06-28T02:34:27.723756Z",
          "shell.execute_reply": "2024-06-28T02:34:27.723236Z"
        },
        "id": "M2TujE69gpk8"
      },
      "outputs": [],
      "source": [
        "from langchain_core.runnables import RunnableParallel\n",
        "\n",
        "chain = RunnableParallel(\n",
        "    {\n",
        "        \"question\": RunnablePassthrough(),\n",
        "        \"context\": retriever,\n",
        "    }\n",
        ").assign(answer=prompt | model | StrOutputParser())"
      ]
    },
    {
      "cell_type": "code",
      "execution_count": 69,
      "metadata": {
        "id": "RWCCNWebgpk8",
        "outputId": "b1e24c59-256b-4157-e47e-0b1c7aada3e8",
        "colab": {
          "base_uri": "https://localhost:8080/"
        }
      },
      "outputs": [
        {
          "output_type": "stream",
          "name": "stdout",
          "text": [
            "{'question': '서울의 현재 날씨는?', 'context': [Document(metadata={'title': '서울특별시, 서울시, 대한민국 현재 날씨 | AccuWeather', 'source': 'https://www.accuweather.com/ko/kr/seoul/226081/current-weather/226081', 'score': 0.8649622, 'images': []}, page_content='서울특별시, 서울시, 대한민국 현재 날씨 | AccuWeather 서울특별시, 서울시 ========== 31°F 현재 위치 사용 서울특별시 서울시 31° 서울특별시, 서울시 날씨 오늘 WinterCast 지역 {stormName} 추적기 시간별 일별 레이더 MinuteCast 월 대기질 건강 및 활동 오늘 WinterCast 시간별 일별 레이더 MinuteCast 월 대기질 건강 및 활동 RealFeel® 36° 추움 RealFeel Shade™ 32° 추움 36° 32° 최대 자외선 지수 남남서 4mi/h 4mi/h 8° F 10mi RealFeel® 37° 추움 RealFeel Shade™ 33° 추움 최대 자외선 지수3 보통 바람서남서 5mi/h 강수 확률40% 강수0.00in 강수 시간2 RealFeel® 18° 매우 추움 맑고 추움 바람남남동 2mi/h 강수 확률0% 강수0.00in 일몰 PM 6:05 일출 PM 3:32 36° 17° 36° 19° 45° 29° ### 시간별### 일별### 월 전 세계 아시아 대한민국 서울시 서울특별시 동작구, 서울시 마포구, 서울시 서대문구, 서울시'), Document(metadata={'title': '서울특별시 일기예보 및 날씨 - The Weather Channel | Weather.com', 'source': 'https://weather.com/ko-KR/weather/today/l/82e46175f97c224acf6b95afc4934fbae0e4ba123adcee8a52b7be97c303467b', 'score': 0.63179934, 'images': []}, page_content='서울특별시 일기예보 및 날씨 - The Weather Channel | Weather.com 알제리 | العربية알제리 | Français앙골라 | Português베냉 | Français부르키나파소 | Français부룬디 | Français카메룬 | Français카메룬 | English카보베르데 | Português중앙 아프리카 공화국 | Français차드 | Français차드 | العربية코모로 | Français코모로 | العربيةDemocratic Republic of the Congo | Français콩고 공화국 | Français코트디부아르 | Français지부티 | Français지부티 | العربية이집트 | العربية적도 기니 | Español에리트레아 | العربية가봉 | Français감비아 | English가나 | English기니 | Français기니비사우 | Português케냐 | English레소토 | English라이베리아 | English리비아 | العربية마다가스카르 | Français말리 | Français모리타니 | العربية모리셔스 | English모리셔스 | Français모로코 | العربية모로코 | Français모잠비크 | Português나미비아 | English니제르 | Français나이지리아 | English르완다 | Français르완다 | English상투메 프린시페 | Português세네갈 | Français시에라리온 | English소말리아 | العربية남아프리카 | English남수단 | English수단 | العربية스와질란드 | English탄자니아 | English토고 | Français튀니지 | العربية우간다 | English 1° --/-10° -9° ### 18:00 0° 강수확률4% ### 19:00 -2° 강수확률1% ### 20:00 -3° 강수확률1% ### 21:00 -4° 강수확률2%'), Document(metadata={'title': '현재 날씨 - 기상청 날씨누리', 'source': 'https://www.weather.go.kr/w/weather/now.do', 'score': 0.24851635, 'images': []}, page_content='날씨 바다 영상·일기도 태풍 기후 기후변화 지진·화산 테마날씨 황사 관측 소식·지식 개편된 날씨누리 홈페이지 첫 화면에서 지도를 통한 실시간 기상정보와 레이더영상, 전국 특보 현황을 조회할 수 있으며, 내 지역의 현재 기상상황과 대기질 상태, 일출/일몰 시각을 확인할 수 있습니다. 현재 위치 설정 혹은 검색을 통해 조회한 육상지역 및 해역은 위치 정보 우측의 별표를 클릭하여 관심지역으로 설정할 수 있으며, 관심지역 설정 해제 또한 별표를 다시 클릭하여 해제할 수 있습니다. 설정한 관심지역은 현재 위치 정보 우측의 화살표를 클릭하여 확인할 수 있으며, 사용중인 브라우저 캐시 영역에 저장되므로 캐시 삭제시 설정한 관심지역 정보가 초기화됩니다.\" 첫 화면 상단의 톱니바퀴 아이콘을 클릭하여 날씨누리 홈페이지 첫 화면(기본화면, 지도화면) 및 풍속단위(m/s, km/h)를 맞춤 설정할 수 있습니다. 날씨누리 첫화면에서 육상 및 해상의 현재 기상정보, 초단기 강수예측, 특보 상황을 지도상에서 확인할 수 있습니다.')], 'answer': '서울의 현재 날씨는 31°F(약 -0.6°C)이며, 체감 온도는 36°F(약 2.2°C)입니다. 바람은 남남서쪽에서 시속 4마일(약 6.4km/h)로 불고 있으며, 강수 확률은 40%입니다. 날씨는 맑고 추운 상태입니다.'}\n"
          ]
        }
      ],
      "source": [
        "output = chain.invoke(\"서울의 현재 날씨는?\")\n",
        "print(output)"
      ]
    },
    {
      "cell_type": "markdown",
      "metadata": {
        "id": "IFWT_Wq6gpk8"
      },
      "source": [
        "#### <보충:pick>\n"
      ]
    },
    {
      "cell_type": "code",
      "execution_count": 70,
      "metadata": {
        "execution": {
          "iopub.execute_input": "2024-06-28T02:34:27.725885Z",
          "iopub.status.busy": "2024-06-28T02:34:27.725708Z",
          "iopub.status.idle": "2024-06-28T02:34:34.101909Z",
          "shell.execute_reply": "2024-06-28T02:34:34.101439Z"
        },
        "id": "JKm5b4NRgpk8"
      },
      "outputs": [],
      "source": [
        "chain = (\n",
        "    RunnableParallel(\n",
        "        {\n",
        "            \"question\": RunnablePassthrough(),\n",
        "            \"context\": retriever,\n",
        "        }\n",
        "    )\n",
        "    .assign(answer=prompt | model | StrOutputParser())\n",
        "    .pick([\"context\", \"answer\"])\n",
        ")"
      ]
    },
    {
      "cell_type": "code",
      "execution_count": 71,
      "metadata": {
        "id": "tk5Xznb9gpk8",
        "outputId": "84228584-2340-4ae9-9507-f1ed16717003",
        "colab": {
          "base_uri": "https://localhost:8080/"
        }
      },
      "outputs": [
        {
          "output_type": "stream",
          "name": "stdout",
          "text": [
            "{'context': [Document(metadata={'title': '서울특별시, 서울시, 대한민국 현재 날씨 | AccuWeather', 'source': 'https://www.accuweather.com/ko/kr/seoul/226081/current-weather/226081', 'score': 0.8649622, 'images': []}, page_content='서울특별시, 서울시, 대한민국 현재 날씨 | AccuWeather 서울특별시, 서울시 ========== 31°F 현재 위치 사용 서울특별시 서울시 31° 서울특별시, 서울시 날씨 오늘 WinterCast 지역 {stormName} 추적기 시간별 일별 레이더 MinuteCast 월 대기질 건강 및 활동 오늘 WinterCast 시간별 일별 레이더 MinuteCast 월 대기질 건강 및 활동 RealFeel® 36° 추움 RealFeel Shade™ 32° 추움 36° 32° 최대 자외선 지수 남남서 4mi/h 4mi/h 8° F 10mi RealFeel® 37° 추움 RealFeel Shade™ 33° 추움 최대 자외선 지수3 보통 바람서남서 5mi/h 강수 확률40% 강수0.00in 강수 시간2 RealFeel® 18° 매우 추움 맑고 추움 바람남남동 2mi/h 강수 확률0% 강수0.00in 일몰 PM 6:05 일출 PM 3:32 36° 17° 36° 19° 45° 29° ### 시간별### 일별### 월 전 세계 아시아 대한민국 서울시 서울특별시 동작구, 서울시 마포구, 서울시 서대문구, 서울시'), Document(metadata={'title': '서울특별시 일기예보 및 날씨 - The Weather Channel | Weather.com', 'source': 'https://weather.com/ko-KR/weather/today/l/82e46175f97c224acf6b95afc4934fbae0e4ba123adcee8a52b7be97c303467b', 'score': 0.63179934, 'images': []}, page_content='서울특별시 일기예보 및 날씨 - The Weather Channel | Weather.com 알제리 | العربية알제리 | Français앙골라 | Português베냉 | Français부르키나파소 | Français부룬디 | Français카메룬 | Français카메룬 | English카보베르데 | Português중앙 아프리카 공화국 | Français차드 | Français차드 | العربية코모로 | Français코모로 | العربيةDemocratic Republic of the Congo | Français콩고 공화국 | Français코트디부아르 | Français지부티 | Français지부티 | العربية이집트 | العربية적도 기니 | Español에리트레아 | العربية가봉 | Français감비아 | English가나 | English기니 | Français기니비사우 | Português케냐 | English레소토 | English라이베리아 | English리비아 | العربية마다가스카르 | Français말리 | Français모리타니 | العربية모리셔스 | English모리셔스 | Français모로코 | العربية모로코 | Français모잠비크 | Português나미비아 | English니제르 | Français나이지리아 | English르완다 | Français르완다 | English상투메 프린시페 | Português세네갈 | Français시에라리온 | English소말리아 | العربية남아프리카 | English남수단 | English수단 | العربية스와질란드 | English탄자니아 | English토고 | Français튀니지 | العربية우간다 | English 1° --/-10° -9° ### 18:00 0° 강수확률4% ### 19:00 -2° 강수확률1% ### 20:00 -3° 강수확률1% ### 21:00 -4° 강수확률2%'), Document(metadata={'title': '현재 날씨 - 기상청 날씨누리', 'source': 'https://www.weather.go.kr/w/weather/now.do', 'score': 0.24851635, 'images': []}, page_content='날씨 바다 영상·일기도 태풍 기후 기후변화 지진·화산 테마날씨 황사 관측 소식·지식 개편된 날씨누리 홈페이지 첫 화면에서 지도를 통한 실시간 기상정보와 레이더영상, 전국 특보 현황을 조회할 수 있으며, 내 지역의 현재 기상상황과 대기질 상태, 일출/일몰 시각을 확인할 수 있습니다. 현재 위치 설정 혹은 검색을 통해 조회한 육상지역 및 해역은 위치 정보 우측의 별표를 클릭하여 관심지역으로 설정할 수 있으며, 관심지역 설정 해제 또한 별표를 다시 클릭하여 해제할 수 있습니다. 설정한 관심지역은 현재 위치 정보 우측의 화살표를 클릭하여 확인할 수 있으며, 사용중인 브라우저 캐시 영역에 저장되므로 캐시 삭제시 설정한 관심지역 정보가 초기화됩니다.\" 첫 화면 상단의 톱니바퀴 아이콘을 클릭하여 날씨누리 홈페이지 첫 화면(기본화면, 지도화면) 및 풍속단위(m/s, km/h)를 맞춤 설정할 수 있습니다. 날씨누리 첫화면에서 육상 및 해상의 현재 기상정보, 초단기 강수예측, 특보 상황을 지도상에서 확인할 수 있습니다.')], 'answer': '서울의 현재 날씨는 31°F(약 -0.6°C)이며, 체감 온도는 36°F(약 2.2°C)입니다. 바람은 남남서쪽에서 시속 4마일(약 6.4km/h)로 불고 있으며, 강수 확률은 40%입니다. 날씨는 맑고 추운 상태입니다.'}\n"
          ]
        }
      ],
      "source": [
        "output = chain.invoke(\"서울의 현재 날씨는?\")\n",
        "print(output)"
      ]
    },
    {
      "cell_type": "markdown",
      "metadata": {
        "id": "JzHTA4a6gpk8"
      },
      "source": [
        "### (칼럼) astream_events\n"
      ]
    },
    {
      "cell_type": "code",
      "execution_count": 43,
      "metadata": {
        "id": "XdHIHS7mgpk9"
      },
      "outputs": [],
      "source": [
        "# Google Colab에서는 다음 코드의 \"async\" 부분에 \"Use of \"async\" not allowed outside of async function\"이라고 표시되지만, 오류 없이 실행할 수 있습니다"
      ]
    },
    {
      "cell_type": "code",
      "execution_count": 72,
      "metadata": {
        "execution": {
          "iopub.execute_input": "2024-06-28T02:34:34.103973Z",
          "iopub.status.busy": "2024-06-28T02:34:34.103802Z",
          "iopub.status.idle": "2024-06-28T02:34:34.107769Z",
          "shell.execute_reply": "2024-06-28T02:34:34.107274Z"
        },
        "id": "c43P3RnWgpk9",
        "outputId": "0d71ba4f-b1f4-40f0-f0d3-8b40cdd96a3a",
        "colab": {
          "base_uri": "https://localhost:8080/"
        }
      },
      "outputs": [
        {
          "output_type": "stream",
          "name": "stdout",
          "text": [
            "{'event': 'on_chain_start', 'data': {'input': '서울의 현재 날씨는?'}, 'name': 'RunnableSequence', 'tags': [], 'run_id': '95e6e034-1521-48e8-b435-b2a7f08ef855', 'metadata': {}, 'parent_ids': []}\n",
            "{'event': 'on_chain_start', 'data': {}, 'name': 'RunnableParallel<context,question>', 'tags': ['seq:step:1'], 'run_id': '45a0cd0e-d636-4a5d-a1d7-b3407c454425', 'metadata': {}, 'parent_ids': ['95e6e034-1521-48e8-b435-b2a7f08ef855']}\n",
            "{'event': 'on_retriever_start', 'data': {'input': {'query': '서울의 현재 날씨는?'}}, 'name': 'TavilySearchAPIRetriever', 'tags': ['map:key:context'], 'run_id': 'c8bce01b-069a-40c3-8375-1f7498a1cc98', 'metadata': {'ls_retriever_name': 'tavilysearchapi'}, 'parent_ids': ['95e6e034-1521-48e8-b435-b2a7f08ef855', '45a0cd0e-d636-4a5d-a1d7-b3407c454425']}\n",
            "{'event': 'on_chain_start', 'data': {}, 'name': 'RunnablePassthrough', 'tags': ['map:key:question'], 'run_id': '0a31cd7a-13a1-43ae-877a-2d34e730abd8', 'metadata': {}, 'parent_ids': ['95e6e034-1521-48e8-b435-b2a7f08ef855', '45a0cd0e-d636-4a5d-a1d7-b3407c454425']}\n",
            "{'event': 'on_chain_stream', 'run_id': '0a31cd7a-13a1-43ae-877a-2d34e730abd8', 'name': 'RunnablePassthrough', 'tags': ['map:key:question'], 'metadata': {}, 'data': {'chunk': '서울의 현재 날씨는?'}, 'parent_ids': ['95e6e034-1521-48e8-b435-b2a7f08ef855', '45a0cd0e-d636-4a5d-a1d7-b3407c454425']}\n",
            "{'event': 'on_chain_stream', 'run_id': '45a0cd0e-d636-4a5d-a1d7-b3407c454425', 'name': 'RunnableParallel<context,question>', 'tags': ['seq:step:1'], 'metadata': {}, 'data': {'chunk': {'question': '서울의 현재 날씨는?'}}, 'parent_ids': ['95e6e034-1521-48e8-b435-b2a7f08ef855']}\n",
            "{'event': 'on_chain_end', 'data': {'output': '서울의 현재 날씨는?', 'input': '서울의 현재 날씨는?'}, 'run_id': '0a31cd7a-13a1-43ae-877a-2d34e730abd8', 'name': 'RunnablePassthrough', 'tags': ['map:key:question'], 'metadata': {}, 'parent_ids': ['95e6e034-1521-48e8-b435-b2a7f08ef855', '45a0cd0e-d636-4a5d-a1d7-b3407c454425']}\n",
            "{'event': 'on_retriever_end', 'data': {'output': [Document(metadata={'title': '서울특별시, 서울시, 대한민국 현재 날씨 | AccuWeather', 'source': 'https://www.accuweather.com/ko/kr/seoul/226081/current-weather/226081', 'score': 0.8649622, 'images': []}, page_content='서울특별시, 서울시, 대한민국 현재 날씨 | AccuWeather 서울특별시, 서울시 ========== 31°F 현재 위치 사용 서울특별시 서울시 31° 서울특별시, 서울시 날씨 오늘 WinterCast 지역 {stormName} 추적기 시간별 일별 레이더 MinuteCast 월 대기질 건강 및 활동 오늘 WinterCast 시간별 일별 레이더 MinuteCast 월 대기질 건강 및 활동 RealFeel® 36° 추움 RealFeel Shade™ 32° 추움 36° 32° 최대 자외선 지수 남남서 4mi/h 4mi/h 8° F 10mi RealFeel® 37° 추움 RealFeel Shade™ 33° 추움 최대 자외선 지수3 보통 바람서남서 5mi/h 강수 확률40% 강수0.00in 강수 시간2 RealFeel® 18° 매우 추움 맑고 추움 바람남남동 2mi/h 강수 확률0% 강수0.00in 일몰 PM 6:05 일출 PM 3:32 36° 17° 36° 19° 45° 29° ### 시간별### 일별### 월 전 세계 아시아 대한민국 서울시 서울특별시 동작구, 서울시 마포구, 서울시 서대문구, 서울시'), Document(metadata={'title': '서울특별시 일기예보 및 날씨 - The Weather Channel | Weather.com', 'source': 'https://weather.com/ko-KR/weather/today/l/82e46175f97c224acf6b95afc4934fbae0e4ba123adcee8a52b7be97c303467b', 'score': 0.63179934, 'images': []}, page_content='서울특별시 일기예보 및 날씨 - The Weather Channel | Weather.com 알제리 | العربية알제리 | Français앙골라 | Português베냉 | Français부르키나파소 | Français부룬디 | Français카메룬 | Français카메룬 | English카보베르데 | Português중앙 아프리카 공화국 | Français차드 | Français차드 | العربية코모로 | Français코모로 | العربيةDemocratic Republic of the Congo | Français콩고 공화국 | Français코트디부아르 | Français지부티 | Français지부티 | العربية이집트 | العربية적도 기니 | Español에리트레아 | العربية가봉 | Français감비아 | English가나 | English기니 | Français기니비사우 | Português케냐 | English레소토 | English라이베리아 | English리비아 | العربية마다가스카르 | Français말리 | Français모리타니 | العربية모리셔스 | English모리셔스 | Français모로코 | العربية모로코 | Français모잠비크 | Português나미비아 | English니제르 | Français나이지리아 | English르완다 | Français르완다 | English상투메 프린시페 | Português세네갈 | Français시에라리온 | English소말리아 | العربية남아프리카 | English남수단 | English수단 | العربية스와질란드 | English탄자니아 | English토고 | Français튀니지 | العربية우간다 | English 1° --/-10° -9° ### 18:00 0° 강수확률4% ### 19:00 -2° 강수확률1% ### 20:00 -3° 강수확률1% ### 21:00 -4° 강수확률2%'), Document(metadata={'title': '현재 날씨 - 기상청 날씨누리', 'source': 'https://www.weather.go.kr/w/weather/now.do', 'score': 0.24851635, 'images': []}, page_content='날씨 바다 영상·일기도 태풍 기후 기후변화 지진·화산 테마날씨 황사 관측 소식·지식 개편된 날씨누리 홈페이지 첫 화면에서 지도를 통한 실시간 기상정보와 레이더영상, 전국 특보 현황을 조회할 수 있으며, 내 지역의 현재 기상상황과 대기질 상태, 일출/일몰 시각을 확인할 수 있습니다. 현재 위치 설정 혹은 검색을 통해 조회한 육상지역 및 해역은 위치 정보 우측의 별표를 클릭하여 관심지역으로 설정할 수 있으며, 관심지역 설정 해제 또한 별표를 다시 클릭하여 해제할 수 있습니다. 설정한 관심지역은 현재 위치 정보 우측의 화살표를 클릭하여 확인할 수 있으며, 사용중인 브라우저 캐시 영역에 저장되므로 캐시 삭제시 설정한 관심지역 정보가 초기화됩니다.\" 첫 화면 상단의 톱니바퀴 아이콘을 클릭하여 날씨누리 홈페이지 첫 화면(기본화면, 지도화면) 및 풍속단위(m/s, km/h)를 맞춤 설정할 수 있습니다. 날씨누리 첫화면에서 육상 및 해상의 현재 기상정보, 초단기 강수예측, 특보 상황을 지도상에서 확인할 수 있습니다.')], 'input': {'query': '서울의 현재 날씨는?'}}, 'run_id': 'c8bce01b-069a-40c3-8375-1f7498a1cc98', 'name': 'TavilySearchAPIRetriever', 'tags': ['map:key:context'], 'metadata': {'ls_retriever_name': 'tavilysearchapi'}, 'parent_ids': ['95e6e034-1521-48e8-b435-b2a7f08ef855', '45a0cd0e-d636-4a5d-a1d7-b3407c454425']}\n",
            "{'event': 'on_chain_stream', 'run_id': '45a0cd0e-d636-4a5d-a1d7-b3407c454425', 'name': 'RunnableParallel<context,question>', 'tags': ['seq:step:1'], 'metadata': {}, 'data': {'chunk': {'context': [Document(metadata={'title': '서울특별시, 서울시, 대한민국 현재 날씨 | AccuWeather', 'source': 'https://www.accuweather.com/ko/kr/seoul/226081/current-weather/226081', 'score': 0.8649622, 'images': []}, page_content='서울특별시, 서울시, 대한민국 현재 날씨 | AccuWeather 서울특별시, 서울시 ========== 31°F 현재 위치 사용 서울특별시 서울시 31° 서울특별시, 서울시 날씨 오늘 WinterCast 지역 {stormName} 추적기 시간별 일별 레이더 MinuteCast 월 대기질 건강 및 활동 오늘 WinterCast 시간별 일별 레이더 MinuteCast 월 대기질 건강 및 활동 RealFeel® 36° 추움 RealFeel Shade™ 32° 추움 36° 32° 최대 자외선 지수 남남서 4mi/h 4mi/h 8° F 10mi RealFeel® 37° 추움 RealFeel Shade™ 33° 추움 최대 자외선 지수3 보통 바람서남서 5mi/h 강수 확률40% 강수0.00in 강수 시간2 RealFeel® 18° 매우 추움 맑고 추움 바람남남동 2mi/h 강수 확률0% 강수0.00in 일몰 PM 6:05 일출 PM 3:32 36° 17° 36° 19° 45° 29° ### 시간별### 일별### 월 전 세계 아시아 대한민국 서울시 서울특별시 동작구, 서울시 마포구, 서울시 서대문구, 서울시'), Document(metadata={'title': '서울특별시 일기예보 및 날씨 - The Weather Channel | Weather.com', 'source': 'https://weather.com/ko-KR/weather/today/l/82e46175f97c224acf6b95afc4934fbae0e4ba123adcee8a52b7be97c303467b', 'score': 0.63179934, 'images': []}, page_content='서울특별시 일기예보 및 날씨 - The Weather Channel | Weather.com 알제리 | العربية알제리 | Français앙골라 | Português베냉 | Français부르키나파소 | Français부룬디 | Français카메룬 | Français카메룬 | English카보베르데 | Português중앙 아프리카 공화국 | Français차드 | Français차드 | العربية코모로 | Français코모로 | العربيةDemocratic Republic of the Congo | Français콩고 공화국 | Français코트디부아르 | Français지부티 | Français지부티 | العربية이집트 | العربية적도 기니 | Español에리트레아 | العربية가봉 | Français감비아 | English가나 | English기니 | Français기니비사우 | Português케냐 | English레소토 | English라이베리아 | English리비아 | العربية마다가스카르 | Français말리 | Français모리타니 | العربية모리셔스 | English모리셔스 | Français모로코 | العربية모로코 | Français모잠비크 | Português나미비아 | English니제르 | Français나이지리아 | English르완다 | Français르완다 | English상투메 프린시페 | Português세네갈 | Français시에라리온 | English소말리아 | العربية남아프리카 | English남수단 | English수단 | العربية스와질란드 | English탄자니아 | English토고 | Français튀니지 | العربية우간다 | English 1° --/-10° -9° ### 18:00 0° 강수확률4% ### 19:00 -2° 강수확률1% ### 20:00 -3° 강수확률1% ### 21:00 -4° 강수확률2%'), Document(metadata={'title': '현재 날씨 - 기상청 날씨누리', 'source': 'https://www.weather.go.kr/w/weather/now.do', 'score': 0.24851635, 'images': []}, page_content='날씨 바다 영상·일기도 태풍 기후 기후변화 지진·화산 테마날씨 황사 관측 소식·지식 개편된 날씨누리 홈페이지 첫 화면에서 지도를 통한 실시간 기상정보와 레이더영상, 전국 특보 현황을 조회할 수 있으며, 내 지역의 현재 기상상황과 대기질 상태, 일출/일몰 시각을 확인할 수 있습니다. 현재 위치 설정 혹은 검색을 통해 조회한 육상지역 및 해역은 위치 정보 우측의 별표를 클릭하여 관심지역으로 설정할 수 있으며, 관심지역 설정 해제 또한 별표를 다시 클릭하여 해제할 수 있습니다. 설정한 관심지역은 현재 위치 정보 우측의 화살표를 클릭하여 확인할 수 있으며, 사용중인 브라우저 캐시 영역에 저장되므로 캐시 삭제시 설정한 관심지역 정보가 초기화됩니다.\" 첫 화면 상단의 톱니바퀴 아이콘을 클릭하여 날씨누리 홈페이지 첫 화면(기본화면, 지도화면) 및 풍속단위(m/s, km/h)를 맞춤 설정할 수 있습니다. 날씨누리 첫화면에서 육상 및 해상의 현재 기상정보, 초단기 강수예측, 특보 상황을 지도상에서 확인할 수 있습니다.')]}}, 'parent_ids': ['95e6e034-1521-48e8-b435-b2a7f08ef855']}\n",
            "{'event': 'on_chain_end', 'data': {'output': {'question': '서울의 현재 날씨는?', 'context': [Document(metadata={'title': '서울특별시, 서울시, 대한민국 현재 날씨 | AccuWeather', 'source': 'https://www.accuweather.com/ko/kr/seoul/226081/current-weather/226081', 'score': 0.8649622, 'images': []}, page_content='서울특별시, 서울시, 대한민국 현재 날씨 | AccuWeather 서울특별시, 서울시 ========== 31°F 현재 위치 사용 서울특별시 서울시 31° 서울특별시, 서울시 날씨 오늘 WinterCast 지역 {stormName} 추적기 시간별 일별 레이더 MinuteCast 월 대기질 건강 및 활동 오늘 WinterCast 시간별 일별 레이더 MinuteCast 월 대기질 건강 및 활동 RealFeel® 36° 추움 RealFeel Shade™ 32° 추움 36° 32° 최대 자외선 지수 남남서 4mi/h 4mi/h 8° F 10mi RealFeel® 37° 추움 RealFeel Shade™ 33° 추움 최대 자외선 지수3 보통 바람서남서 5mi/h 강수 확률40% 강수0.00in 강수 시간2 RealFeel® 18° 매우 추움 맑고 추움 바람남남동 2mi/h 강수 확률0% 강수0.00in 일몰 PM 6:05 일출 PM 3:32 36° 17° 36° 19° 45° 29° ### 시간별### 일별### 월 전 세계 아시아 대한민국 서울시 서울특별시 동작구, 서울시 마포구, 서울시 서대문구, 서울시'), Document(metadata={'title': '서울특별시 일기예보 및 날씨 - The Weather Channel | Weather.com', 'source': 'https://weather.com/ko-KR/weather/today/l/82e46175f97c224acf6b95afc4934fbae0e4ba123adcee8a52b7be97c303467b', 'score': 0.63179934, 'images': []}, page_content='서울특별시 일기예보 및 날씨 - The Weather Channel | Weather.com 알제리 | العربية알제리 | Français앙골라 | Português베냉 | Français부르키나파소 | Français부룬디 | Français카메룬 | Français카메룬 | English카보베르데 | Português중앙 아프리카 공화국 | Français차드 | Français차드 | العربية코모로 | Français코모로 | العربيةDemocratic Republic of the Congo | Français콩고 공화국 | Français코트디부아르 | Français지부티 | Français지부티 | العربية이집트 | العربية적도 기니 | Español에리트레아 | العربية가봉 | Français감비아 | English가나 | English기니 | Français기니비사우 | Português케냐 | English레소토 | English라이베리아 | English리비아 | العربية마다가스카르 | Français말리 | Français모리타니 | العربية모리셔스 | English모리셔스 | Français모로코 | العربية모로코 | Français모잠비크 | Português나미비아 | English니제르 | Français나이지리아 | English르완다 | Français르완다 | English상투메 프린시페 | Português세네갈 | Français시에라리온 | English소말리아 | العربية남아프리카 | English남수단 | English수단 | العربية스와질란드 | English탄자니아 | English토고 | Français튀니지 | العربية우간다 | English 1° --/-10° -9° ### 18:00 0° 강수확률4% ### 19:00 -2° 강수확률1% ### 20:00 -3° 강수확률1% ### 21:00 -4° 강수확률2%'), Document(metadata={'title': '현재 날씨 - 기상청 날씨누리', 'source': 'https://www.weather.go.kr/w/weather/now.do', 'score': 0.24851635, 'images': []}, page_content='날씨 바다 영상·일기도 태풍 기후 기후변화 지진·화산 테마날씨 황사 관측 소식·지식 개편된 날씨누리 홈페이지 첫 화면에서 지도를 통한 실시간 기상정보와 레이더영상, 전국 특보 현황을 조회할 수 있으며, 내 지역의 현재 기상상황과 대기질 상태, 일출/일몰 시각을 확인할 수 있습니다. 현재 위치 설정 혹은 검색을 통해 조회한 육상지역 및 해역은 위치 정보 우측의 별표를 클릭하여 관심지역으로 설정할 수 있으며, 관심지역 설정 해제 또한 별표를 다시 클릭하여 해제할 수 있습니다. 설정한 관심지역은 현재 위치 정보 우측의 화살표를 클릭하여 확인할 수 있으며, 사용중인 브라우저 캐시 영역에 저장되므로 캐시 삭제시 설정한 관심지역 정보가 초기화됩니다.\" 첫 화면 상단의 톱니바퀴 아이콘을 클릭하여 날씨누리 홈페이지 첫 화면(기본화면, 지도화면) 및 풍속단위(m/s, km/h)를 맞춤 설정할 수 있습니다. 날씨누리 첫화면에서 육상 및 해상의 현재 기상정보, 초단기 강수예측, 특보 상황을 지도상에서 확인할 수 있습니다.')]}, 'input': '서울의 현재 날씨는?'}, 'run_id': '45a0cd0e-d636-4a5d-a1d7-b3407c454425', 'name': 'RunnableParallel<context,question>', 'tags': ['seq:step:1'], 'metadata': {}, 'parent_ids': ['95e6e034-1521-48e8-b435-b2a7f08ef855']}\n",
            "{'event': 'on_prompt_start', 'data': {'input': {'question': '서울의 현재 날씨는?', 'context': [Document(metadata={'title': '서울특별시, 서울시, 대한민국 현재 날씨 | AccuWeather', 'source': 'https://www.accuweather.com/ko/kr/seoul/226081/current-weather/226081', 'score': 0.8649622, 'images': []}, page_content='서울특별시, 서울시, 대한민국 현재 날씨 | AccuWeather 서울특별시, 서울시 ========== 31°F 현재 위치 사용 서울특별시 서울시 31° 서울특별시, 서울시 날씨 오늘 WinterCast 지역 {stormName} 추적기 시간별 일별 레이더 MinuteCast 월 대기질 건강 및 활동 오늘 WinterCast 시간별 일별 레이더 MinuteCast 월 대기질 건강 및 활동 RealFeel® 36° 추움 RealFeel Shade™ 32° 추움 36° 32° 최대 자외선 지수 남남서 4mi/h 4mi/h 8° F 10mi RealFeel® 37° 추움 RealFeel Shade™ 33° 추움 최대 자외선 지수3 보통 바람서남서 5mi/h 강수 확률40% 강수0.00in 강수 시간2 RealFeel® 18° 매우 추움 맑고 추움 바람남남동 2mi/h 강수 확률0% 강수0.00in 일몰 PM 6:05 일출 PM 3:32 36° 17° 36° 19° 45° 29° ### 시간별### 일별### 월 전 세계 아시아 대한민국 서울시 서울특별시 동작구, 서울시 마포구, 서울시 서대문구, 서울시'), Document(metadata={'title': '서울특별시 일기예보 및 날씨 - The Weather Channel | Weather.com', 'source': 'https://weather.com/ko-KR/weather/today/l/82e46175f97c224acf6b95afc4934fbae0e4ba123adcee8a52b7be97c303467b', 'score': 0.63179934, 'images': []}, page_content='서울특별시 일기예보 및 날씨 - The Weather Channel | Weather.com 알제리 | العربية알제리 | Français앙골라 | Português베냉 | Français부르키나파소 | Français부룬디 | Français카메룬 | Français카메룬 | English카보베르데 | Português중앙 아프리카 공화국 | Français차드 | Français차드 | العربية코모로 | Français코모로 | العربيةDemocratic Republic of the Congo | Français콩고 공화국 | Français코트디부아르 | Français지부티 | Français지부티 | العربية이집트 | العربية적도 기니 | Español에리트레아 | العربية가봉 | Français감비아 | English가나 | English기니 | Français기니비사우 | Português케냐 | English레소토 | English라이베리아 | English리비아 | العربية마다가스카르 | Français말리 | Français모리타니 | العربية모리셔스 | English모리셔스 | Français모로코 | العربية모로코 | Français모잠비크 | Português나미비아 | English니제르 | Français나이지리아 | English르완다 | Français르완다 | English상투메 프린시페 | Português세네갈 | Français시에라리온 | English소말리아 | العربية남아프리카 | English남수단 | English수단 | العربية스와질란드 | English탄자니아 | English토고 | Français튀니지 | العربية우간다 | English 1° --/-10° -9° ### 18:00 0° 강수확률4% ### 19:00 -2° 강수확률1% ### 20:00 -3° 강수확률1% ### 21:00 -4° 강수확률2%'), Document(metadata={'title': '현재 날씨 - 기상청 날씨누리', 'source': 'https://www.weather.go.kr/w/weather/now.do', 'score': 0.24851635, 'images': []}, page_content='날씨 바다 영상·일기도 태풍 기후 기후변화 지진·화산 테마날씨 황사 관측 소식·지식 개편된 날씨누리 홈페이지 첫 화면에서 지도를 통한 실시간 기상정보와 레이더영상, 전국 특보 현황을 조회할 수 있으며, 내 지역의 현재 기상상황과 대기질 상태, 일출/일몰 시각을 확인할 수 있습니다. 현재 위치 설정 혹은 검색을 통해 조회한 육상지역 및 해역은 위치 정보 우측의 별표를 클릭하여 관심지역으로 설정할 수 있으며, 관심지역 설정 해제 또한 별표를 다시 클릭하여 해제할 수 있습니다. 설정한 관심지역은 현재 위치 정보 우측의 화살표를 클릭하여 확인할 수 있으며, 사용중인 브라우저 캐시 영역에 저장되므로 캐시 삭제시 설정한 관심지역 정보가 초기화됩니다.\" 첫 화면 상단의 톱니바퀴 아이콘을 클릭하여 날씨누리 홈페이지 첫 화면(기본화면, 지도화면) 및 풍속단위(m/s, km/h)를 맞춤 설정할 수 있습니다. 날씨누리 첫화면에서 육상 및 해상의 현재 기상정보, 초단기 강수예측, 특보 상황을 지도상에서 확인할 수 있습니다.')]}}, 'name': 'ChatPromptTemplate', 'tags': ['seq:step:2'], 'run_id': '10b2af76-42c6-40e8-8711-e154e6222bd8', 'metadata': {}, 'parent_ids': ['95e6e034-1521-48e8-b435-b2a7f08ef855']}\n",
            "{'event': 'on_prompt_end', 'data': {'output': ChatPromptValue(messages=[HumanMessage(content='다음 문맥만을 고려하여 질문에 답변해 주세요.\\n\\n문맥: \"\"\"\\n[Document(metadata={\\'title\\': \\'서울특별시, 서울시, 대한민국 현재 날씨 | AccuWeather\\', \\'source\\': \\'https://www.accuweather.com/ko/kr/seoul/226081/current-weather/226081\\', \\'score\\': 0.8649622, \\'images\\': []}, page_content=\\'서울특별시, 서울시, 대한민국 현재 날씨 | AccuWeather 서울특별시, 서울시 ========== 31°F 현재 위치 사용 서울특별시 서울시 31° 서울특별시, 서울시 날씨 오늘 WinterCast 지역 {stormName} 추적기 시간별 일별 레이더 MinuteCast 월 대기질 건강 및 활동 오늘 WinterCast 시간별 일별 레이더 MinuteCast 월 대기질 건강 및 활동 RealFeel® 36° 추움 RealFeel Shade™ 32° 추움 36° 32° 최대 자외선 지수 남남서 4mi/h 4mi/h 8° F 10mi RealFeel® 37° 추움 RealFeel Shade™ 33° 추움 최대 자외선 지수3 보통 바람서남서 5mi/h 강수 확률40% 강수0.00in 강수 시간2 RealFeel® 18° 매우 추움 맑고 추움 바람남남동 2mi/h 강수 확률0% 강수0.00in 일몰 PM 6:05 일출 PM 3:32 36° 17° 36° 19° 45° 29° ### 시간별### 일별### 월 전 세계 아시아 대한민국 서울시 서울특별시 동작구, 서울시 마포구, 서울시 서대문구, 서울시\\'), Document(metadata={\\'title\\': \\'서울특별시 일기예보 및 날씨 - The Weather Channel | Weather.com\\', \\'source\\': \\'https://weather.com/ko-KR/weather/today/l/82e46175f97c224acf6b95afc4934fbae0e4ba123adcee8a52b7be97c303467b\\', \\'score\\': 0.63179934, \\'images\\': []}, page_content=\\'서울특별시 일기예보 및 날씨 - The Weather Channel | Weather.com 알제리 | العربية알제리 | Français앙골라 | Português베냉 | Français부르키나파소 | Français부룬디 | Français카메룬 | Français카메룬 | English카보베르데 | Português중앙 아프리카 공화국 | Français차드 | Français차드 | العربية코모로 | Français코모로 | العربيةDemocratic Republic of the Congo | Français콩고 공화국 | Français코트디부아르 | Français지부티 | Français지부티 | العربية이집트 | العربية적도 기니 | Español에리트레아 | العربية가봉 | Français감비아 | English가나 | English기니 | Français기니비사우 | Português케냐 | English레소토 | English라이베리아 | English리비아 | العربية마다가스카르 | Français말리 | Français모리타니 | العربية모리셔스 | English모리셔스 | Français모로코 | العربية모로코 | Français모잠비크 | Português나미비아 | English니제르 | Français나이지리아 | English르완다 | Français르완다 | English상투메 프린시페 | Português세네갈 | Français시에라리온 | English소말리아 | العربية남아프리카 | English남수단 | English수단 | العربية스와질란드 | English탄자니아 | English토고 | Français튀니지 | العربية우간다 | English 1° --/-10° -9° ### 18:00 0° 강수확률4% ### 19:00 -2° 강수확률1% ### 20:00 -3° 강수확률1% ### 21:00 -4° 강수확률2%\\'), Document(metadata={\\'title\\': \\'현재 날씨 - 기상청 날씨누리\\', \\'source\\': \\'https://www.weather.go.kr/w/weather/now.do\\', \\'score\\': 0.24851635, \\'images\\': []}, page_content=\\'날씨 바다 영상·일기도 태풍 기후 기후변화 지진·화산 테마날씨 황사 관측 소식·지식 개편된 날씨누리 홈페이지 첫 화면에서 지도를 통한 실시간 기상정보와 레이더영상, 전국 특보 현황을 조회할 수 있으며, 내 지역의 현재 기상상황과 대기질 상태, 일출/일몰 시각을 확인할 수 있습니다. 현재 위치 설정 혹은 검색을 통해 조회한 육상지역 및 해역은 위치 정보 우측의 별표를 클릭하여 관심지역으로 설정할 수 있으며, 관심지역 설정 해제 또한 별표를 다시 클릭하여 해제할 수 있습니다. 설정한 관심지역은 현재 위치 정보 우측의 화살표를 클릭하여 확인할 수 있으며, 사용중인 브라우저 캐시 영역에 저장되므로 캐시 삭제시 설정한 관심지역 정보가 초기화됩니다.\" 첫 화면 상단의 톱니바퀴 아이콘을 클릭하여 날씨누리 홈페이지 첫 화면(기본화면, 지도화면) 및 풍속단위(m/s, km/h)를 맞춤 설정할 수 있습니다. 날씨누리 첫화면에서 육상 및 해상의 현재 기상정보, 초단기 강수예측, 특보 상황을 지도상에서 확인할 수 있습니다.\\')]\\n\"\"\"\\n\\n질문: 서울의 현재 날씨는?\\n', additional_kwargs={}, response_metadata={})]), 'input': {'question': '서울의 현재 날씨는?', 'context': [Document(metadata={'title': '서울특별시, 서울시, 대한민국 현재 날씨 | AccuWeather', 'source': 'https://www.accuweather.com/ko/kr/seoul/226081/current-weather/226081', 'score': 0.8649622, 'images': []}, page_content='서울특별시, 서울시, 대한민국 현재 날씨 | AccuWeather 서울특별시, 서울시 ========== 31°F 현재 위치 사용 서울특별시 서울시 31° 서울특별시, 서울시 날씨 오늘 WinterCast 지역 {stormName} 추적기 시간별 일별 레이더 MinuteCast 월 대기질 건강 및 활동 오늘 WinterCast 시간별 일별 레이더 MinuteCast 월 대기질 건강 및 활동 RealFeel® 36° 추움 RealFeel Shade™ 32° 추움 36° 32° 최대 자외선 지수 남남서 4mi/h 4mi/h 8° F 10mi RealFeel® 37° 추움 RealFeel Shade™ 33° 추움 최대 자외선 지수3 보통 바람서남서 5mi/h 강수 확률40% 강수0.00in 강수 시간2 RealFeel® 18° 매우 추움 맑고 추움 바람남남동 2mi/h 강수 확률0% 강수0.00in 일몰 PM 6:05 일출 PM 3:32 36° 17° 36° 19° 45° 29° ### 시간별### 일별### 월 전 세계 아시아 대한민국 서울시 서울특별시 동작구, 서울시 마포구, 서울시 서대문구, 서울시'), Document(metadata={'title': '서울특별시 일기예보 및 날씨 - The Weather Channel | Weather.com', 'source': 'https://weather.com/ko-KR/weather/today/l/82e46175f97c224acf6b95afc4934fbae0e4ba123adcee8a52b7be97c303467b', 'score': 0.63179934, 'images': []}, page_content='서울특별시 일기예보 및 날씨 - The Weather Channel | Weather.com 알제리 | العربية알제리 | Français앙골라 | Português베냉 | Français부르키나파소 | Français부룬디 | Français카메룬 | Français카메룬 | English카보베르데 | Português중앙 아프리카 공화국 | Français차드 | Français차드 | العربية코모로 | Français코모로 | العربيةDemocratic Republic of the Congo | Français콩고 공화국 | Français코트디부아르 | Français지부티 | Français지부티 | العربية이집트 | العربية적도 기니 | Español에리트레아 | العربية가봉 | Français감비아 | English가나 | English기니 | Français기니비사우 | Português케냐 | English레소토 | English라이베리아 | English리비아 | العربية마다가스카르 | Français말리 | Français모리타니 | العربية모리셔스 | English모리셔스 | Français모로코 | العربية모로코 | Français모잠비크 | Português나미비아 | English니제르 | Français나이지리아 | English르완다 | Français르완다 | English상투메 프린시페 | Português세네갈 | Français시에라리온 | English소말리아 | العربية남아프리카 | English남수단 | English수단 | العربية스와질란드 | English탄자니아 | English토고 | Français튀니지 | العربية우간다 | English 1° --/-10° -9° ### 18:00 0° 강수확률4% ### 19:00 -2° 강수확률1% ### 20:00 -3° 강수확률1% ### 21:00 -4° 강수확률2%'), Document(metadata={'title': '현재 날씨 - 기상청 날씨누리', 'source': 'https://www.weather.go.kr/w/weather/now.do', 'score': 0.24851635, 'images': []}, page_content='날씨 바다 영상·일기도 태풍 기후 기후변화 지진·화산 테마날씨 황사 관측 소식·지식 개편된 날씨누리 홈페이지 첫 화면에서 지도를 통한 실시간 기상정보와 레이더영상, 전국 특보 현황을 조회할 수 있으며, 내 지역의 현재 기상상황과 대기질 상태, 일출/일몰 시각을 확인할 수 있습니다. 현재 위치 설정 혹은 검색을 통해 조회한 육상지역 및 해역은 위치 정보 우측의 별표를 클릭하여 관심지역으로 설정할 수 있으며, 관심지역 설정 해제 또한 별표를 다시 클릭하여 해제할 수 있습니다. 설정한 관심지역은 현재 위치 정보 우측의 화살표를 클릭하여 확인할 수 있으며, 사용중인 브라우저 캐시 영역에 저장되므로 캐시 삭제시 설정한 관심지역 정보가 초기화됩니다.\" 첫 화면 상단의 톱니바퀴 아이콘을 클릭하여 날씨누리 홈페이지 첫 화면(기본화면, 지도화면) 및 풍속단위(m/s, km/h)를 맞춤 설정할 수 있습니다. 날씨누리 첫화면에서 육상 및 해상의 현재 기상정보, 초단기 강수예측, 특보 상황을 지도상에서 확인할 수 있습니다.')]}}, 'run_id': '10b2af76-42c6-40e8-8711-e154e6222bd8', 'name': 'ChatPromptTemplate', 'tags': ['seq:step:2'], 'metadata': {}, 'parent_ids': ['95e6e034-1521-48e8-b435-b2a7f08ef855']}\n",
            "{'event': 'on_chat_model_start', 'data': {'input': {'messages': [[HumanMessage(content='다음 문맥만을 고려하여 질문에 답변해 주세요.\\n\\n문맥: \"\"\"\\n[Document(metadata={\\'title\\': \\'서울특별시, 서울시, 대한민국 현재 날씨 | AccuWeather\\', \\'source\\': \\'https://www.accuweather.com/ko/kr/seoul/226081/current-weather/226081\\', \\'score\\': 0.8649622, \\'images\\': []}, page_content=\\'서울특별시, 서울시, 대한민국 현재 날씨 | AccuWeather 서울특별시, 서울시 ========== 31°F 현재 위치 사용 서울특별시 서울시 31° 서울특별시, 서울시 날씨 오늘 WinterCast 지역 {stormName} 추적기 시간별 일별 레이더 MinuteCast 월 대기질 건강 및 활동 오늘 WinterCast 시간별 일별 레이더 MinuteCast 월 대기질 건강 및 활동 RealFeel® 36° 추움 RealFeel Shade™ 32° 추움 36° 32° 최대 자외선 지수 남남서 4mi/h 4mi/h 8° F 10mi RealFeel® 37° 추움 RealFeel Shade™ 33° 추움 최대 자외선 지수3 보통 바람서남서 5mi/h 강수 확률40% 강수0.00in 강수 시간2 RealFeel® 18° 매우 추움 맑고 추움 바람남남동 2mi/h 강수 확률0% 강수0.00in 일몰 PM 6:05 일출 PM 3:32 36° 17° 36° 19° 45° 29° ### 시간별### 일별### 월 전 세계 아시아 대한민국 서울시 서울특별시 동작구, 서울시 마포구, 서울시 서대문구, 서울시\\'), Document(metadata={\\'title\\': \\'서울특별시 일기예보 및 날씨 - The Weather Channel | Weather.com\\', \\'source\\': \\'https://weather.com/ko-KR/weather/today/l/82e46175f97c224acf6b95afc4934fbae0e4ba123adcee8a52b7be97c303467b\\', \\'score\\': 0.63179934, \\'images\\': []}, page_content=\\'서울특별시 일기예보 및 날씨 - The Weather Channel | Weather.com 알제리 | العربية알제리 | Français앙골라 | Português베냉 | Français부르키나파소 | Français부룬디 | Français카메룬 | Français카메룬 | English카보베르데 | Português중앙 아프리카 공화국 | Français차드 | Français차드 | العربية코모로 | Français코모로 | العربيةDemocratic Republic of the Congo | Français콩고 공화국 | Français코트디부아르 | Français지부티 | Français지부티 | العربية이집트 | العربية적도 기니 | Español에리트레아 | العربية가봉 | Français감비아 | English가나 | English기니 | Français기니비사우 | Português케냐 | English레소토 | English라이베리아 | English리비아 | العربية마다가스카르 | Français말리 | Français모리타니 | العربية모리셔스 | English모리셔스 | Français모로코 | العربية모로코 | Français모잠비크 | Português나미비아 | English니제르 | Français나이지리아 | English르완다 | Français르완다 | English상투메 프린시페 | Português세네갈 | Français시에라리온 | English소말리아 | العربية남아프리카 | English남수단 | English수단 | العربية스와질란드 | English탄자니아 | English토고 | Français튀니지 | العربية우간다 | English 1° --/-10° -9° ### 18:00 0° 강수확률4% ### 19:00 -2° 강수확률1% ### 20:00 -3° 강수확률1% ### 21:00 -4° 강수확률2%\\'), Document(metadata={\\'title\\': \\'현재 날씨 - 기상청 날씨누리\\', \\'source\\': \\'https://www.weather.go.kr/w/weather/now.do\\', \\'score\\': 0.24851635, \\'images\\': []}, page_content=\\'날씨 바다 영상·일기도 태풍 기후 기후변화 지진·화산 테마날씨 황사 관측 소식·지식 개편된 날씨누리 홈페이지 첫 화면에서 지도를 통한 실시간 기상정보와 레이더영상, 전국 특보 현황을 조회할 수 있으며, 내 지역의 현재 기상상황과 대기질 상태, 일출/일몰 시각을 확인할 수 있습니다. 현재 위치 설정 혹은 검색을 통해 조회한 육상지역 및 해역은 위치 정보 우측의 별표를 클릭하여 관심지역으로 설정할 수 있으며, 관심지역 설정 해제 또한 별표를 다시 클릭하여 해제할 수 있습니다. 설정한 관심지역은 현재 위치 정보 우측의 화살표를 클릭하여 확인할 수 있으며, 사용중인 브라우저 캐시 영역에 저장되므로 캐시 삭제시 설정한 관심지역 정보가 초기화됩니다.\" 첫 화면 상단의 톱니바퀴 아이콘을 클릭하여 날씨누리 홈페이지 첫 화면(기본화면, 지도화면) 및 풍속단위(m/s, km/h)를 맞춤 설정할 수 있습니다. 날씨누리 첫화면에서 육상 및 해상의 현재 기상정보, 초단기 강수예측, 특보 상황을 지도상에서 확인할 수 있습니다.\\')]\\n\"\"\"\\n\\n질문: 서울의 현재 날씨는?\\n', additional_kwargs={}, response_metadata={})]]}}, 'name': 'ChatOpenAI', 'tags': ['seq:step:3'], 'run_id': '23668fe6-fe37-4897-bfa5-d7214b820ea1', 'metadata': {'ls_provider': 'openai', 'ls_model_name': 'gpt-4o-mini', 'ls_model_type': 'chat', 'ls_temperature': 0.0}, 'parent_ids': ['95e6e034-1521-48e8-b435-b2a7f08ef855']}\n",
            "{'event': 'on_chat_model_stream', 'data': {'chunk': AIMessageChunk(content='', additional_kwargs={}, response_metadata={}, id='run-23668fe6-fe37-4897-bfa5-d7214b820ea1')}, 'run_id': '23668fe6-fe37-4897-bfa5-d7214b820ea1', 'name': 'ChatOpenAI', 'tags': ['seq:step:3'], 'metadata': {'ls_provider': 'openai', 'ls_model_name': 'gpt-4o-mini', 'ls_model_type': 'chat', 'ls_temperature': 0.0}, 'parent_ids': ['95e6e034-1521-48e8-b435-b2a7f08ef855']}\n",
            "{'event': 'on_parser_start', 'data': {}, 'name': 'StrOutputParser', 'tags': ['seq:step:4'], 'run_id': '7578a152-b911-424b-9adc-03de085a531f', 'metadata': {}, 'parent_ids': ['95e6e034-1521-48e8-b435-b2a7f08ef855']}\n",
            "{'event': 'on_parser_stream', 'run_id': '7578a152-b911-424b-9adc-03de085a531f', 'name': 'StrOutputParser', 'tags': ['seq:step:4'], 'metadata': {}, 'data': {'chunk': ''}, 'parent_ids': ['95e6e034-1521-48e8-b435-b2a7f08ef855']}\n",
            "{'event': 'on_chain_stream', 'run_id': '95e6e034-1521-48e8-b435-b2a7f08ef855', 'name': 'RunnableSequence', 'tags': [], 'metadata': {}, 'data': {'chunk': ''}, 'parent_ids': []}\n",
            "{'event': 'on_chat_model_stream', 'data': {'chunk': AIMessageChunk(content='서울', additional_kwargs={}, response_metadata={}, id='run-23668fe6-fe37-4897-bfa5-d7214b820ea1')}, 'run_id': '23668fe6-fe37-4897-bfa5-d7214b820ea1', 'name': 'ChatOpenAI', 'tags': ['seq:step:3'], 'metadata': {'ls_provider': 'openai', 'ls_model_name': 'gpt-4o-mini', 'ls_model_type': 'chat', 'ls_temperature': 0.0}, 'parent_ids': ['95e6e034-1521-48e8-b435-b2a7f08ef855']}\n",
            "{'event': 'on_parser_stream', 'run_id': '7578a152-b911-424b-9adc-03de085a531f', 'name': 'StrOutputParser', 'tags': ['seq:step:4'], 'metadata': {}, 'data': {'chunk': '서울'}, 'parent_ids': ['95e6e034-1521-48e8-b435-b2a7f08ef855']}\n",
            "{'event': 'on_chain_stream', 'run_id': '95e6e034-1521-48e8-b435-b2a7f08ef855', 'name': 'RunnableSequence', 'tags': [], 'metadata': {}, 'data': {'chunk': '서울'}, 'parent_ids': []}\n",
            "{'event': 'on_chat_model_stream', 'data': {'chunk': AIMessageChunk(content='의', additional_kwargs={}, response_metadata={}, id='run-23668fe6-fe37-4897-bfa5-d7214b820ea1')}, 'run_id': '23668fe6-fe37-4897-bfa5-d7214b820ea1', 'name': 'ChatOpenAI', 'tags': ['seq:step:3'], 'metadata': {'ls_provider': 'openai', 'ls_model_name': 'gpt-4o-mini', 'ls_model_type': 'chat', 'ls_temperature': 0.0}, 'parent_ids': ['95e6e034-1521-48e8-b435-b2a7f08ef855']}\n",
            "{'event': 'on_parser_stream', 'run_id': '7578a152-b911-424b-9adc-03de085a531f', 'name': 'StrOutputParser', 'tags': ['seq:step:4'], 'metadata': {}, 'data': {'chunk': '의'}, 'parent_ids': ['95e6e034-1521-48e8-b435-b2a7f08ef855']}\n",
            "{'event': 'on_chain_stream', 'run_id': '95e6e034-1521-48e8-b435-b2a7f08ef855', 'name': 'RunnableSequence', 'tags': [], 'metadata': {}, 'data': {'chunk': '의'}, 'parent_ids': []}\n",
            "{'event': 'on_chat_model_stream', 'data': {'chunk': AIMessageChunk(content=' 현재', additional_kwargs={}, response_metadata={}, id='run-23668fe6-fe37-4897-bfa5-d7214b820ea1')}, 'run_id': '23668fe6-fe37-4897-bfa5-d7214b820ea1', 'name': 'ChatOpenAI', 'tags': ['seq:step:3'], 'metadata': {'ls_provider': 'openai', 'ls_model_name': 'gpt-4o-mini', 'ls_model_type': 'chat', 'ls_temperature': 0.0}, 'parent_ids': ['95e6e034-1521-48e8-b435-b2a7f08ef855']}\n",
            "{'event': 'on_parser_stream', 'run_id': '7578a152-b911-424b-9adc-03de085a531f', 'name': 'StrOutputParser', 'tags': ['seq:step:4'], 'metadata': {}, 'data': {'chunk': ' 현재'}, 'parent_ids': ['95e6e034-1521-48e8-b435-b2a7f08ef855']}\n",
            "{'event': 'on_chain_stream', 'run_id': '95e6e034-1521-48e8-b435-b2a7f08ef855', 'name': 'RunnableSequence', 'tags': [], 'metadata': {}, 'data': {'chunk': ' 현재'}, 'parent_ids': []}\n",
            "{'event': 'on_chat_model_stream', 'data': {'chunk': AIMessageChunk(content=' 날', additional_kwargs={}, response_metadata={}, id='run-23668fe6-fe37-4897-bfa5-d7214b820ea1')}, 'run_id': '23668fe6-fe37-4897-bfa5-d7214b820ea1', 'name': 'ChatOpenAI', 'tags': ['seq:step:3'], 'metadata': {'ls_provider': 'openai', 'ls_model_name': 'gpt-4o-mini', 'ls_model_type': 'chat', 'ls_temperature': 0.0}, 'parent_ids': ['95e6e034-1521-48e8-b435-b2a7f08ef855']}\n",
            "{'event': 'on_parser_stream', 'run_id': '7578a152-b911-424b-9adc-03de085a531f', 'name': 'StrOutputParser', 'tags': ['seq:step:4'], 'metadata': {}, 'data': {'chunk': ' 날'}, 'parent_ids': ['95e6e034-1521-48e8-b435-b2a7f08ef855']}\n",
            "{'event': 'on_chain_stream', 'run_id': '95e6e034-1521-48e8-b435-b2a7f08ef855', 'name': 'RunnableSequence', 'tags': [], 'metadata': {}, 'data': {'chunk': ' 날'}, 'parent_ids': []}\n",
            "{'event': 'on_chat_model_stream', 'data': {'chunk': AIMessageChunk(content='씨', additional_kwargs={}, response_metadata={}, id='run-23668fe6-fe37-4897-bfa5-d7214b820ea1')}, 'run_id': '23668fe6-fe37-4897-bfa5-d7214b820ea1', 'name': 'ChatOpenAI', 'tags': ['seq:step:3'], 'metadata': {'ls_provider': 'openai', 'ls_model_name': 'gpt-4o-mini', 'ls_model_type': 'chat', 'ls_temperature': 0.0}, 'parent_ids': ['95e6e034-1521-48e8-b435-b2a7f08ef855']}\n",
            "{'event': 'on_parser_stream', 'run_id': '7578a152-b911-424b-9adc-03de085a531f', 'name': 'StrOutputParser', 'tags': ['seq:step:4'], 'metadata': {}, 'data': {'chunk': '씨'}, 'parent_ids': ['95e6e034-1521-48e8-b435-b2a7f08ef855']}\n",
            "{'event': 'on_chain_stream', 'run_id': '95e6e034-1521-48e8-b435-b2a7f08ef855', 'name': 'RunnableSequence', 'tags': [], 'metadata': {}, 'data': {'chunk': '씨'}, 'parent_ids': []}\n",
            "{'event': 'on_chat_model_stream', 'data': {'chunk': AIMessageChunk(content='는', additional_kwargs={}, response_metadata={}, id='run-23668fe6-fe37-4897-bfa5-d7214b820ea1')}, 'run_id': '23668fe6-fe37-4897-bfa5-d7214b820ea1', 'name': 'ChatOpenAI', 'tags': ['seq:step:3'], 'metadata': {'ls_provider': 'openai', 'ls_model_name': 'gpt-4o-mini', 'ls_model_type': 'chat', 'ls_temperature': 0.0}, 'parent_ids': ['95e6e034-1521-48e8-b435-b2a7f08ef855']}\n",
            "{'event': 'on_parser_stream', 'run_id': '7578a152-b911-424b-9adc-03de085a531f', 'name': 'StrOutputParser', 'tags': ['seq:step:4'], 'metadata': {}, 'data': {'chunk': '는'}, 'parent_ids': ['95e6e034-1521-48e8-b435-b2a7f08ef855']}\n",
            "{'event': 'on_chain_stream', 'run_id': '95e6e034-1521-48e8-b435-b2a7f08ef855', 'name': 'RunnableSequence', 'tags': [], 'metadata': {}, 'data': {'chunk': '는'}, 'parent_ids': []}\n",
            "{'event': 'on_chat_model_stream', 'data': {'chunk': AIMessageChunk(content=' ', additional_kwargs={}, response_metadata={}, id='run-23668fe6-fe37-4897-bfa5-d7214b820ea1')}, 'run_id': '23668fe6-fe37-4897-bfa5-d7214b820ea1', 'name': 'ChatOpenAI', 'tags': ['seq:step:3'], 'metadata': {'ls_provider': 'openai', 'ls_model_name': 'gpt-4o-mini', 'ls_model_type': 'chat', 'ls_temperature': 0.0}, 'parent_ids': ['95e6e034-1521-48e8-b435-b2a7f08ef855']}\n",
            "{'event': 'on_parser_stream', 'run_id': '7578a152-b911-424b-9adc-03de085a531f', 'name': 'StrOutputParser', 'tags': ['seq:step:4'], 'metadata': {}, 'data': {'chunk': ' '}, 'parent_ids': ['95e6e034-1521-48e8-b435-b2a7f08ef855']}\n",
            "{'event': 'on_chain_stream', 'run_id': '95e6e034-1521-48e8-b435-b2a7f08ef855', 'name': 'RunnableSequence', 'tags': [], 'metadata': {}, 'data': {'chunk': ' '}, 'parent_ids': []}\n",
            "{'event': 'on_chat_model_stream', 'data': {'chunk': AIMessageChunk(content='31', additional_kwargs={}, response_metadata={}, id='run-23668fe6-fe37-4897-bfa5-d7214b820ea1')}, 'run_id': '23668fe6-fe37-4897-bfa5-d7214b820ea1', 'name': 'ChatOpenAI', 'tags': ['seq:step:3'], 'metadata': {'ls_provider': 'openai', 'ls_model_name': 'gpt-4o-mini', 'ls_model_type': 'chat', 'ls_temperature': 0.0}, 'parent_ids': ['95e6e034-1521-48e8-b435-b2a7f08ef855']}\n",
            "{'event': 'on_parser_stream', 'run_id': '7578a152-b911-424b-9adc-03de085a531f', 'name': 'StrOutputParser', 'tags': ['seq:step:4'], 'metadata': {}, 'data': {'chunk': '31'}, 'parent_ids': ['95e6e034-1521-48e8-b435-b2a7f08ef855']}\n",
            "{'event': 'on_chain_stream', 'run_id': '95e6e034-1521-48e8-b435-b2a7f08ef855', 'name': 'RunnableSequence', 'tags': [], 'metadata': {}, 'data': {'chunk': '31'}, 'parent_ids': []}\n",
            "{'event': 'on_chat_model_stream', 'data': {'chunk': AIMessageChunk(content='°F', additional_kwargs={}, response_metadata={}, id='run-23668fe6-fe37-4897-bfa5-d7214b820ea1')}, 'run_id': '23668fe6-fe37-4897-bfa5-d7214b820ea1', 'name': 'ChatOpenAI', 'tags': ['seq:step:3'], 'metadata': {'ls_provider': 'openai', 'ls_model_name': 'gpt-4o-mini', 'ls_model_type': 'chat', 'ls_temperature': 0.0}, 'parent_ids': ['95e6e034-1521-48e8-b435-b2a7f08ef855']}\n",
            "{'event': 'on_parser_stream', 'run_id': '7578a152-b911-424b-9adc-03de085a531f', 'name': 'StrOutputParser', 'tags': ['seq:step:4'], 'metadata': {}, 'data': {'chunk': '°F'}, 'parent_ids': ['95e6e034-1521-48e8-b435-b2a7f08ef855']}\n",
            "{'event': 'on_chain_stream', 'run_id': '95e6e034-1521-48e8-b435-b2a7f08ef855', 'name': 'RunnableSequence', 'tags': [], 'metadata': {}, 'data': {'chunk': '°F'}, 'parent_ids': []}\n",
            "{'event': 'on_chat_model_stream', 'data': {'chunk': AIMessageChunk(content='(', additional_kwargs={}, response_metadata={}, id='run-23668fe6-fe37-4897-bfa5-d7214b820ea1')}, 'run_id': '23668fe6-fe37-4897-bfa5-d7214b820ea1', 'name': 'ChatOpenAI', 'tags': ['seq:step:3'], 'metadata': {'ls_provider': 'openai', 'ls_model_name': 'gpt-4o-mini', 'ls_model_type': 'chat', 'ls_temperature': 0.0}, 'parent_ids': ['95e6e034-1521-48e8-b435-b2a7f08ef855']}\n",
            "{'event': 'on_parser_stream', 'run_id': '7578a152-b911-424b-9adc-03de085a531f', 'name': 'StrOutputParser', 'tags': ['seq:step:4'], 'metadata': {}, 'data': {'chunk': '('}, 'parent_ids': ['95e6e034-1521-48e8-b435-b2a7f08ef855']}\n",
            "{'event': 'on_chain_stream', 'run_id': '95e6e034-1521-48e8-b435-b2a7f08ef855', 'name': 'RunnableSequence', 'tags': [], 'metadata': {}, 'data': {'chunk': '('}, 'parent_ids': []}\n",
            "{'event': 'on_chat_model_stream', 'data': {'chunk': AIMessageChunk(content='약', additional_kwargs={}, response_metadata={}, id='run-23668fe6-fe37-4897-bfa5-d7214b820ea1')}, 'run_id': '23668fe6-fe37-4897-bfa5-d7214b820ea1', 'name': 'ChatOpenAI', 'tags': ['seq:step:3'], 'metadata': {'ls_provider': 'openai', 'ls_model_name': 'gpt-4o-mini', 'ls_model_type': 'chat', 'ls_temperature': 0.0}, 'parent_ids': ['95e6e034-1521-48e8-b435-b2a7f08ef855']}\n",
            "{'event': 'on_parser_stream', 'run_id': '7578a152-b911-424b-9adc-03de085a531f', 'name': 'StrOutputParser', 'tags': ['seq:step:4'], 'metadata': {}, 'data': {'chunk': '약'}, 'parent_ids': ['95e6e034-1521-48e8-b435-b2a7f08ef855']}\n",
            "{'event': 'on_chain_stream', 'run_id': '95e6e034-1521-48e8-b435-b2a7f08ef855', 'name': 'RunnableSequence', 'tags': [], 'metadata': {}, 'data': {'chunk': '약'}, 'parent_ids': []}\n",
            "{'event': 'on_chat_model_stream', 'data': {'chunk': AIMessageChunk(content=' -', additional_kwargs={}, response_metadata={}, id='run-23668fe6-fe37-4897-bfa5-d7214b820ea1')}, 'run_id': '23668fe6-fe37-4897-bfa5-d7214b820ea1', 'name': 'ChatOpenAI', 'tags': ['seq:step:3'], 'metadata': {'ls_provider': 'openai', 'ls_model_name': 'gpt-4o-mini', 'ls_model_type': 'chat', 'ls_temperature': 0.0}, 'parent_ids': ['95e6e034-1521-48e8-b435-b2a7f08ef855']}\n",
            "{'event': 'on_parser_stream', 'run_id': '7578a152-b911-424b-9adc-03de085a531f', 'name': 'StrOutputParser', 'tags': ['seq:step:4'], 'metadata': {}, 'data': {'chunk': ' -'}, 'parent_ids': ['95e6e034-1521-48e8-b435-b2a7f08ef855']}\n",
            "{'event': 'on_chain_stream', 'run_id': '95e6e034-1521-48e8-b435-b2a7f08ef855', 'name': 'RunnableSequence', 'tags': [], 'metadata': {}, 'data': {'chunk': ' -'}, 'parent_ids': []}\n",
            "{'event': 'on_chat_model_stream', 'data': {'chunk': AIMessageChunk(content='0', additional_kwargs={}, response_metadata={}, id='run-23668fe6-fe37-4897-bfa5-d7214b820ea1')}, 'run_id': '23668fe6-fe37-4897-bfa5-d7214b820ea1', 'name': 'ChatOpenAI', 'tags': ['seq:step:3'], 'metadata': {'ls_provider': 'openai', 'ls_model_name': 'gpt-4o-mini', 'ls_model_type': 'chat', 'ls_temperature': 0.0}, 'parent_ids': ['95e6e034-1521-48e8-b435-b2a7f08ef855']}\n",
            "{'event': 'on_parser_stream', 'run_id': '7578a152-b911-424b-9adc-03de085a531f', 'name': 'StrOutputParser', 'tags': ['seq:step:4'], 'metadata': {}, 'data': {'chunk': '0'}, 'parent_ids': ['95e6e034-1521-48e8-b435-b2a7f08ef855']}\n",
            "{'event': 'on_chain_stream', 'run_id': '95e6e034-1521-48e8-b435-b2a7f08ef855', 'name': 'RunnableSequence', 'tags': [], 'metadata': {}, 'data': {'chunk': '0'}, 'parent_ids': []}\n",
            "{'event': 'on_chat_model_stream', 'data': {'chunk': AIMessageChunk(content='.', additional_kwargs={}, response_metadata={}, id='run-23668fe6-fe37-4897-bfa5-d7214b820ea1')}, 'run_id': '23668fe6-fe37-4897-bfa5-d7214b820ea1', 'name': 'ChatOpenAI', 'tags': ['seq:step:3'], 'metadata': {'ls_provider': 'openai', 'ls_model_name': 'gpt-4o-mini', 'ls_model_type': 'chat', 'ls_temperature': 0.0}, 'parent_ids': ['95e6e034-1521-48e8-b435-b2a7f08ef855']}\n",
            "{'event': 'on_parser_stream', 'run_id': '7578a152-b911-424b-9adc-03de085a531f', 'name': 'StrOutputParser', 'tags': ['seq:step:4'], 'metadata': {}, 'data': {'chunk': '.'}, 'parent_ids': ['95e6e034-1521-48e8-b435-b2a7f08ef855']}\n",
            "{'event': 'on_chain_stream', 'run_id': '95e6e034-1521-48e8-b435-b2a7f08ef855', 'name': 'RunnableSequence', 'tags': [], 'metadata': {}, 'data': {'chunk': '.'}, 'parent_ids': []}\n",
            "{'event': 'on_chat_model_stream', 'data': {'chunk': AIMessageChunk(content='6', additional_kwargs={}, response_metadata={}, id='run-23668fe6-fe37-4897-bfa5-d7214b820ea1')}, 'run_id': '23668fe6-fe37-4897-bfa5-d7214b820ea1', 'name': 'ChatOpenAI', 'tags': ['seq:step:3'], 'metadata': {'ls_provider': 'openai', 'ls_model_name': 'gpt-4o-mini', 'ls_model_type': 'chat', 'ls_temperature': 0.0}, 'parent_ids': ['95e6e034-1521-48e8-b435-b2a7f08ef855']}\n",
            "{'event': 'on_parser_stream', 'run_id': '7578a152-b911-424b-9adc-03de085a531f', 'name': 'StrOutputParser', 'tags': ['seq:step:4'], 'metadata': {}, 'data': {'chunk': '6'}, 'parent_ids': ['95e6e034-1521-48e8-b435-b2a7f08ef855']}\n",
            "{'event': 'on_chain_stream', 'run_id': '95e6e034-1521-48e8-b435-b2a7f08ef855', 'name': 'RunnableSequence', 'tags': [], 'metadata': {}, 'data': {'chunk': '6'}, 'parent_ids': []}\n",
            "{'event': 'on_chat_model_stream', 'data': {'chunk': AIMessageChunk(content='°C', additional_kwargs={}, response_metadata={}, id='run-23668fe6-fe37-4897-bfa5-d7214b820ea1')}, 'run_id': '23668fe6-fe37-4897-bfa5-d7214b820ea1', 'name': 'ChatOpenAI', 'tags': ['seq:step:3'], 'metadata': {'ls_provider': 'openai', 'ls_model_name': 'gpt-4o-mini', 'ls_model_type': 'chat', 'ls_temperature': 0.0}, 'parent_ids': ['95e6e034-1521-48e8-b435-b2a7f08ef855']}\n",
            "{'event': 'on_parser_stream', 'run_id': '7578a152-b911-424b-9adc-03de085a531f', 'name': 'StrOutputParser', 'tags': ['seq:step:4'], 'metadata': {}, 'data': {'chunk': '°C'}, 'parent_ids': ['95e6e034-1521-48e8-b435-b2a7f08ef855']}\n",
            "{'event': 'on_chain_stream', 'run_id': '95e6e034-1521-48e8-b435-b2a7f08ef855', 'name': 'RunnableSequence', 'tags': [], 'metadata': {}, 'data': {'chunk': '°C'}, 'parent_ids': []}\n",
            "{'event': 'on_chat_model_stream', 'data': {'chunk': AIMessageChunk(content=')', additional_kwargs={}, response_metadata={}, id='run-23668fe6-fe37-4897-bfa5-d7214b820ea1')}, 'run_id': '23668fe6-fe37-4897-bfa5-d7214b820ea1', 'name': 'ChatOpenAI', 'tags': ['seq:step:3'], 'metadata': {'ls_provider': 'openai', 'ls_model_name': 'gpt-4o-mini', 'ls_model_type': 'chat', 'ls_temperature': 0.0}, 'parent_ids': ['95e6e034-1521-48e8-b435-b2a7f08ef855']}\n",
            "{'event': 'on_parser_stream', 'run_id': '7578a152-b911-424b-9adc-03de085a531f', 'name': 'StrOutputParser', 'tags': ['seq:step:4'], 'metadata': {}, 'data': {'chunk': ')'}, 'parent_ids': ['95e6e034-1521-48e8-b435-b2a7f08ef855']}\n",
            "{'event': 'on_chain_stream', 'run_id': '95e6e034-1521-48e8-b435-b2a7f08ef855', 'name': 'RunnableSequence', 'tags': [], 'metadata': {}, 'data': {'chunk': ')'}, 'parent_ids': []}\n",
            "{'event': 'on_chat_model_stream', 'data': {'chunk': AIMessageChunk(content='이며', additional_kwargs={}, response_metadata={}, id='run-23668fe6-fe37-4897-bfa5-d7214b820ea1')}, 'run_id': '23668fe6-fe37-4897-bfa5-d7214b820ea1', 'name': 'ChatOpenAI', 'tags': ['seq:step:3'], 'metadata': {'ls_provider': 'openai', 'ls_model_name': 'gpt-4o-mini', 'ls_model_type': 'chat', 'ls_temperature': 0.0}, 'parent_ids': ['95e6e034-1521-48e8-b435-b2a7f08ef855']}\n",
            "{'event': 'on_parser_stream', 'run_id': '7578a152-b911-424b-9adc-03de085a531f', 'name': 'StrOutputParser', 'tags': ['seq:step:4'], 'metadata': {}, 'data': {'chunk': '이며'}, 'parent_ids': ['95e6e034-1521-48e8-b435-b2a7f08ef855']}\n",
            "{'event': 'on_chain_stream', 'run_id': '95e6e034-1521-48e8-b435-b2a7f08ef855', 'name': 'RunnableSequence', 'tags': [], 'metadata': {}, 'data': {'chunk': '이며'}, 'parent_ids': []}\n",
            "{'event': 'on_chat_model_stream', 'data': {'chunk': AIMessageChunk(content=',', additional_kwargs={}, response_metadata={}, id='run-23668fe6-fe37-4897-bfa5-d7214b820ea1')}, 'run_id': '23668fe6-fe37-4897-bfa5-d7214b820ea1', 'name': 'ChatOpenAI', 'tags': ['seq:step:3'], 'metadata': {'ls_provider': 'openai', 'ls_model_name': 'gpt-4o-mini', 'ls_model_type': 'chat', 'ls_temperature': 0.0}, 'parent_ids': ['95e6e034-1521-48e8-b435-b2a7f08ef855']}\n",
            "{'event': 'on_parser_stream', 'run_id': '7578a152-b911-424b-9adc-03de085a531f', 'name': 'StrOutputParser', 'tags': ['seq:step:4'], 'metadata': {}, 'data': {'chunk': ','}, 'parent_ids': ['95e6e034-1521-48e8-b435-b2a7f08ef855']}\n",
            "{'event': 'on_chain_stream', 'run_id': '95e6e034-1521-48e8-b435-b2a7f08ef855', 'name': 'RunnableSequence', 'tags': [], 'metadata': {}, 'data': {'chunk': ','}, 'parent_ids': []}\n",
            "{'event': 'on_chat_model_stream', 'data': {'chunk': AIMessageChunk(content=' Real', additional_kwargs={}, response_metadata={}, id='run-23668fe6-fe37-4897-bfa5-d7214b820ea1')}, 'run_id': '23668fe6-fe37-4897-bfa5-d7214b820ea1', 'name': 'ChatOpenAI', 'tags': ['seq:step:3'], 'metadata': {'ls_provider': 'openai', 'ls_model_name': 'gpt-4o-mini', 'ls_model_type': 'chat', 'ls_temperature': 0.0}, 'parent_ids': ['95e6e034-1521-48e8-b435-b2a7f08ef855']}\n",
            "{'event': 'on_parser_stream', 'run_id': '7578a152-b911-424b-9adc-03de085a531f', 'name': 'StrOutputParser', 'tags': ['seq:step:4'], 'metadata': {}, 'data': {'chunk': ' Real'}, 'parent_ids': ['95e6e034-1521-48e8-b435-b2a7f08ef855']}\n",
            "{'event': 'on_chain_stream', 'run_id': '95e6e034-1521-48e8-b435-b2a7f08ef855', 'name': 'RunnableSequence', 'tags': [], 'metadata': {}, 'data': {'chunk': ' Real'}, 'parent_ids': []}\n",
            "{'event': 'on_chat_model_stream', 'data': {'chunk': AIMessageChunk(content='Feel', additional_kwargs={}, response_metadata={}, id='run-23668fe6-fe37-4897-bfa5-d7214b820ea1')}, 'run_id': '23668fe6-fe37-4897-bfa5-d7214b820ea1', 'name': 'ChatOpenAI', 'tags': ['seq:step:3'], 'metadata': {'ls_provider': 'openai', 'ls_model_name': 'gpt-4o-mini', 'ls_model_type': 'chat', 'ls_temperature': 0.0}, 'parent_ids': ['95e6e034-1521-48e8-b435-b2a7f08ef855']}\n",
            "{'event': 'on_parser_stream', 'run_id': '7578a152-b911-424b-9adc-03de085a531f', 'name': 'StrOutputParser', 'tags': ['seq:step:4'], 'metadata': {}, 'data': {'chunk': 'Feel'}, 'parent_ids': ['95e6e034-1521-48e8-b435-b2a7f08ef855']}\n",
            "{'event': 'on_chain_stream', 'run_id': '95e6e034-1521-48e8-b435-b2a7f08ef855', 'name': 'RunnableSequence', 'tags': [], 'metadata': {}, 'data': {'chunk': 'Feel'}, 'parent_ids': []}\n",
            "{'event': 'on_chat_model_stream', 'data': {'chunk': AIMessageChunk(content='®', additional_kwargs={}, response_metadata={}, id='run-23668fe6-fe37-4897-bfa5-d7214b820ea1')}, 'run_id': '23668fe6-fe37-4897-bfa5-d7214b820ea1', 'name': 'ChatOpenAI', 'tags': ['seq:step:3'], 'metadata': {'ls_provider': 'openai', 'ls_model_name': 'gpt-4o-mini', 'ls_model_type': 'chat', 'ls_temperature': 0.0}, 'parent_ids': ['95e6e034-1521-48e8-b435-b2a7f08ef855']}\n",
            "{'event': 'on_parser_stream', 'run_id': '7578a152-b911-424b-9adc-03de085a531f', 'name': 'StrOutputParser', 'tags': ['seq:step:4'], 'metadata': {}, 'data': {'chunk': '®'}, 'parent_ids': ['95e6e034-1521-48e8-b435-b2a7f08ef855']}\n",
            "{'event': 'on_chain_stream', 'run_id': '95e6e034-1521-48e8-b435-b2a7f08ef855', 'name': 'RunnableSequence', 'tags': [], 'metadata': {}, 'data': {'chunk': '®'}, 'parent_ids': []}\n",
            "{'event': 'on_chat_model_stream', 'data': {'chunk': AIMessageChunk(content='은', additional_kwargs={}, response_metadata={}, id='run-23668fe6-fe37-4897-bfa5-d7214b820ea1')}, 'run_id': '23668fe6-fe37-4897-bfa5-d7214b820ea1', 'name': 'ChatOpenAI', 'tags': ['seq:step:3'], 'metadata': {'ls_provider': 'openai', 'ls_model_name': 'gpt-4o-mini', 'ls_model_type': 'chat', 'ls_temperature': 0.0}, 'parent_ids': ['95e6e034-1521-48e8-b435-b2a7f08ef855']}\n",
            "{'event': 'on_parser_stream', 'run_id': '7578a152-b911-424b-9adc-03de085a531f', 'name': 'StrOutputParser', 'tags': ['seq:step:4'], 'metadata': {}, 'data': {'chunk': '은'}, 'parent_ids': ['95e6e034-1521-48e8-b435-b2a7f08ef855']}\n",
            "{'event': 'on_chain_stream', 'run_id': '95e6e034-1521-48e8-b435-b2a7f08ef855', 'name': 'RunnableSequence', 'tags': [], 'metadata': {}, 'data': {'chunk': '은'}, 'parent_ids': []}\n",
            "{'event': 'on_chat_model_stream', 'data': {'chunk': AIMessageChunk(content=' ', additional_kwargs={}, response_metadata={}, id='run-23668fe6-fe37-4897-bfa5-d7214b820ea1')}, 'run_id': '23668fe6-fe37-4897-bfa5-d7214b820ea1', 'name': 'ChatOpenAI', 'tags': ['seq:step:3'], 'metadata': {'ls_provider': 'openai', 'ls_model_name': 'gpt-4o-mini', 'ls_model_type': 'chat', 'ls_temperature': 0.0}, 'parent_ids': ['95e6e034-1521-48e8-b435-b2a7f08ef855']}\n",
            "{'event': 'on_parser_stream', 'run_id': '7578a152-b911-424b-9adc-03de085a531f', 'name': 'StrOutputParser', 'tags': ['seq:step:4'], 'metadata': {}, 'data': {'chunk': ' '}, 'parent_ids': ['95e6e034-1521-48e8-b435-b2a7f08ef855']}\n",
            "{'event': 'on_chain_stream', 'run_id': '95e6e034-1521-48e8-b435-b2a7f08ef855', 'name': 'RunnableSequence', 'tags': [], 'metadata': {}, 'data': {'chunk': ' '}, 'parent_ids': []}\n",
            "{'event': 'on_chat_model_stream', 'data': {'chunk': AIMessageChunk(content='36', additional_kwargs={}, response_metadata={}, id='run-23668fe6-fe37-4897-bfa5-d7214b820ea1')}, 'run_id': '23668fe6-fe37-4897-bfa5-d7214b820ea1', 'name': 'ChatOpenAI', 'tags': ['seq:step:3'], 'metadata': {'ls_provider': 'openai', 'ls_model_name': 'gpt-4o-mini', 'ls_model_type': 'chat', 'ls_temperature': 0.0}, 'parent_ids': ['95e6e034-1521-48e8-b435-b2a7f08ef855']}\n",
            "{'event': 'on_parser_stream', 'run_id': '7578a152-b911-424b-9adc-03de085a531f', 'name': 'StrOutputParser', 'tags': ['seq:step:4'], 'metadata': {}, 'data': {'chunk': '36'}, 'parent_ids': ['95e6e034-1521-48e8-b435-b2a7f08ef855']}\n",
            "{'event': 'on_chain_stream', 'run_id': '95e6e034-1521-48e8-b435-b2a7f08ef855', 'name': 'RunnableSequence', 'tags': [], 'metadata': {}, 'data': {'chunk': '36'}, 'parent_ids': []}\n",
            "{'event': 'on_chat_model_stream', 'data': {'chunk': AIMessageChunk(content='°F', additional_kwargs={}, response_metadata={}, id='run-23668fe6-fe37-4897-bfa5-d7214b820ea1')}, 'run_id': '23668fe6-fe37-4897-bfa5-d7214b820ea1', 'name': 'ChatOpenAI', 'tags': ['seq:step:3'], 'metadata': {'ls_provider': 'openai', 'ls_model_name': 'gpt-4o-mini', 'ls_model_type': 'chat', 'ls_temperature': 0.0}, 'parent_ids': ['95e6e034-1521-48e8-b435-b2a7f08ef855']}\n",
            "{'event': 'on_parser_stream', 'run_id': '7578a152-b911-424b-9adc-03de085a531f', 'name': 'StrOutputParser', 'tags': ['seq:step:4'], 'metadata': {}, 'data': {'chunk': '°F'}, 'parent_ids': ['95e6e034-1521-48e8-b435-b2a7f08ef855']}\n",
            "{'event': 'on_chain_stream', 'run_id': '95e6e034-1521-48e8-b435-b2a7f08ef855', 'name': 'RunnableSequence', 'tags': [], 'metadata': {}, 'data': {'chunk': '°F'}, 'parent_ids': []}\n",
            "{'event': 'on_chat_model_stream', 'data': {'chunk': AIMessageChunk(content='(', additional_kwargs={}, response_metadata={}, id='run-23668fe6-fe37-4897-bfa5-d7214b820ea1')}, 'run_id': '23668fe6-fe37-4897-bfa5-d7214b820ea1', 'name': 'ChatOpenAI', 'tags': ['seq:step:3'], 'metadata': {'ls_provider': 'openai', 'ls_model_name': 'gpt-4o-mini', 'ls_model_type': 'chat', 'ls_temperature': 0.0}, 'parent_ids': ['95e6e034-1521-48e8-b435-b2a7f08ef855']}\n",
            "{'event': 'on_parser_stream', 'run_id': '7578a152-b911-424b-9adc-03de085a531f', 'name': 'StrOutputParser', 'tags': ['seq:step:4'], 'metadata': {}, 'data': {'chunk': '('}, 'parent_ids': ['95e6e034-1521-48e8-b435-b2a7f08ef855']}\n",
            "{'event': 'on_chain_stream', 'run_id': '95e6e034-1521-48e8-b435-b2a7f08ef855', 'name': 'RunnableSequence', 'tags': [], 'metadata': {}, 'data': {'chunk': '('}, 'parent_ids': []}\n",
            "{'event': 'on_chat_model_stream', 'data': {'chunk': AIMessageChunk(content='약', additional_kwargs={}, response_metadata={}, id='run-23668fe6-fe37-4897-bfa5-d7214b820ea1')}, 'run_id': '23668fe6-fe37-4897-bfa5-d7214b820ea1', 'name': 'ChatOpenAI', 'tags': ['seq:step:3'], 'metadata': {'ls_provider': 'openai', 'ls_model_name': 'gpt-4o-mini', 'ls_model_type': 'chat', 'ls_temperature': 0.0}, 'parent_ids': ['95e6e034-1521-48e8-b435-b2a7f08ef855']}\n",
            "{'event': 'on_parser_stream', 'run_id': '7578a152-b911-424b-9adc-03de085a531f', 'name': 'StrOutputParser', 'tags': ['seq:step:4'], 'metadata': {}, 'data': {'chunk': '약'}, 'parent_ids': ['95e6e034-1521-48e8-b435-b2a7f08ef855']}\n",
            "{'event': 'on_chain_stream', 'run_id': '95e6e034-1521-48e8-b435-b2a7f08ef855', 'name': 'RunnableSequence', 'tags': [], 'metadata': {}, 'data': {'chunk': '약'}, 'parent_ids': []}\n",
            "{'event': 'on_chat_model_stream', 'data': {'chunk': AIMessageChunk(content=' ', additional_kwargs={}, response_metadata={}, id='run-23668fe6-fe37-4897-bfa5-d7214b820ea1')}, 'run_id': '23668fe6-fe37-4897-bfa5-d7214b820ea1', 'name': 'ChatOpenAI', 'tags': ['seq:step:3'], 'metadata': {'ls_provider': 'openai', 'ls_model_name': 'gpt-4o-mini', 'ls_model_type': 'chat', 'ls_temperature': 0.0}, 'parent_ids': ['95e6e034-1521-48e8-b435-b2a7f08ef855']}\n",
            "{'event': 'on_parser_stream', 'run_id': '7578a152-b911-424b-9adc-03de085a531f', 'name': 'StrOutputParser', 'tags': ['seq:step:4'], 'metadata': {}, 'data': {'chunk': ' '}, 'parent_ids': ['95e6e034-1521-48e8-b435-b2a7f08ef855']}\n",
            "{'event': 'on_chain_stream', 'run_id': '95e6e034-1521-48e8-b435-b2a7f08ef855', 'name': 'RunnableSequence', 'tags': [], 'metadata': {}, 'data': {'chunk': ' '}, 'parent_ids': []}\n",
            "{'event': 'on_chat_model_stream', 'data': {'chunk': AIMessageChunk(content='2', additional_kwargs={}, response_metadata={}, id='run-23668fe6-fe37-4897-bfa5-d7214b820ea1')}, 'run_id': '23668fe6-fe37-4897-bfa5-d7214b820ea1', 'name': 'ChatOpenAI', 'tags': ['seq:step:3'], 'metadata': {'ls_provider': 'openai', 'ls_model_name': 'gpt-4o-mini', 'ls_model_type': 'chat', 'ls_temperature': 0.0}, 'parent_ids': ['95e6e034-1521-48e8-b435-b2a7f08ef855']}\n",
            "{'event': 'on_parser_stream', 'run_id': '7578a152-b911-424b-9adc-03de085a531f', 'name': 'StrOutputParser', 'tags': ['seq:step:4'], 'metadata': {}, 'data': {'chunk': '2'}, 'parent_ids': ['95e6e034-1521-48e8-b435-b2a7f08ef855']}\n",
            "{'event': 'on_chain_stream', 'run_id': '95e6e034-1521-48e8-b435-b2a7f08ef855', 'name': 'RunnableSequence', 'tags': [], 'metadata': {}, 'data': {'chunk': '2'}, 'parent_ids': []}\n",
            "{'event': 'on_chat_model_stream', 'data': {'chunk': AIMessageChunk(content='.', additional_kwargs={}, response_metadata={}, id='run-23668fe6-fe37-4897-bfa5-d7214b820ea1')}, 'run_id': '23668fe6-fe37-4897-bfa5-d7214b820ea1', 'name': 'ChatOpenAI', 'tags': ['seq:step:3'], 'metadata': {'ls_provider': 'openai', 'ls_model_name': 'gpt-4o-mini', 'ls_model_type': 'chat', 'ls_temperature': 0.0}, 'parent_ids': ['95e6e034-1521-48e8-b435-b2a7f08ef855']}\n",
            "{'event': 'on_parser_stream', 'run_id': '7578a152-b911-424b-9adc-03de085a531f', 'name': 'StrOutputParser', 'tags': ['seq:step:4'], 'metadata': {}, 'data': {'chunk': '.'}, 'parent_ids': ['95e6e034-1521-48e8-b435-b2a7f08ef855']}\n",
            "{'event': 'on_chain_stream', 'run_id': '95e6e034-1521-48e8-b435-b2a7f08ef855', 'name': 'RunnableSequence', 'tags': [], 'metadata': {}, 'data': {'chunk': '.'}, 'parent_ids': []}\n",
            "{'event': 'on_chat_model_stream', 'data': {'chunk': AIMessageChunk(content='2', additional_kwargs={}, response_metadata={}, id='run-23668fe6-fe37-4897-bfa5-d7214b820ea1')}, 'run_id': '23668fe6-fe37-4897-bfa5-d7214b820ea1', 'name': 'ChatOpenAI', 'tags': ['seq:step:3'], 'metadata': {'ls_provider': 'openai', 'ls_model_name': 'gpt-4o-mini', 'ls_model_type': 'chat', 'ls_temperature': 0.0}, 'parent_ids': ['95e6e034-1521-48e8-b435-b2a7f08ef855']}\n",
            "{'event': 'on_parser_stream', 'run_id': '7578a152-b911-424b-9adc-03de085a531f', 'name': 'StrOutputParser', 'tags': ['seq:step:4'], 'metadata': {}, 'data': {'chunk': '2'}, 'parent_ids': ['95e6e034-1521-48e8-b435-b2a7f08ef855']}\n",
            "{'event': 'on_chain_stream', 'run_id': '95e6e034-1521-48e8-b435-b2a7f08ef855', 'name': 'RunnableSequence', 'tags': [], 'metadata': {}, 'data': {'chunk': '2'}, 'parent_ids': []}\n",
            "{'event': 'on_chat_model_stream', 'data': {'chunk': AIMessageChunk(content='°C', additional_kwargs={}, response_metadata={}, id='run-23668fe6-fe37-4897-bfa5-d7214b820ea1')}, 'run_id': '23668fe6-fe37-4897-bfa5-d7214b820ea1', 'name': 'ChatOpenAI', 'tags': ['seq:step:3'], 'metadata': {'ls_provider': 'openai', 'ls_model_name': 'gpt-4o-mini', 'ls_model_type': 'chat', 'ls_temperature': 0.0}, 'parent_ids': ['95e6e034-1521-48e8-b435-b2a7f08ef855']}\n",
            "{'event': 'on_parser_stream', 'run_id': '7578a152-b911-424b-9adc-03de085a531f', 'name': 'StrOutputParser', 'tags': ['seq:step:4'], 'metadata': {}, 'data': {'chunk': '°C'}, 'parent_ids': ['95e6e034-1521-48e8-b435-b2a7f08ef855']}\n",
            "{'event': 'on_chain_stream', 'run_id': '95e6e034-1521-48e8-b435-b2a7f08ef855', 'name': 'RunnableSequence', 'tags': [], 'metadata': {}, 'data': {'chunk': '°C'}, 'parent_ids': []}\n",
            "{'event': 'on_chat_model_stream', 'data': {'chunk': AIMessageChunk(content=')', additional_kwargs={}, response_metadata={}, id='run-23668fe6-fe37-4897-bfa5-d7214b820ea1')}, 'run_id': '23668fe6-fe37-4897-bfa5-d7214b820ea1', 'name': 'ChatOpenAI', 'tags': ['seq:step:3'], 'metadata': {'ls_provider': 'openai', 'ls_model_name': 'gpt-4o-mini', 'ls_model_type': 'chat', 'ls_temperature': 0.0}, 'parent_ids': ['95e6e034-1521-48e8-b435-b2a7f08ef855']}\n",
            "{'event': 'on_parser_stream', 'run_id': '7578a152-b911-424b-9adc-03de085a531f', 'name': 'StrOutputParser', 'tags': ['seq:step:4'], 'metadata': {}, 'data': {'chunk': ')'}, 'parent_ids': ['95e6e034-1521-48e8-b435-b2a7f08ef855']}\n",
            "{'event': 'on_chain_stream', 'run_id': '95e6e034-1521-48e8-b435-b2a7f08ef855', 'name': 'RunnableSequence', 'tags': [], 'metadata': {}, 'data': {'chunk': ')'}, 'parent_ids': []}\n",
            "{'event': 'on_chat_model_stream', 'data': {'chunk': AIMessageChunk(content='로', additional_kwargs={}, response_metadata={}, id='run-23668fe6-fe37-4897-bfa5-d7214b820ea1')}, 'run_id': '23668fe6-fe37-4897-bfa5-d7214b820ea1', 'name': 'ChatOpenAI', 'tags': ['seq:step:3'], 'metadata': {'ls_provider': 'openai', 'ls_model_name': 'gpt-4o-mini', 'ls_model_type': 'chat', 'ls_temperature': 0.0}, 'parent_ids': ['95e6e034-1521-48e8-b435-b2a7f08ef855']}\n",
            "{'event': 'on_parser_stream', 'run_id': '7578a152-b911-424b-9adc-03de085a531f', 'name': 'StrOutputParser', 'tags': ['seq:step:4'], 'metadata': {}, 'data': {'chunk': '로'}, 'parent_ids': ['95e6e034-1521-48e8-b435-b2a7f08ef855']}\n",
            "{'event': 'on_chain_stream', 'run_id': '95e6e034-1521-48e8-b435-b2a7f08ef855', 'name': 'RunnableSequence', 'tags': [], 'metadata': {}, 'data': {'chunk': '로'}, 'parent_ids': []}\n",
            "{'event': 'on_chat_model_stream', 'data': {'chunk': AIMessageChunk(content=' 추', additional_kwargs={}, response_metadata={}, id='run-23668fe6-fe37-4897-bfa5-d7214b820ea1')}, 'run_id': '23668fe6-fe37-4897-bfa5-d7214b820ea1', 'name': 'ChatOpenAI', 'tags': ['seq:step:3'], 'metadata': {'ls_provider': 'openai', 'ls_model_name': 'gpt-4o-mini', 'ls_model_type': 'chat', 'ls_temperature': 0.0}, 'parent_ids': ['95e6e034-1521-48e8-b435-b2a7f08ef855']}\n",
            "{'event': 'on_parser_stream', 'run_id': '7578a152-b911-424b-9adc-03de085a531f', 'name': 'StrOutputParser', 'tags': ['seq:step:4'], 'metadata': {}, 'data': {'chunk': ' 추'}, 'parent_ids': ['95e6e034-1521-48e8-b435-b2a7f08ef855']}\n",
            "{'event': 'on_chain_stream', 'run_id': '95e6e034-1521-48e8-b435-b2a7f08ef855', 'name': 'RunnableSequence', 'tags': [], 'metadata': {}, 'data': {'chunk': ' 추'}, 'parent_ids': []}\n",
            "{'event': 'on_chat_model_stream', 'data': {'chunk': AIMessageChunk(content='운', additional_kwargs={}, response_metadata={}, id='run-23668fe6-fe37-4897-bfa5-d7214b820ea1')}, 'run_id': '23668fe6-fe37-4897-bfa5-d7214b820ea1', 'name': 'ChatOpenAI', 'tags': ['seq:step:3'], 'metadata': {'ls_provider': 'openai', 'ls_model_name': 'gpt-4o-mini', 'ls_model_type': 'chat', 'ls_temperature': 0.0}, 'parent_ids': ['95e6e034-1521-48e8-b435-b2a7f08ef855']}\n",
            "{'event': 'on_parser_stream', 'run_id': '7578a152-b911-424b-9adc-03de085a531f', 'name': 'StrOutputParser', 'tags': ['seq:step:4'], 'metadata': {}, 'data': {'chunk': '운'}, 'parent_ids': ['95e6e034-1521-48e8-b435-b2a7f08ef855']}\n",
            "{'event': 'on_chain_stream', 'run_id': '95e6e034-1521-48e8-b435-b2a7f08ef855', 'name': 'RunnableSequence', 'tags': [], 'metadata': {}, 'data': {'chunk': '운'}, 'parent_ids': []}\n",
            "{'event': 'on_chat_model_stream', 'data': {'chunk': AIMessageChunk(content=' 날', additional_kwargs={}, response_metadata={}, id='run-23668fe6-fe37-4897-bfa5-d7214b820ea1')}, 'run_id': '23668fe6-fe37-4897-bfa5-d7214b820ea1', 'name': 'ChatOpenAI', 'tags': ['seq:step:3'], 'metadata': {'ls_provider': 'openai', 'ls_model_name': 'gpt-4o-mini', 'ls_model_type': 'chat', 'ls_temperature': 0.0}, 'parent_ids': ['95e6e034-1521-48e8-b435-b2a7f08ef855']}\n",
            "{'event': 'on_parser_stream', 'run_id': '7578a152-b911-424b-9adc-03de085a531f', 'name': 'StrOutputParser', 'tags': ['seq:step:4'], 'metadata': {}, 'data': {'chunk': ' 날'}, 'parent_ids': ['95e6e034-1521-48e8-b435-b2a7f08ef855']}\n",
            "{'event': 'on_chain_stream', 'run_id': '95e6e034-1521-48e8-b435-b2a7f08ef855', 'name': 'RunnableSequence', 'tags': [], 'metadata': {}, 'data': {'chunk': ' 날'}, 'parent_ids': []}\n",
            "{'event': 'on_chat_model_stream', 'data': {'chunk': AIMessageChunk(content='씨', additional_kwargs={}, response_metadata={}, id='run-23668fe6-fe37-4897-bfa5-d7214b820ea1')}, 'run_id': '23668fe6-fe37-4897-bfa5-d7214b820ea1', 'name': 'ChatOpenAI', 'tags': ['seq:step:3'], 'metadata': {'ls_provider': 'openai', 'ls_model_name': 'gpt-4o-mini', 'ls_model_type': 'chat', 'ls_temperature': 0.0}, 'parent_ids': ['95e6e034-1521-48e8-b435-b2a7f08ef855']}\n",
            "{'event': 'on_parser_stream', 'run_id': '7578a152-b911-424b-9adc-03de085a531f', 'name': 'StrOutputParser', 'tags': ['seq:step:4'], 'metadata': {}, 'data': {'chunk': '씨'}, 'parent_ids': ['95e6e034-1521-48e8-b435-b2a7f08ef855']}\n",
            "{'event': 'on_chain_stream', 'run_id': '95e6e034-1521-48e8-b435-b2a7f08ef855', 'name': 'RunnableSequence', 'tags': [], 'metadata': {}, 'data': {'chunk': '씨'}, 'parent_ids': []}\n",
            "{'event': 'on_chat_model_stream', 'data': {'chunk': AIMessageChunk(content='입니다', additional_kwargs={}, response_metadata={}, id='run-23668fe6-fe37-4897-bfa5-d7214b820ea1')}, 'run_id': '23668fe6-fe37-4897-bfa5-d7214b820ea1', 'name': 'ChatOpenAI', 'tags': ['seq:step:3'], 'metadata': {'ls_provider': 'openai', 'ls_model_name': 'gpt-4o-mini', 'ls_model_type': 'chat', 'ls_temperature': 0.0}, 'parent_ids': ['95e6e034-1521-48e8-b435-b2a7f08ef855']}\n",
            "{'event': 'on_parser_stream', 'run_id': '7578a152-b911-424b-9adc-03de085a531f', 'name': 'StrOutputParser', 'tags': ['seq:step:4'], 'metadata': {}, 'data': {'chunk': '입니다'}, 'parent_ids': ['95e6e034-1521-48e8-b435-b2a7f08ef855']}\n",
            "{'event': 'on_chain_stream', 'run_id': '95e6e034-1521-48e8-b435-b2a7f08ef855', 'name': 'RunnableSequence', 'tags': [], 'metadata': {}, 'data': {'chunk': '입니다'}, 'parent_ids': []}\n",
            "{'event': 'on_chat_model_stream', 'data': {'chunk': AIMessageChunk(content='.', additional_kwargs={}, response_metadata={}, id='run-23668fe6-fe37-4897-bfa5-d7214b820ea1')}, 'run_id': '23668fe6-fe37-4897-bfa5-d7214b820ea1', 'name': 'ChatOpenAI', 'tags': ['seq:step:3'], 'metadata': {'ls_provider': 'openai', 'ls_model_name': 'gpt-4o-mini', 'ls_model_type': 'chat', 'ls_temperature': 0.0}, 'parent_ids': ['95e6e034-1521-48e8-b435-b2a7f08ef855']}\n",
            "{'event': 'on_parser_stream', 'run_id': '7578a152-b911-424b-9adc-03de085a531f', 'name': 'StrOutputParser', 'tags': ['seq:step:4'], 'metadata': {}, 'data': {'chunk': '.'}, 'parent_ids': ['95e6e034-1521-48e8-b435-b2a7f08ef855']}\n",
            "{'event': 'on_chain_stream', 'run_id': '95e6e034-1521-48e8-b435-b2a7f08ef855', 'name': 'RunnableSequence', 'tags': [], 'metadata': {}, 'data': {'chunk': '.'}, 'parent_ids': []}\n",
            "{'event': 'on_chat_model_stream', 'data': {'chunk': AIMessageChunk(content=' 바', additional_kwargs={}, response_metadata={}, id='run-23668fe6-fe37-4897-bfa5-d7214b820ea1')}, 'run_id': '23668fe6-fe37-4897-bfa5-d7214b820ea1', 'name': 'ChatOpenAI', 'tags': ['seq:step:3'], 'metadata': {'ls_provider': 'openai', 'ls_model_name': 'gpt-4o-mini', 'ls_model_type': 'chat', 'ls_temperature': 0.0}, 'parent_ids': ['95e6e034-1521-48e8-b435-b2a7f08ef855']}\n",
            "{'event': 'on_parser_stream', 'run_id': '7578a152-b911-424b-9adc-03de085a531f', 'name': 'StrOutputParser', 'tags': ['seq:step:4'], 'metadata': {}, 'data': {'chunk': ' 바'}, 'parent_ids': ['95e6e034-1521-48e8-b435-b2a7f08ef855']}\n",
            "{'event': 'on_chain_stream', 'run_id': '95e6e034-1521-48e8-b435-b2a7f08ef855', 'name': 'RunnableSequence', 'tags': [], 'metadata': {}, 'data': {'chunk': ' 바'}, 'parent_ids': []}\n",
            "{'event': 'on_chat_model_stream', 'data': {'chunk': AIMessageChunk(content='람', additional_kwargs={}, response_metadata={}, id='run-23668fe6-fe37-4897-bfa5-d7214b820ea1')}, 'run_id': '23668fe6-fe37-4897-bfa5-d7214b820ea1', 'name': 'ChatOpenAI', 'tags': ['seq:step:3'], 'metadata': {'ls_provider': 'openai', 'ls_model_name': 'gpt-4o-mini', 'ls_model_type': 'chat', 'ls_temperature': 0.0}, 'parent_ids': ['95e6e034-1521-48e8-b435-b2a7f08ef855']}\n",
            "{'event': 'on_parser_stream', 'run_id': '7578a152-b911-424b-9adc-03de085a531f', 'name': 'StrOutputParser', 'tags': ['seq:step:4'], 'metadata': {}, 'data': {'chunk': '람'}, 'parent_ids': ['95e6e034-1521-48e8-b435-b2a7f08ef855']}\n",
            "{'event': 'on_chain_stream', 'run_id': '95e6e034-1521-48e8-b435-b2a7f08ef855', 'name': 'RunnableSequence', 'tags': [], 'metadata': {}, 'data': {'chunk': '람'}, 'parent_ids': []}\n",
            "{'event': 'on_chat_model_stream', 'data': {'chunk': AIMessageChunk(content='은', additional_kwargs={}, response_metadata={}, id='run-23668fe6-fe37-4897-bfa5-d7214b820ea1')}, 'run_id': '23668fe6-fe37-4897-bfa5-d7214b820ea1', 'name': 'ChatOpenAI', 'tags': ['seq:step:3'], 'metadata': {'ls_provider': 'openai', 'ls_model_name': 'gpt-4o-mini', 'ls_model_type': 'chat', 'ls_temperature': 0.0}, 'parent_ids': ['95e6e034-1521-48e8-b435-b2a7f08ef855']}\n",
            "{'event': 'on_parser_stream', 'run_id': '7578a152-b911-424b-9adc-03de085a531f', 'name': 'StrOutputParser', 'tags': ['seq:step:4'], 'metadata': {}, 'data': {'chunk': '은'}, 'parent_ids': ['95e6e034-1521-48e8-b435-b2a7f08ef855']}\n",
            "{'event': 'on_chain_stream', 'run_id': '95e6e034-1521-48e8-b435-b2a7f08ef855', 'name': 'RunnableSequence', 'tags': [], 'metadata': {}, 'data': {'chunk': '은'}, 'parent_ids': []}\n",
            "{'event': 'on_chat_model_stream', 'data': {'chunk': AIMessageChunk(content=' 남', additional_kwargs={}, response_metadata={}, id='run-23668fe6-fe37-4897-bfa5-d7214b820ea1')}, 'run_id': '23668fe6-fe37-4897-bfa5-d7214b820ea1', 'name': 'ChatOpenAI', 'tags': ['seq:step:3'], 'metadata': {'ls_provider': 'openai', 'ls_model_name': 'gpt-4o-mini', 'ls_model_type': 'chat', 'ls_temperature': 0.0}, 'parent_ids': ['95e6e034-1521-48e8-b435-b2a7f08ef855']}\n",
            "{'event': 'on_parser_stream', 'run_id': '7578a152-b911-424b-9adc-03de085a531f', 'name': 'StrOutputParser', 'tags': ['seq:step:4'], 'metadata': {}, 'data': {'chunk': ' 남'}, 'parent_ids': ['95e6e034-1521-48e8-b435-b2a7f08ef855']}\n",
            "{'event': 'on_chain_stream', 'run_id': '95e6e034-1521-48e8-b435-b2a7f08ef855', 'name': 'RunnableSequence', 'tags': [], 'metadata': {}, 'data': {'chunk': ' 남'}, 'parent_ids': []}\n",
            "{'event': 'on_chat_model_stream', 'data': {'chunk': AIMessageChunk(content='남', additional_kwargs={}, response_metadata={}, id='run-23668fe6-fe37-4897-bfa5-d7214b820ea1')}, 'run_id': '23668fe6-fe37-4897-bfa5-d7214b820ea1', 'name': 'ChatOpenAI', 'tags': ['seq:step:3'], 'metadata': {'ls_provider': 'openai', 'ls_model_name': 'gpt-4o-mini', 'ls_model_type': 'chat', 'ls_temperature': 0.0}, 'parent_ids': ['95e6e034-1521-48e8-b435-b2a7f08ef855']}\n",
            "{'event': 'on_parser_stream', 'run_id': '7578a152-b911-424b-9adc-03de085a531f', 'name': 'StrOutputParser', 'tags': ['seq:step:4'], 'metadata': {}, 'data': {'chunk': '남'}, 'parent_ids': ['95e6e034-1521-48e8-b435-b2a7f08ef855']}\n",
            "{'event': 'on_chain_stream', 'run_id': '95e6e034-1521-48e8-b435-b2a7f08ef855', 'name': 'RunnableSequence', 'tags': [], 'metadata': {}, 'data': {'chunk': '남'}, 'parent_ids': []}\n",
            "{'event': 'on_chat_model_stream', 'data': {'chunk': AIMessageChunk(content='서', additional_kwargs={}, response_metadata={}, id='run-23668fe6-fe37-4897-bfa5-d7214b820ea1')}, 'run_id': '23668fe6-fe37-4897-bfa5-d7214b820ea1', 'name': 'ChatOpenAI', 'tags': ['seq:step:3'], 'metadata': {'ls_provider': 'openai', 'ls_model_name': 'gpt-4o-mini', 'ls_model_type': 'chat', 'ls_temperature': 0.0}, 'parent_ids': ['95e6e034-1521-48e8-b435-b2a7f08ef855']}\n",
            "{'event': 'on_parser_stream', 'run_id': '7578a152-b911-424b-9adc-03de085a531f', 'name': 'StrOutputParser', 'tags': ['seq:step:4'], 'metadata': {}, 'data': {'chunk': '서'}, 'parent_ids': ['95e6e034-1521-48e8-b435-b2a7f08ef855']}\n",
            "{'event': 'on_chain_stream', 'run_id': '95e6e034-1521-48e8-b435-b2a7f08ef855', 'name': 'RunnableSequence', 'tags': [], 'metadata': {}, 'data': {'chunk': '서'}, 'parent_ids': []}\n",
            "{'event': 'on_chat_model_stream', 'data': {'chunk': AIMessageChunk(content='쪽', additional_kwargs={}, response_metadata={}, id='run-23668fe6-fe37-4897-bfa5-d7214b820ea1')}, 'run_id': '23668fe6-fe37-4897-bfa5-d7214b820ea1', 'name': 'ChatOpenAI', 'tags': ['seq:step:3'], 'metadata': {'ls_provider': 'openai', 'ls_model_name': 'gpt-4o-mini', 'ls_model_type': 'chat', 'ls_temperature': 0.0}, 'parent_ids': ['95e6e034-1521-48e8-b435-b2a7f08ef855']}\n",
            "{'event': 'on_parser_stream', 'run_id': '7578a152-b911-424b-9adc-03de085a531f', 'name': 'StrOutputParser', 'tags': ['seq:step:4'], 'metadata': {}, 'data': {'chunk': '쪽'}, 'parent_ids': ['95e6e034-1521-48e8-b435-b2a7f08ef855']}\n",
            "{'event': 'on_chain_stream', 'run_id': '95e6e034-1521-48e8-b435-b2a7f08ef855', 'name': 'RunnableSequence', 'tags': [], 'metadata': {}, 'data': {'chunk': '쪽'}, 'parent_ids': []}\n",
            "{'event': 'on_chat_model_stream', 'data': {'chunk': AIMessageChunk(content='에서', additional_kwargs={}, response_metadata={}, id='run-23668fe6-fe37-4897-bfa5-d7214b820ea1')}, 'run_id': '23668fe6-fe37-4897-bfa5-d7214b820ea1', 'name': 'ChatOpenAI', 'tags': ['seq:step:3'], 'metadata': {'ls_provider': 'openai', 'ls_model_name': 'gpt-4o-mini', 'ls_model_type': 'chat', 'ls_temperature': 0.0}, 'parent_ids': ['95e6e034-1521-48e8-b435-b2a7f08ef855']}\n",
            "{'event': 'on_parser_stream', 'run_id': '7578a152-b911-424b-9adc-03de085a531f', 'name': 'StrOutputParser', 'tags': ['seq:step:4'], 'metadata': {}, 'data': {'chunk': '에서'}, 'parent_ids': ['95e6e034-1521-48e8-b435-b2a7f08ef855']}\n",
            "{'event': 'on_chain_stream', 'run_id': '95e6e034-1521-48e8-b435-b2a7f08ef855', 'name': 'RunnableSequence', 'tags': [], 'metadata': {}, 'data': {'chunk': '에서'}, 'parent_ids': []}\n",
            "{'event': 'on_chat_model_stream', 'data': {'chunk': AIMessageChunk(content=' 시', additional_kwargs={}, response_metadata={}, id='run-23668fe6-fe37-4897-bfa5-d7214b820ea1')}, 'run_id': '23668fe6-fe37-4897-bfa5-d7214b820ea1', 'name': 'ChatOpenAI', 'tags': ['seq:step:3'], 'metadata': {'ls_provider': 'openai', 'ls_model_name': 'gpt-4o-mini', 'ls_model_type': 'chat', 'ls_temperature': 0.0}, 'parent_ids': ['95e6e034-1521-48e8-b435-b2a7f08ef855']}\n",
            "{'event': 'on_parser_stream', 'run_id': '7578a152-b911-424b-9adc-03de085a531f', 'name': 'StrOutputParser', 'tags': ['seq:step:4'], 'metadata': {}, 'data': {'chunk': ' 시'}, 'parent_ids': ['95e6e034-1521-48e8-b435-b2a7f08ef855']}\n",
            "{'event': 'on_chain_stream', 'run_id': '95e6e034-1521-48e8-b435-b2a7f08ef855', 'name': 'RunnableSequence', 'tags': [], 'metadata': {}, 'data': {'chunk': ' 시'}, 'parent_ids': []}\n",
            "{'event': 'on_chat_model_stream', 'data': {'chunk': AIMessageChunk(content='속', additional_kwargs={}, response_metadata={}, id='run-23668fe6-fe37-4897-bfa5-d7214b820ea1')}, 'run_id': '23668fe6-fe37-4897-bfa5-d7214b820ea1', 'name': 'ChatOpenAI', 'tags': ['seq:step:3'], 'metadata': {'ls_provider': 'openai', 'ls_model_name': 'gpt-4o-mini', 'ls_model_type': 'chat', 'ls_temperature': 0.0}, 'parent_ids': ['95e6e034-1521-48e8-b435-b2a7f08ef855']}\n",
            "{'event': 'on_parser_stream', 'run_id': '7578a152-b911-424b-9adc-03de085a531f', 'name': 'StrOutputParser', 'tags': ['seq:step:4'], 'metadata': {}, 'data': {'chunk': '속'}, 'parent_ids': ['95e6e034-1521-48e8-b435-b2a7f08ef855']}\n",
            "{'event': 'on_chain_stream', 'run_id': '95e6e034-1521-48e8-b435-b2a7f08ef855', 'name': 'RunnableSequence', 'tags': [], 'metadata': {}, 'data': {'chunk': '속'}, 'parent_ids': []}\n",
            "{'event': 'on_chat_model_stream', 'data': {'chunk': AIMessageChunk(content=' ', additional_kwargs={}, response_metadata={}, id='run-23668fe6-fe37-4897-bfa5-d7214b820ea1')}, 'run_id': '23668fe6-fe37-4897-bfa5-d7214b820ea1', 'name': 'ChatOpenAI', 'tags': ['seq:step:3'], 'metadata': {'ls_provider': 'openai', 'ls_model_name': 'gpt-4o-mini', 'ls_model_type': 'chat', 'ls_temperature': 0.0}, 'parent_ids': ['95e6e034-1521-48e8-b435-b2a7f08ef855']}\n",
            "{'event': 'on_parser_stream', 'run_id': '7578a152-b911-424b-9adc-03de085a531f', 'name': 'StrOutputParser', 'tags': ['seq:step:4'], 'metadata': {}, 'data': {'chunk': ' '}, 'parent_ids': ['95e6e034-1521-48e8-b435-b2a7f08ef855']}\n",
            "{'event': 'on_chain_stream', 'run_id': '95e6e034-1521-48e8-b435-b2a7f08ef855', 'name': 'RunnableSequence', 'tags': [], 'metadata': {}, 'data': {'chunk': ' '}, 'parent_ids': []}\n",
            "{'event': 'on_chat_model_stream', 'data': {'chunk': AIMessageChunk(content='4', additional_kwargs={}, response_metadata={}, id='run-23668fe6-fe37-4897-bfa5-d7214b820ea1')}, 'run_id': '23668fe6-fe37-4897-bfa5-d7214b820ea1', 'name': 'ChatOpenAI', 'tags': ['seq:step:3'], 'metadata': {'ls_provider': 'openai', 'ls_model_name': 'gpt-4o-mini', 'ls_model_type': 'chat', 'ls_temperature': 0.0}, 'parent_ids': ['95e6e034-1521-48e8-b435-b2a7f08ef855']}\n",
            "{'event': 'on_parser_stream', 'run_id': '7578a152-b911-424b-9adc-03de085a531f', 'name': 'StrOutputParser', 'tags': ['seq:step:4'], 'metadata': {}, 'data': {'chunk': '4'}, 'parent_ids': ['95e6e034-1521-48e8-b435-b2a7f08ef855']}\n",
            "{'event': 'on_chain_stream', 'run_id': '95e6e034-1521-48e8-b435-b2a7f08ef855', 'name': 'RunnableSequence', 'tags': [], 'metadata': {}, 'data': {'chunk': '4'}, 'parent_ids': []}\n",
            "{'event': 'on_chat_model_stream', 'data': {'chunk': AIMessageChunk(content='마', additional_kwargs={}, response_metadata={}, id='run-23668fe6-fe37-4897-bfa5-d7214b820ea1')}, 'run_id': '23668fe6-fe37-4897-bfa5-d7214b820ea1', 'name': 'ChatOpenAI', 'tags': ['seq:step:3'], 'metadata': {'ls_provider': 'openai', 'ls_model_name': 'gpt-4o-mini', 'ls_model_type': 'chat', 'ls_temperature': 0.0}, 'parent_ids': ['95e6e034-1521-48e8-b435-b2a7f08ef855']}\n",
            "{'event': 'on_parser_stream', 'run_id': '7578a152-b911-424b-9adc-03de085a531f', 'name': 'StrOutputParser', 'tags': ['seq:step:4'], 'metadata': {}, 'data': {'chunk': '마'}, 'parent_ids': ['95e6e034-1521-48e8-b435-b2a7f08ef855']}\n",
            "{'event': 'on_chain_stream', 'run_id': '95e6e034-1521-48e8-b435-b2a7f08ef855', 'name': 'RunnableSequence', 'tags': [], 'metadata': {}, 'data': {'chunk': '마'}, 'parent_ids': []}\n",
            "{'event': 'on_chat_model_stream', 'data': {'chunk': AIMessageChunk(content='일', additional_kwargs={}, response_metadata={}, id='run-23668fe6-fe37-4897-bfa5-d7214b820ea1')}, 'run_id': '23668fe6-fe37-4897-bfa5-d7214b820ea1', 'name': 'ChatOpenAI', 'tags': ['seq:step:3'], 'metadata': {'ls_provider': 'openai', 'ls_model_name': 'gpt-4o-mini', 'ls_model_type': 'chat', 'ls_temperature': 0.0}, 'parent_ids': ['95e6e034-1521-48e8-b435-b2a7f08ef855']}\n",
            "{'event': 'on_parser_stream', 'run_id': '7578a152-b911-424b-9adc-03de085a531f', 'name': 'StrOutputParser', 'tags': ['seq:step:4'], 'metadata': {}, 'data': {'chunk': '일'}, 'parent_ids': ['95e6e034-1521-48e8-b435-b2a7f08ef855']}\n",
            "{'event': 'on_chain_stream', 'run_id': '95e6e034-1521-48e8-b435-b2a7f08ef855', 'name': 'RunnableSequence', 'tags': [], 'metadata': {}, 'data': {'chunk': '일'}, 'parent_ids': []}\n",
            "{'event': 'on_chat_model_stream', 'data': {'chunk': AIMessageChunk(content='(', additional_kwargs={}, response_metadata={}, id='run-23668fe6-fe37-4897-bfa5-d7214b820ea1')}, 'run_id': '23668fe6-fe37-4897-bfa5-d7214b820ea1', 'name': 'ChatOpenAI', 'tags': ['seq:step:3'], 'metadata': {'ls_provider': 'openai', 'ls_model_name': 'gpt-4o-mini', 'ls_model_type': 'chat', 'ls_temperature': 0.0}, 'parent_ids': ['95e6e034-1521-48e8-b435-b2a7f08ef855']}\n",
            "{'event': 'on_parser_stream', 'run_id': '7578a152-b911-424b-9adc-03de085a531f', 'name': 'StrOutputParser', 'tags': ['seq:step:4'], 'metadata': {}, 'data': {'chunk': '('}, 'parent_ids': ['95e6e034-1521-48e8-b435-b2a7f08ef855']}\n",
            "{'event': 'on_chain_stream', 'run_id': '95e6e034-1521-48e8-b435-b2a7f08ef855', 'name': 'RunnableSequence', 'tags': [], 'metadata': {}, 'data': {'chunk': '('}, 'parent_ids': []}\n",
            "{'event': 'on_chat_model_stream', 'data': {'chunk': AIMessageChunk(content='약', additional_kwargs={}, response_metadata={}, id='run-23668fe6-fe37-4897-bfa5-d7214b820ea1')}, 'run_id': '23668fe6-fe37-4897-bfa5-d7214b820ea1', 'name': 'ChatOpenAI', 'tags': ['seq:step:3'], 'metadata': {'ls_provider': 'openai', 'ls_model_name': 'gpt-4o-mini', 'ls_model_type': 'chat', 'ls_temperature': 0.0}, 'parent_ids': ['95e6e034-1521-48e8-b435-b2a7f08ef855']}\n",
            "{'event': 'on_parser_stream', 'run_id': '7578a152-b911-424b-9adc-03de085a531f', 'name': 'StrOutputParser', 'tags': ['seq:step:4'], 'metadata': {}, 'data': {'chunk': '약'}, 'parent_ids': ['95e6e034-1521-48e8-b435-b2a7f08ef855']}\n",
            "{'event': 'on_chain_stream', 'run_id': '95e6e034-1521-48e8-b435-b2a7f08ef855', 'name': 'RunnableSequence', 'tags': [], 'metadata': {}, 'data': {'chunk': '약'}, 'parent_ids': []}\n",
            "{'event': 'on_chat_model_stream', 'data': {'chunk': AIMessageChunk(content=' ', additional_kwargs={}, response_metadata={}, id='run-23668fe6-fe37-4897-bfa5-d7214b820ea1')}, 'run_id': '23668fe6-fe37-4897-bfa5-d7214b820ea1', 'name': 'ChatOpenAI', 'tags': ['seq:step:3'], 'metadata': {'ls_provider': 'openai', 'ls_model_name': 'gpt-4o-mini', 'ls_model_type': 'chat', 'ls_temperature': 0.0}, 'parent_ids': ['95e6e034-1521-48e8-b435-b2a7f08ef855']}\n",
            "{'event': 'on_parser_stream', 'run_id': '7578a152-b911-424b-9adc-03de085a531f', 'name': 'StrOutputParser', 'tags': ['seq:step:4'], 'metadata': {}, 'data': {'chunk': ' '}, 'parent_ids': ['95e6e034-1521-48e8-b435-b2a7f08ef855']}\n",
            "{'event': 'on_chain_stream', 'run_id': '95e6e034-1521-48e8-b435-b2a7f08ef855', 'name': 'RunnableSequence', 'tags': [], 'metadata': {}, 'data': {'chunk': ' '}, 'parent_ids': []}\n",
            "{'event': 'on_chat_model_stream', 'data': {'chunk': AIMessageChunk(content='6', additional_kwargs={}, response_metadata={}, id='run-23668fe6-fe37-4897-bfa5-d7214b820ea1')}, 'run_id': '23668fe6-fe37-4897-bfa5-d7214b820ea1', 'name': 'ChatOpenAI', 'tags': ['seq:step:3'], 'metadata': {'ls_provider': 'openai', 'ls_model_name': 'gpt-4o-mini', 'ls_model_type': 'chat', 'ls_temperature': 0.0}, 'parent_ids': ['95e6e034-1521-48e8-b435-b2a7f08ef855']}\n",
            "{'event': 'on_parser_stream', 'run_id': '7578a152-b911-424b-9adc-03de085a531f', 'name': 'StrOutputParser', 'tags': ['seq:step:4'], 'metadata': {}, 'data': {'chunk': '6'}, 'parent_ids': ['95e6e034-1521-48e8-b435-b2a7f08ef855']}\n",
            "{'event': 'on_chain_stream', 'run_id': '95e6e034-1521-48e8-b435-b2a7f08ef855', 'name': 'RunnableSequence', 'tags': [], 'metadata': {}, 'data': {'chunk': '6'}, 'parent_ids': []}\n",
            "{'event': 'on_chat_model_stream', 'data': {'chunk': AIMessageChunk(content='.', additional_kwargs={}, response_metadata={}, id='run-23668fe6-fe37-4897-bfa5-d7214b820ea1')}, 'run_id': '23668fe6-fe37-4897-bfa5-d7214b820ea1', 'name': 'ChatOpenAI', 'tags': ['seq:step:3'], 'metadata': {'ls_provider': 'openai', 'ls_model_name': 'gpt-4o-mini', 'ls_model_type': 'chat', 'ls_temperature': 0.0}, 'parent_ids': ['95e6e034-1521-48e8-b435-b2a7f08ef855']}\n",
            "{'event': 'on_parser_stream', 'run_id': '7578a152-b911-424b-9adc-03de085a531f', 'name': 'StrOutputParser', 'tags': ['seq:step:4'], 'metadata': {}, 'data': {'chunk': '.'}, 'parent_ids': ['95e6e034-1521-48e8-b435-b2a7f08ef855']}\n",
            "{'event': 'on_chain_stream', 'run_id': '95e6e034-1521-48e8-b435-b2a7f08ef855', 'name': 'RunnableSequence', 'tags': [], 'metadata': {}, 'data': {'chunk': '.'}, 'parent_ids': []}\n",
            "{'event': 'on_chat_model_stream', 'data': {'chunk': AIMessageChunk(content='4', additional_kwargs={}, response_metadata={}, id='run-23668fe6-fe37-4897-bfa5-d7214b820ea1')}, 'run_id': '23668fe6-fe37-4897-bfa5-d7214b820ea1', 'name': 'ChatOpenAI', 'tags': ['seq:step:3'], 'metadata': {'ls_provider': 'openai', 'ls_model_name': 'gpt-4o-mini', 'ls_model_type': 'chat', 'ls_temperature': 0.0}, 'parent_ids': ['95e6e034-1521-48e8-b435-b2a7f08ef855']}\n",
            "{'event': 'on_parser_stream', 'run_id': '7578a152-b911-424b-9adc-03de085a531f', 'name': 'StrOutputParser', 'tags': ['seq:step:4'], 'metadata': {}, 'data': {'chunk': '4'}, 'parent_ids': ['95e6e034-1521-48e8-b435-b2a7f08ef855']}\n",
            "{'event': 'on_chain_stream', 'run_id': '95e6e034-1521-48e8-b435-b2a7f08ef855', 'name': 'RunnableSequence', 'tags': [], 'metadata': {}, 'data': {'chunk': '4'}, 'parent_ids': []}\n",
            "{'event': 'on_chat_model_stream', 'data': {'chunk': AIMessageChunk(content='km', additional_kwargs={}, response_metadata={}, id='run-23668fe6-fe37-4897-bfa5-d7214b820ea1')}, 'run_id': '23668fe6-fe37-4897-bfa5-d7214b820ea1', 'name': 'ChatOpenAI', 'tags': ['seq:step:3'], 'metadata': {'ls_provider': 'openai', 'ls_model_name': 'gpt-4o-mini', 'ls_model_type': 'chat', 'ls_temperature': 0.0}, 'parent_ids': ['95e6e034-1521-48e8-b435-b2a7f08ef855']}\n",
            "{'event': 'on_parser_stream', 'run_id': '7578a152-b911-424b-9adc-03de085a531f', 'name': 'StrOutputParser', 'tags': ['seq:step:4'], 'metadata': {}, 'data': {'chunk': 'km'}, 'parent_ids': ['95e6e034-1521-48e8-b435-b2a7f08ef855']}\n",
            "{'event': 'on_chain_stream', 'run_id': '95e6e034-1521-48e8-b435-b2a7f08ef855', 'name': 'RunnableSequence', 'tags': [], 'metadata': {}, 'data': {'chunk': 'km'}, 'parent_ids': []}\n",
            "{'event': 'on_chat_model_stream', 'data': {'chunk': AIMessageChunk(content='/h', additional_kwargs={}, response_metadata={}, id='run-23668fe6-fe37-4897-bfa5-d7214b820ea1')}, 'run_id': '23668fe6-fe37-4897-bfa5-d7214b820ea1', 'name': 'ChatOpenAI', 'tags': ['seq:step:3'], 'metadata': {'ls_provider': 'openai', 'ls_model_name': 'gpt-4o-mini', 'ls_model_type': 'chat', 'ls_temperature': 0.0}, 'parent_ids': ['95e6e034-1521-48e8-b435-b2a7f08ef855']}\n",
            "{'event': 'on_parser_stream', 'run_id': '7578a152-b911-424b-9adc-03de085a531f', 'name': 'StrOutputParser', 'tags': ['seq:step:4'], 'metadata': {}, 'data': {'chunk': '/h'}, 'parent_ids': ['95e6e034-1521-48e8-b435-b2a7f08ef855']}\n",
            "{'event': 'on_chain_stream', 'run_id': '95e6e034-1521-48e8-b435-b2a7f08ef855', 'name': 'RunnableSequence', 'tags': [], 'metadata': {}, 'data': {'chunk': '/h'}, 'parent_ids': []}\n",
            "{'event': 'on_chat_model_stream', 'data': {'chunk': AIMessageChunk(content=')', additional_kwargs={}, response_metadata={}, id='run-23668fe6-fe37-4897-bfa5-d7214b820ea1')}, 'run_id': '23668fe6-fe37-4897-bfa5-d7214b820ea1', 'name': 'ChatOpenAI', 'tags': ['seq:step:3'], 'metadata': {'ls_provider': 'openai', 'ls_model_name': 'gpt-4o-mini', 'ls_model_type': 'chat', 'ls_temperature': 0.0}, 'parent_ids': ['95e6e034-1521-48e8-b435-b2a7f08ef855']}\n",
            "{'event': 'on_parser_stream', 'run_id': '7578a152-b911-424b-9adc-03de085a531f', 'name': 'StrOutputParser', 'tags': ['seq:step:4'], 'metadata': {}, 'data': {'chunk': ')'}, 'parent_ids': ['95e6e034-1521-48e8-b435-b2a7f08ef855']}\n",
            "{'event': 'on_chain_stream', 'run_id': '95e6e034-1521-48e8-b435-b2a7f08ef855', 'name': 'RunnableSequence', 'tags': [], 'metadata': {}, 'data': {'chunk': ')'}, 'parent_ids': []}\n",
            "{'event': 'on_chat_model_stream', 'data': {'chunk': AIMessageChunk(content='로', additional_kwargs={}, response_metadata={}, id='run-23668fe6-fe37-4897-bfa5-d7214b820ea1')}, 'run_id': '23668fe6-fe37-4897-bfa5-d7214b820ea1', 'name': 'ChatOpenAI', 'tags': ['seq:step:3'], 'metadata': {'ls_provider': 'openai', 'ls_model_name': 'gpt-4o-mini', 'ls_model_type': 'chat', 'ls_temperature': 0.0}, 'parent_ids': ['95e6e034-1521-48e8-b435-b2a7f08ef855']}\n",
            "{'event': 'on_parser_stream', 'run_id': '7578a152-b911-424b-9adc-03de085a531f', 'name': 'StrOutputParser', 'tags': ['seq:step:4'], 'metadata': {}, 'data': {'chunk': '로'}, 'parent_ids': ['95e6e034-1521-48e8-b435-b2a7f08ef855']}\n",
            "{'event': 'on_chain_stream', 'run_id': '95e6e034-1521-48e8-b435-b2a7f08ef855', 'name': 'RunnableSequence', 'tags': [], 'metadata': {}, 'data': {'chunk': '로'}, 'parent_ids': []}\n",
            "{'event': 'on_chat_model_stream', 'data': {'chunk': AIMessageChunk(content=' 불', additional_kwargs={}, response_metadata={}, id='run-23668fe6-fe37-4897-bfa5-d7214b820ea1')}, 'run_id': '23668fe6-fe37-4897-bfa5-d7214b820ea1', 'name': 'ChatOpenAI', 'tags': ['seq:step:3'], 'metadata': {'ls_provider': 'openai', 'ls_model_name': 'gpt-4o-mini', 'ls_model_type': 'chat', 'ls_temperature': 0.0}, 'parent_ids': ['95e6e034-1521-48e8-b435-b2a7f08ef855']}\n",
            "{'event': 'on_parser_stream', 'run_id': '7578a152-b911-424b-9adc-03de085a531f', 'name': 'StrOutputParser', 'tags': ['seq:step:4'], 'metadata': {}, 'data': {'chunk': ' 불'}, 'parent_ids': ['95e6e034-1521-48e8-b435-b2a7f08ef855']}\n",
            "{'event': 'on_chain_stream', 'run_id': '95e6e034-1521-48e8-b435-b2a7f08ef855', 'name': 'RunnableSequence', 'tags': [], 'metadata': {}, 'data': {'chunk': ' 불'}, 'parent_ids': []}\n",
            "{'event': 'on_chat_model_stream', 'data': {'chunk': AIMessageChunk(content='고', additional_kwargs={}, response_metadata={}, id='run-23668fe6-fe37-4897-bfa5-d7214b820ea1')}, 'run_id': '23668fe6-fe37-4897-bfa5-d7214b820ea1', 'name': 'ChatOpenAI', 'tags': ['seq:step:3'], 'metadata': {'ls_provider': 'openai', 'ls_model_name': 'gpt-4o-mini', 'ls_model_type': 'chat', 'ls_temperature': 0.0}, 'parent_ids': ['95e6e034-1521-48e8-b435-b2a7f08ef855']}\n",
            "{'event': 'on_parser_stream', 'run_id': '7578a152-b911-424b-9adc-03de085a531f', 'name': 'StrOutputParser', 'tags': ['seq:step:4'], 'metadata': {}, 'data': {'chunk': '고'}, 'parent_ids': ['95e6e034-1521-48e8-b435-b2a7f08ef855']}\n",
            "{'event': 'on_chain_stream', 'run_id': '95e6e034-1521-48e8-b435-b2a7f08ef855', 'name': 'RunnableSequence', 'tags': [], 'metadata': {}, 'data': {'chunk': '고'}, 'parent_ids': []}\n",
            "{'event': 'on_chat_model_stream', 'data': {'chunk': AIMessageChunk(content=' 있으며', additional_kwargs={}, response_metadata={}, id='run-23668fe6-fe37-4897-bfa5-d7214b820ea1')}, 'run_id': '23668fe6-fe37-4897-bfa5-d7214b820ea1', 'name': 'ChatOpenAI', 'tags': ['seq:step:3'], 'metadata': {'ls_provider': 'openai', 'ls_model_name': 'gpt-4o-mini', 'ls_model_type': 'chat', 'ls_temperature': 0.0}, 'parent_ids': ['95e6e034-1521-48e8-b435-b2a7f08ef855']}\n",
            "{'event': 'on_parser_stream', 'run_id': '7578a152-b911-424b-9adc-03de085a531f', 'name': 'StrOutputParser', 'tags': ['seq:step:4'], 'metadata': {}, 'data': {'chunk': ' 있으며'}, 'parent_ids': ['95e6e034-1521-48e8-b435-b2a7f08ef855']}\n",
            "{'event': 'on_chain_stream', 'run_id': '95e6e034-1521-48e8-b435-b2a7f08ef855', 'name': 'RunnableSequence', 'tags': [], 'metadata': {}, 'data': {'chunk': ' 있으며'}, 'parent_ids': []}\n",
            "{'event': 'on_chat_model_stream', 'data': {'chunk': AIMessageChunk(content=',', additional_kwargs={}, response_metadata={}, id='run-23668fe6-fe37-4897-bfa5-d7214b820ea1')}, 'run_id': '23668fe6-fe37-4897-bfa5-d7214b820ea1', 'name': 'ChatOpenAI', 'tags': ['seq:step:3'], 'metadata': {'ls_provider': 'openai', 'ls_model_name': 'gpt-4o-mini', 'ls_model_type': 'chat', 'ls_temperature': 0.0}, 'parent_ids': ['95e6e034-1521-48e8-b435-b2a7f08ef855']}\n",
            "{'event': 'on_parser_stream', 'run_id': '7578a152-b911-424b-9adc-03de085a531f', 'name': 'StrOutputParser', 'tags': ['seq:step:4'], 'metadata': {}, 'data': {'chunk': ','}, 'parent_ids': ['95e6e034-1521-48e8-b435-b2a7f08ef855']}\n",
            "{'event': 'on_chain_stream', 'run_id': '95e6e034-1521-48e8-b435-b2a7f08ef855', 'name': 'RunnableSequence', 'tags': [], 'metadata': {}, 'data': {'chunk': ','}, 'parent_ids': []}\n",
            "{'event': 'on_chat_model_stream', 'data': {'chunk': AIMessageChunk(content=' 강', additional_kwargs={}, response_metadata={}, id='run-23668fe6-fe37-4897-bfa5-d7214b820ea1')}, 'run_id': '23668fe6-fe37-4897-bfa5-d7214b820ea1', 'name': 'ChatOpenAI', 'tags': ['seq:step:3'], 'metadata': {'ls_provider': 'openai', 'ls_model_name': 'gpt-4o-mini', 'ls_model_type': 'chat', 'ls_temperature': 0.0}, 'parent_ids': ['95e6e034-1521-48e8-b435-b2a7f08ef855']}\n",
            "{'event': 'on_parser_stream', 'run_id': '7578a152-b911-424b-9adc-03de085a531f', 'name': 'StrOutputParser', 'tags': ['seq:step:4'], 'metadata': {}, 'data': {'chunk': ' 강'}, 'parent_ids': ['95e6e034-1521-48e8-b435-b2a7f08ef855']}\n",
            "{'event': 'on_chain_stream', 'run_id': '95e6e034-1521-48e8-b435-b2a7f08ef855', 'name': 'RunnableSequence', 'tags': [], 'metadata': {}, 'data': {'chunk': ' 강'}, 'parent_ids': []}\n",
            "{'event': 'on_chat_model_stream', 'data': {'chunk': AIMessageChunk(content='수', additional_kwargs={}, response_metadata={}, id='run-23668fe6-fe37-4897-bfa5-d7214b820ea1')}, 'run_id': '23668fe6-fe37-4897-bfa5-d7214b820ea1', 'name': 'ChatOpenAI', 'tags': ['seq:step:3'], 'metadata': {'ls_provider': 'openai', 'ls_model_name': 'gpt-4o-mini', 'ls_model_type': 'chat', 'ls_temperature': 0.0}, 'parent_ids': ['95e6e034-1521-48e8-b435-b2a7f08ef855']}\n",
            "{'event': 'on_parser_stream', 'run_id': '7578a152-b911-424b-9adc-03de085a531f', 'name': 'StrOutputParser', 'tags': ['seq:step:4'], 'metadata': {}, 'data': {'chunk': '수'}, 'parent_ids': ['95e6e034-1521-48e8-b435-b2a7f08ef855']}\n",
            "{'event': 'on_chain_stream', 'run_id': '95e6e034-1521-48e8-b435-b2a7f08ef855', 'name': 'RunnableSequence', 'tags': [], 'metadata': {}, 'data': {'chunk': '수'}, 'parent_ids': []}\n",
            "{'event': 'on_chat_model_stream', 'data': {'chunk': AIMessageChunk(content=' 확', additional_kwargs={}, response_metadata={}, id='run-23668fe6-fe37-4897-bfa5-d7214b820ea1')}, 'run_id': '23668fe6-fe37-4897-bfa5-d7214b820ea1', 'name': 'ChatOpenAI', 'tags': ['seq:step:3'], 'metadata': {'ls_provider': 'openai', 'ls_model_name': 'gpt-4o-mini', 'ls_model_type': 'chat', 'ls_temperature': 0.0}, 'parent_ids': ['95e6e034-1521-48e8-b435-b2a7f08ef855']}\n",
            "{'event': 'on_parser_stream', 'run_id': '7578a152-b911-424b-9adc-03de085a531f', 'name': 'StrOutputParser', 'tags': ['seq:step:4'], 'metadata': {}, 'data': {'chunk': ' 확'}, 'parent_ids': ['95e6e034-1521-48e8-b435-b2a7f08ef855']}\n",
            "{'event': 'on_chain_stream', 'run_id': '95e6e034-1521-48e8-b435-b2a7f08ef855', 'name': 'RunnableSequence', 'tags': [], 'metadata': {}, 'data': {'chunk': ' 확'}, 'parent_ids': []}\n",
            "{'event': 'on_chat_model_stream', 'data': {'chunk': AIMessageChunk(content='률', additional_kwargs={}, response_metadata={}, id='run-23668fe6-fe37-4897-bfa5-d7214b820ea1')}, 'run_id': '23668fe6-fe37-4897-bfa5-d7214b820ea1', 'name': 'ChatOpenAI', 'tags': ['seq:step:3'], 'metadata': {'ls_provider': 'openai', 'ls_model_name': 'gpt-4o-mini', 'ls_model_type': 'chat', 'ls_temperature': 0.0}, 'parent_ids': ['95e6e034-1521-48e8-b435-b2a7f08ef855']}\n",
            "{'event': 'on_parser_stream', 'run_id': '7578a152-b911-424b-9adc-03de085a531f', 'name': 'StrOutputParser', 'tags': ['seq:step:4'], 'metadata': {}, 'data': {'chunk': '률'}, 'parent_ids': ['95e6e034-1521-48e8-b435-b2a7f08ef855']}\n",
            "{'event': 'on_chain_stream', 'run_id': '95e6e034-1521-48e8-b435-b2a7f08ef855', 'name': 'RunnableSequence', 'tags': [], 'metadata': {}, 'data': {'chunk': '률'}, 'parent_ids': []}\n",
            "{'event': 'on_chat_model_stream', 'data': {'chunk': AIMessageChunk(content='은', additional_kwargs={}, response_metadata={}, id='run-23668fe6-fe37-4897-bfa5-d7214b820ea1')}, 'run_id': '23668fe6-fe37-4897-bfa5-d7214b820ea1', 'name': 'ChatOpenAI', 'tags': ['seq:step:3'], 'metadata': {'ls_provider': 'openai', 'ls_model_name': 'gpt-4o-mini', 'ls_model_type': 'chat', 'ls_temperature': 0.0}, 'parent_ids': ['95e6e034-1521-48e8-b435-b2a7f08ef855']}\n",
            "{'event': 'on_parser_stream', 'run_id': '7578a152-b911-424b-9adc-03de085a531f', 'name': 'StrOutputParser', 'tags': ['seq:step:4'], 'metadata': {}, 'data': {'chunk': '은'}, 'parent_ids': ['95e6e034-1521-48e8-b435-b2a7f08ef855']}\n",
            "{'event': 'on_chain_stream', 'run_id': '95e6e034-1521-48e8-b435-b2a7f08ef855', 'name': 'RunnableSequence', 'tags': [], 'metadata': {}, 'data': {'chunk': '은'}, 'parent_ids': []}\n",
            "{'event': 'on_chat_model_stream', 'data': {'chunk': AIMessageChunk(content=' ', additional_kwargs={}, response_metadata={}, id='run-23668fe6-fe37-4897-bfa5-d7214b820ea1')}, 'run_id': '23668fe6-fe37-4897-bfa5-d7214b820ea1', 'name': 'ChatOpenAI', 'tags': ['seq:step:3'], 'metadata': {'ls_provider': 'openai', 'ls_model_name': 'gpt-4o-mini', 'ls_model_type': 'chat', 'ls_temperature': 0.0}, 'parent_ids': ['95e6e034-1521-48e8-b435-b2a7f08ef855']}\n",
            "{'event': 'on_parser_stream', 'run_id': '7578a152-b911-424b-9adc-03de085a531f', 'name': 'StrOutputParser', 'tags': ['seq:step:4'], 'metadata': {}, 'data': {'chunk': ' '}, 'parent_ids': ['95e6e034-1521-48e8-b435-b2a7f08ef855']}\n",
            "{'event': 'on_chain_stream', 'run_id': '95e6e034-1521-48e8-b435-b2a7f08ef855', 'name': 'RunnableSequence', 'tags': [], 'metadata': {}, 'data': {'chunk': ' '}, 'parent_ids': []}\n",
            "{'event': 'on_chat_model_stream', 'data': {'chunk': AIMessageChunk(content='40', additional_kwargs={}, response_metadata={}, id='run-23668fe6-fe37-4897-bfa5-d7214b820ea1')}, 'run_id': '23668fe6-fe37-4897-bfa5-d7214b820ea1', 'name': 'ChatOpenAI', 'tags': ['seq:step:3'], 'metadata': {'ls_provider': 'openai', 'ls_model_name': 'gpt-4o-mini', 'ls_model_type': 'chat', 'ls_temperature': 0.0}, 'parent_ids': ['95e6e034-1521-48e8-b435-b2a7f08ef855']}\n",
            "{'event': 'on_parser_stream', 'run_id': '7578a152-b911-424b-9adc-03de085a531f', 'name': 'StrOutputParser', 'tags': ['seq:step:4'], 'metadata': {}, 'data': {'chunk': '40'}, 'parent_ids': ['95e6e034-1521-48e8-b435-b2a7f08ef855']}\n",
            "{'event': 'on_chain_stream', 'run_id': '95e6e034-1521-48e8-b435-b2a7f08ef855', 'name': 'RunnableSequence', 'tags': [], 'metadata': {}, 'data': {'chunk': '40'}, 'parent_ids': []}\n",
            "{'event': 'on_chat_model_stream', 'data': {'chunk': AIMessageChunk(content='%', additional_kwargs={}, response_metadata={}, id='run-23668fe6-fe37-4897-bfa5-d7214b820ea1')}, 'run_id': '23668fe6-fe37-4897-bfa5-d7214b820ea1', 'name': 'ChatOpenAI', 'tags': ['seq:step:3'], 'metadata': {'ls_provider': 'openai', 'ls_model_name': 'gpt-4o-mini', 'ls_model_type': 'chat', 'ls_temperature': 0.0}, 'parent_ids': ['95e6e034-1521-48e8-b435-b2a7f08ef855']}\n",
            "{'event': 'on_parser_stream', 'run_id': '7578a152-b911-424b-9adc-03de085a531f', 'name': 'StrOutputParser', 'tags': ['seq:step:4'], 'metadata': {}, 'data': {'chunk': '%'}, 'parent_ids': ['95e6e034-1521-48e8-b435-b2a7f08ef855']}\n",
            "{'event': 'on_chain_stream', 'run_id': '95e6e034-1521-48e8-b435-b2a7f08ef855', 'name': 'RunnableSequence', 'tags': [], 'metadata': {}, 'data': {'chunk': '%'}, 'parent_ids': []}\n",
            "{'event': 'on_chat_model_stream', 'data': {'chunk': AIMessageChunk(content='입니다', additional_kwargs={}, response_metadata={}, id='run-23668fe6-fe37-4897-bfa5-d7214b820ea1')}, 'run_id': '23668fe6-fe37-4897-bfa5-d7214b820ea1', 'name': 'ChatOpenAI', 'tags': ['seq:step:3'], 'metadata': {'ls_provider': 'openai', 'ls_model_name': 'gpt-4o-mini', 'ls_model_type': 'chat', 'ls_temperature': 0.0}, 'parent_ids': ['95e6e034-1521-48e8-b435-b2a7f08ef855']}\n",
            "{'event': 'on_parser_stream', 'run_id': '7578a152-b911-424b-9adc-03de085a531f', 'name': 'StrOutputParser', 'tags': ['seq:step:4'], 'metadata': {}, 'data': {'chunk': '입니다'}, 'parent_ids': ['95e6e034-1521-48e8-b435-b2a7f08ef855']}\n",
            "{'event': 'on_chain_stream', 'run_id': '95e6e034-1521-48e8-b435-b2a7f08ef855', 'name': 'RunnableSequence', 'tags': [], 'metadata': {}, 'data': {'chunk': '입니다'}, 'parent_ids': []}\n",
            "{'event': 'on_chat_model_stream', 'data': {'chunk': AIMessageChunk(content='.', additional_kwargs={}, response_metadata={}, id='run-23668fe6-fe37-4897-bfa5-d7214b820ea1')}, 'run_id': '23668fe6-fe37-4897-bfa5-d7214b820ea1', 'name': 'ChatOpenAI', 'tags': ['seq:step:3'], 'metadata': {'ls_provider': 'openai', 'ls_model_name': 'gpt-4o-mini', 'ls_model_type': 'chat', 'ls_temperature': 0.0}, 'parent_ids': ['95e6e034-1521-48e8-b435-b2a7f08ef855']}\n",
            "{'event': 'on_parser_stream', 'run_id': '7578a152-b911-424b-9adc-03de085a531f', 'name': 'StrOutputParser', 'tags': ['seq:step:4'], 'metadata': {}, 'data': {'chunk': '.'}, 'parent_ids': ['95e6e034-1521-48e8-b435-b2a7f08ef855']}\n",
            "{'event': 'on_chain_stream', 'run_id': '95e6e034-1521-48e8-b435-b2a7f08ef855', 'name': 'RunnableSequence', 'tags': [], 'metadata': {}, 'data': {'chunk': '.'}, 'parent_ids': []}\n",
            "{'event': 'on_chat_model_stream', 'data': {'chunk': AIMessageChunk(content=' 현재', additional_kwargs={}, response_metadata={}, id='run-23668fe6-fe37-4897-bfa5-d7214b820ea1')}, 'run_id': '23668fe6-fe37-4897-bfa5-d7214b820ea1', 'name': 'ChatOpenAI', 'tags': ['seq:step:3'], 'metadata': {'ls_provider': 'openai', 'ls_model_name': 'gpt-4o-mini', 'ls_model_type': 'chat', 'ls_temperature': 0.0}, 'parent_ids': ['95e6e034-1521-48e8-b435-b2a7f08ef855']}\n",
            "{'event': 'on_parser_stream', 'run_id': '7578a152-b911-424b-9adc-03de085a531f', 'name': 'StrOutputParser', 'tags': ['seq:step:4'], 'metadata': {}, 'data': {'chunk': ' 현재'}, 'parent_ids': ['95e6e034-1521-48e8-b435-b2a7f08ef855']}\n",
            "{'event': 'on_chain_stream', 'run_id': '95e6e034-1521-48e8-b435-b2a7f08ef855', 'name': 'RunnableSequence', 'tags': [], 'metadata': {}, 'data': {'chunk': ' 현재'}, 'parent_ids': []}\n",
            "{'event': 'on_chat_model_stream', 'data': {'chunk': AIMessageChunk(content=' 맑', additional_kwargs={}, response_metadata={}, id='run-23668fe6-fe37-4897-bfa5-d7214b820ea1')}, 'run_id': '23668fe6-fe37-4897-bfa5-d7214b820ea1', 'name': 'ChatOpenAI', 'tags': ['seq:step:3'], 'metadata': {'ls_provider': 'openai', 'ls_model_name': 'gpt-4o-mini', 'ls_model_type': 'chat', 'ls_temperature': 0.0}, 'parent_ids': ['95e6e034-1521-48e8-b435-b2a7f08ef855']}\n",
            "{'event': 'on_parser_stream', 'run_id': '7578a152-b911-424b-9adc-03de085a531f', 'name': 'StrOutputParser', 'tags': ['seq:step:4'], 'metadata': {}, 'data': {'chunk': ' 맑'}, 'parent_ids': ['95e6e034-1521-48e8-b435-b2a7f08ef855']}\n",
            "{'event': 'on_chain_stream', 'run_id': '95e6e034-1521-48e8-b435-b2a7f08ef855', 'name': 'RunnableSequence', 'tags': [], 'metadata': {}, 'data': {'chunk': ' 맑'}, 'parent_ids': []}\n",
            "{'event': 'on_chat_model_stream', 'data': {'chunk': AIMessageChunk(content='고', additional_kwargs={}, response_metadata={}, id='run-23668fe6-fe37-4897-bfa5-d7214b820ea1')}, 'run_id': '23668fe6-fe37-4897-bfa5-d7214b820ea1', 'name': 'ChatOpenAI', 'tags': ['seq:step:3'], 'metadata': {'ls_provider': 'openai', 'ls_model_name': 'gpt-4o-mini', 'ls_model_type': 'chat', 'ls_temperature': 0.0}, 'parent_ids': ['95e6e034-1521-48e8-b435-b2a7f08ef855']}\n",
            "{'event': 'on_parser_stream', 'run_id': '7578a152-b911-424b-9adc-03de085a531f', 'name': 'StrOutputParser', 'tags': ['seq:step:4'], 'metadata': {}, 'data': {'chunk': '고'}, 'parent_ids': ['95e6e034-1521-48e8-b435-b2a7f08ef855']}\n",
            "{'event': 'on_chain_stream', 'run_id': '95e6e034-1521-48e8-b435-b2a7f08ef855', 'name': 'RunnableSequence', 'tags': [], 'metadata': {}, 'data': {'chunk': '고'}, 'parent_ids': []}\n",
            "{'event': 'on_chat_model_stream', 'data': {'chunk': AIMessageChunk(content=' 추', additional_kwargs={}, response_metadata={}, id='run-23668fe6-fe37-4897-bfa5-d7214b820ea1')}, 'run_id': '23668fe6-fe37-4897-bfa5-d7214b820ea1', 'name': 'ChatOpenAI', 'tags': ['seq:step:3'], 'metadata': {'ls_provider': 'openai', 'ls_model_name': 'gpt-4o-mini', 'ls_model_type': 'chat', 'ls_temperature': 0.0}, 'parent_ids': ['95e6e034-1521-48e8-b435-b2a7f08ef855']}\n",
            "{'event': 'on_parser_stream', 'run_id': '7578a152-b911-424b-9adc-03de085a531f', 'name': 'StrOutputParser', 'tags': ['seq:step:4'], 'metadata': {}, 'data': {'chunk': ' 추'}, 'parent_ids': ['95e6e034-1521-48e8-b435-b2a7f08ef855']}\n",
            "{'event': 'on_chain_stream', 'run_id': '95e6e034-1521-48e8-b435-b2a7f08ef855', 'name': 'RunnableSequence', 'tags': [], 'metadata': {}, 'data': {'chunk': ' 추'}, 'parent_ids': []}\n",
            "{'event': 'on_chat_model_stream', 'data': {'chunk': AIMessageChunk(content='운', additional_kwargs={}, response_metadata={}, id='run-23668fe6-fe37-4897-bfa5-d7214b820ea1')}, 'run_id': '23668fe6-fe37-4897-bfa5-d7214b820ea1', 'name': 'ChatOpenAI', 'tags': ['seq:step:3'], 'metadata': {'ls_provider': 'openai', 'ls_model_name': 'gpt-4o-mini', 'ls_model_type': 'chat', 'ls_temperature': 0.0}, 'parent_ids': ['95e6e034-1521-48e8-b435-b2a7f08ef855']}\n",
            "{'event': 'on_parser_stream', 'run_id': '7578a152-b911-424b-9adc-03de085a531f', 'name': 'StrOutputParser', 'tags': ['seq:step:4'], 'metadata': {}, 'data': {'chunk': '운'}, 'parent_ids': ['95e6e034-1521-48e8-b435-b2a7f08ef855']}\n",
            "{'event': 'on_chain_stream', 'run_id': '95e6e034-1521-48e8-b435-b2a7f08ef855', 'name': 'RunnableSequence', 'tags': [], 'metadata': {}, 'data': {'chunk': '운'}, 'parent_ids': []}\n",
            "{'event': 'on_chat_model_stream', 'data': {'chunk': AIMessageChunk(content=' 날', additional_kwargs={}, response_metadata={}, id='run-23668fe6-fe37-4897-bfa5-d7214b820ea1')}, 'run_id': '23668fe6-fe37-4897-bfa5-d7214b820ea1', 'name': 'ChatOpenAI', 'tags': ['seq:step:3'], 'metadata': {'ls_provider': 'openai', 'ls_model_name': 'gpt-4o-mini', 'ls_model_type': 'chat', 'ls_temperature': 0.0}, 'parent_ids': ['95e6e034-1521-48e8-b435-b2a7f08ef855']}\n",
            "{'event': 'on_parser_stream', 'run_id': '7578a152-b911-424b-9adc-03de085a531f', 'name': 'StrOutputParser', 'tags': ['seq:step:4'], 'metadata': {}, 'data': {'chunk': ' 날'}, 'parent_ids': ['95e6e034-1521-48e8-b435-b2a7f08ef855']}\n",
            "{'event': 'on_chain_stream', 'run_id': '95e6e034-1521-48e8-b435-b2a7f08ef855', 'name': 'RunnableSequence', 'tags': [], 'metadata': {}, 'data': {'chunk': ' 날'}, 'parent_ids': []}\n",
            "{'event': 'on_chat_model_stream', 'data': {'chunk': AIMessageChunk(content='씨', additional_kwargs={}, response_metadata={}, id='run-23668fe6-fe37-4897-bfa5-d7214b820ea1')}, 'run_id': '23668fe6-fe37-4897-bfa5-d7214b820ea1', 'name': 'ChatOpenAI', 'tags': ['seq:step:3'], 'metadata': {'ls_provider': 'openai', 'ls_model_name': 'gpt-4o-mini', 'ls_model_type': 'chat', 'ls_temperature': 0.0}, 'parent_ids': ['95e6e034-1521-48e8-b435-b2a7f08ef855']}\n",
            "{'event': 'on_parser_stream', 'run_id': '7578a152-b911-424b-9adc-03de085a531f', 'name': 'StrOutputParser', 'tags': ['seq:step:4'], 'metadata': {}, 'data': {'chunk': '씨'}, 'parent_ids': ['95e6e034-1521-48e8-b435-b2a7f08ef855']}\n",
            "{'event': 'on_chain_stream', 'run_id': '95e6e034-1521-48e8-b435-b2a7f08ef855', 'name': 'RunnableSequence', 'tags': [], 'metadata': {}, 'data': {'chunk': '씨'}, 'parent_ids': []}\n",
            "{'event': 'on_chat_model_stream', 'data': {'chunk': AIMessageChunk(content='입니다', additional_kwargs={}, response_metadata={}, id='run-23668fe6-fe37-4897-bfa5-d7214b820ea1')}, 'run_id': '23668fe6-fe37-4897-bfa5-d7214b820ea1', 'name': 'ChatOpenAI', 'tags': ['seq:step:3'], 'metadata': {'ls_provider': 'openai', 'ls_model_name': 'gpt-4o-mini', 'ls_model_type': 'chat', 'ls_temperature': 0.0}, 'parent_ids': ['95e6e034-1521-48e8-b435-b2a7f08ef855']}\n",
            "{'event': 'on_parser_stream', 'run_id': '7578a152-b911-424b-9adc-03de085a531f', 'name': 'StrOutputParser', 'tags': ['seq:step:4'], 'metadata': {}, 'data': {'chunk': '입니다'}, 'parent_ids': ['95e6e034-1521-48e8-b435-b2a7f08ef855']}\n",
            "{'event': 'on_chain_stream', 'run_id': '95e6e034-1521-48e8-b435-b2a7f08ef855', 'name': 'RunnableSequence', 'tags': [], 'metadata': {}, 'data': {'chunk': '입니다'}, 'parent_ids': []}\n",
            "{'event': 'on_chat_model_stream', 'data': {'chunk': AIMessageChunk(content='.', additional_kwargs={}, response_metadata={}, id='run-23668fe6-fe37-4897-bfa5-d7214b820ea1')}, 'run_id': '23668fe6-fe37-4897-bfa5-d7214b820ea1', 'name': 'ChatOpenAI', 'tags': ['seq:step:3'], 'metadata': {'ls_provider': 'openai', 'ls_model_name': 'gpt-4o-mini', 'ls_model_type': 'chat', 'ls_temperature': 0.0}, 'parent_ids': ['95e6e034-1521-48e8-b435-b2a7f08ef855']}\n",
            "{'event': 'on_parser_stream', 'run_id': '7578a152-b911-424b-9adc-03de085a531f', 'name': 'StrOutputParser', 'tags': ['seq:step:4'], 'metadata': {}, 'data': {'chunk': '.'}, 'parent_ids': ['95e6e034-1521-48e8-b435-b2a7f08ef855']}\n",
            "{'event': 'on_chain_stream', 'run_id': '95e6e034-1521-48e8-b435-b2a7f08ef855', 'name': 'RunnableSequence', 'tags': [], 'metadata': {}, 'data': {'chunk': '.'}, 'parent_ids': []}\n",
            "{'event': 'on_chat_model_stream', 'data': {'chunk': AIMessageChunk(content='', additional_kwargs={}, response_metadata={'finish_reason': 'stop', 'model_name': 'gpt-4o-mini-2024-07-18', 'system_fingerprint': 'fp_06737a9306'}, id='run-23668fe6-fe37-4897-bfa5-d7214b820ea1')}, 'run_id': '23668fe6-fe37-4897-bfa5-d7214b820ea1', 'name': 'ChatOpenAI', 'tags': ['seq:step:3'], 'metadata': {'ls_provider': 'openai', 'ls_model_name': 'gpt-4o-mini', 'ls_model_type': 'chat', 'ls_temperature': 0.0}, 'parent_ids': ['95e6e034-1521-48e8-b435-b2a7f08ef855']}\n",
            "{'event': 'on_parser_stream', 'run_id': '7578a152-b911-424b-9adc-03de085a531f', 'name': 'StrOutputParser', 'tags': ['seq:step:4'], 'metadata': {}, 'data': {'chunk': ''}, 'parent_ids': ['95e6e034-1521-48e8-b435-b2a7f08ef855']}\n",
            "{'event': 'on_chain_stream', 'run_id': '95e6e034-1521-48e8-b435-b2a7f08ef855', 'name': 'RunnableSequence', 'tags': [], 'metadata': {}, 'data': {'chunk': ''}, 'parent_ids': []}\n",
            "{'event': 'on_chat_model_end', 'data': {'output': AIMessageChunk(content='서울의 현재 날씨는 31°F(약 -0.6°C)이며, RealFeel®은 36°F(약 2.2°C)로 추운 날씨입니다. 바람은 남남서쪽에서 시속 4마일(약 6.4km/h)로 불고 있으며, 강수 확률은 40%입니다. 현재 맑고 추운 날씨입니다.', additional_kwargs={}, response_metadata={'finish_reason': 'stop', 'model_name': 'gpt-4o-mini-2024-07-18', 'system_fingerprint': 'fp_06737a9306'}, id='run-23668fe6-fe37-4897-bfa5-d7214b820ea1'), 'input': {'messages': [[HumanMessage(content='다음 문맥만을 고려하여 질문에 답변해 주세요.\\n\\n문맥: \"\"\"\\n[Document(metadata={\\'title\\': \\'서울특별시, 서울시, 대한민국 현재 날씨 | AccuWeather\\', \\'source\\': \\'https://www.accuweather.com/ko/kr/seoul/226081/current-weather/226081\\', \\'score\\': 0.8649622, \\'images\\': []}, page_content=\\'서울특별시, 서울시, 대한민국 현재 날씨 | AccuWeather 서울특별시, 서울시 ========== 31°F 현재 위치 사용 서울특별시 서울시 31° 서울특별시, 서울시 날씨 오늘 WinterCast 지역 {stormName} 추적기 시간별 일별 레이더 MinuteCast 월 대기질 건강 및 활동 오늘 WinterCast 시간별 일별 레이더 MinuteCast 월 대기질 건강 및 활동 RealFeel® 36° 추움 RealFeel Shade™ 32° 추움 36° 32° 최대 자외선 지수 남남서 4mi/h 4mi/h 8° F 10mi RealFeel® 37° 추움 RealFeel Shade™ 33° 추움 최대 자외선 지수3 보통 바람서남서 5mi/h 강수 확률40% 강수0.00in 강수 시간2 RealFeel® 18° 매우 추움 맑고 추움 바람남남동 2mi/h 강수 확률0% 강수0.00in 일몰 PM 6:05 일출 PM 3:32 36° 17° 36° 19° 45° 29° ### 시간별### 일별### 월 전 세계 아시아 대한민국 서울시 서울특별시 동작구, 서울시 마포구, 서울시 서대문구, 서울시\\'), Document(metadata={\\'title\\': \\'서울특별시 일기예보 및 날씨 - The Weather Channel | Weather.com\\', \\'source\\': \\'https://weather.com/ko-KR/weather/today/l/82e46175f97c224acf6b95afc4934fbae0e4ba123adcee8a52b7be97c303467b\\', \\'score\\': 0.63179934, \\'images\\': []}, page_content=\\'서울특별시 일기예보 및 날씨 - The Weather Channel | Weather.com 알제리 | العربية알제리 | Français앙골라 | Português베냉 | Français부르키나파소 | Français부룬디 | Français카메룬 | Français카메룬 | English카보베르데 | Português중앙 아프리카 공화국 | Français차드 | Français차드 | العربية코모로 | Français코모로 | العربيةDemocratic Republic of the Congo | Français콩고 공화국 | Français코트디부아르 | Français지부티 | Français지부티 | العربية이집트 | العربية적도 기니 | Español에리트레아 | العربية가봉 | Français감비아 | English가나 | English기니 | Français기니비사우 | Português케냐 | English레소토 | English라이베리아 | English리비아 | العربية마다가스카르 | Français말리 | Français모리타니 | العربية모리셔스 | English모리셔스 | Français모로코 | العربية모로코 | Français모잠비크 | Português나미비아 | English니제르 | Français나이지리아 | English르완다 | Français르완다 | English상투메 프린시페 | Português세네갈 | Français시에라리온 | English소말리아 | العربية남아프리카 | English남수단 | English수단 | العربية스와질란드 | English탄자니아 | English토고 | Français튀니지 | العربية우간다 | English 1° --/-10° -9° ### 18:00 0° 강수확률4% ### 19:00 -2° 강수확률1% ### 20:00 -3° 강수확률1% ### 21:00 -4° 강수확률2%\\'), Document(metadata={\\'title\\': \\'현재 날씨 - 기상청 날씨누리\\', \\'source\\': \\'https://www.weather.go.kr/w/weather/now.do\\', \\'score\\': 0.24851635, \\'images\\': []}, page_content=\\'날씨 바다 영상·일기도 태풍 기후 기후변화 지진·화산 테마날씨 황사 관측 소식·지식 개편된 날씨누리 홈페이지 첫 화면에서 지도를 통한 실시간 기상정보와 레이더영상, 전국 특보 현황을 조회할 수 있으며, 내 지역의 현재 기상상황과 대기질 상태, 일출/일몰 시각을 확인할 수 있습니다. 현재 위치 설정 혹은 검색을 통해 조회한 육상지역 및 해역은 위치 정보 우측의 별표를 클릭하여 관심지역으로 설정할 수 있으며, 관심지역 설정 해제 또한 별표를 다시 클릭하여 해제할 수 있습니다. 설정한 관심지역은 현재 위치 정보 우측의 화살표를 클릭하여 확인할 수 있으며, 사용중인 브라우저 캐시 영역에 저장되므로 캐시 삭제시 설정한 관심지역 정보가 초기화됩니다.\" 첫 화면 상단의 톱니바퀴 아이콘을 클릭하여 날씨누리 홈페이지 첫 화면(기본화면, 지도화면) 및 풍속단위(m/s, km/h)를 맞춤 설정할 수 있습니다. 날씨누리 첫화면에서 육상 및 해상의 현재 기상정보, 초단기 강수예측, 특보 상황을 지도상에서 확인할 수 있습니다.\\')]\\n\"\"\"\\n\\n질문: 서울의 현재 날씨는?\\n', additional_kwargs={}, response_metadata={})]]}}, 'run_id': '23668fe6-fe37-4897-bfa5-d7214b820ea1', 'name': 'ChatOpenAI', 'tags': ['seq:step:3'], 'metadata': {'ls_provider': 'openai', 'ls_model_name': 'gpt-4o-mini', 'ls_model_type': 'chat', 'ls_temperature': 0.0}, 'parent_ids': ['95e6e034-1521-48e8-b435-b2a7f08ef855']}\n",
            "{'event': 'on_parser_end', 'data': {'output': '서울의 현재 날씨는 31°F(약 -0.6°C)이며, RealFeel®은 36°F(약 2.2°C)로 추운 날씨입니다. 바람은 남남서쪽에서 시속 4마일(약 6.4km/h)로 불고 있으며, 강수 확률은 40%입니다. 현재 맑고 추운 날씨입니다.', 'input': AIMessageChunk(content='서울의 현재 날씨는 31°F(약 -0.6°C)이며, RealFeel®은 36°F(약 2.2°C)로 추운 날씨입니다. 바람은 남남서쪽에서 시속 4마일(약 6.4km/h)로 불고 있으며, 강수 확률은 40%입니다. 현재 맑고 추운 날씨입니다.', additional_kwargs={}, response_metadata={'finish_reason': 'stop', 'model_name': 'gpt-4o-mini-2024-07-18', 'system_fingerprint': 'fp_06737a9306'}, id='run-23668fe6-fe37-4897-bfa5-d7214b820ea1')}, 'run_id': '7578a152-b911-424b-9adc-03de085a531f', 'name': 'StrOutputParser', 'tags': ['seq:step:4'], 'metadata': {}, 'parent_ids': ['95e6e034-1521-48e8-b435-b2a7f08ef855']}\n",
            "{'event': 'on_chain_end', 'data': {'output': '서울의 현재 날씨는 31°F(약 -0.6°C)이며, RealFeel®은 36°F(약 2.2°C)로 추운 날씨입니다. 바람은 남남서쪽에서 시속 4마일(약 6.4km/h)로 불고 있으며, 강수 확률은 40%입니다. 현재 맑고 추운 날씨입니다.'}, 'run_id': '95e6e034-1521-48e8-b435-b2a7f08ef855', 'name': 'RunnableSequence', 'tags': [], 'metadata': {}, 'parent_ids': []}\n"
          ]
        }
      ],
      "source": [
        "chain = (\n",
        "    {\"context\": retriever, \"question\": RunnablePassthrough()}\n",
        "    | prompt\n",
        "    | model\n",
        "    | StrOutputParser()\n",
        ")\n",
        "\n",
        "async for event in chain.astream_events(\"서울의 현재 날씨는?\", version=\"v2\"):\n",
        "    print(event, flush=True)"
      ]
    },
    {
      "cell_type": "code",
      "execution_count": 73,
      "metadata": {
        "id": "xELg9Dj3gpk9",
        "outputId": "176e9695-1496-4516-fd83-3bd5a295fe27",
        "colab": {
          "base_uri": "https://localhost:8080/"
        }
      },
      "outputs": [
        {
          "output_type": "stream",
          "name": "stdout",
          "text": [
            "=== 검색 결과 ===\n",
            "page_content='서울특별시, 서울시, 대한민국 현재 날씨 | AccuWeather 서울특별시, 서울시 ========== 31°F 현재 위치 사용 서울특별시 서울시 31° 서울특별시, 서울시 날씨 오늘 WinterCast 지역 {stormName} 추적기 시간별 일별 레이더 MinuteCast 월 대기질 건강 및 활동 오늘 WinterCast 시간별 일별 레이더 MinuteCast 월 대기질 건강 및 활동 RealFeel® 36° 추움 RealFeel Shade™ 32° 추움 36° 32° 최대 자외선 지수 남남서 4mi/h 4mi/h 8° F 10mi RealFeel® 37° 추움 RealFeel Shade™ 33° 추움 최대 자외선 지수3 보통 바람서남서 5mi/h 강수 확률40% 강수0.00in 강수 시간2 RealFeel® 18° 매우 추움 맑고 추움 바람남남동 2mi/h 강수 확률0% 강수0.00in 일몰 PM 6:05 일출 PM 3:32 36° 17° 36° 19° 45° 29° ### 시간별### 일별### 월 전 세계 아시아 대한민국 서울시 서울특별시 동작구, 서울시 마포구, 서울시 서대문구, 서울시' metadata={'title': '서울특별시, 서울시, 대한민국 현재 날씨 | AccuWeather', 'source': 'https://www.accuweather.com/ko/kr/seoul/226081/current-weather/226081', 'score': 0.8649622, 'images': []}\n",
            "page_content='서울특별시 일기예보 및 날씨 - The Weather Channel | Weather.com 알제리 | العربية알제리 | Français앙골라 | Português베냉 | Français부르키나파소 | Français부룬디 | Français카메룬 | Français카메룬 | English카보베르데 | Português중앙 아프리카 공화국 | Français차드 | Français차드 | العربية코모로 | Français코모로 | العربيةDemocratic Republic of the Congo | Français콩고 공화국 | Français코트디부아르 | Français지부티 | Français지부티 | العربية이집트 | العربية적도 기니 | Español에리트레아 | العربية가봉 | Français감비아 | English가나 | English기니 | Français기니비사우 | Português케냐 | English레소토 | English라이베리아 | English리비아 | العربية마다가스카르 | Français말리 | Français모리타니 | العربية모리셔스 | English모리셔스 | Français모로코 | العربية모로코 | Français모잠비크 | Português나미비아 | English니제르 | Français나이지리아 | English르완다 | Français르완다 | English상투메 프린시페 | Português세네갈 | Français시에라리온 | English소말리아 | العربية남아프리카 | English남수단 | English수단 | العربية스와질란드 | English탄자니아 | English토고 | Français튀니지 | العربية우간다 | English 1° --/-10° -9° ### 18:00 0° 강수확률4% ### 19:00 -2° 강수확률1% ### 20:00 -3° 강수확률1% ### 21:00 -4° 강수확률2%' metadata={'title': '서울특별시 일기예보 및 날씨 - The Weather Channel | Weather.com', 'source': 'https://weather.com/ko-KR/weather/today/l/82e46175f97c224acf6b95afc4934fbae0e4ba123adcee8a52b7be97c303467b', 'score': 0.63179934, 'images': []}\n",
            "page_content='날씨 바다 영상·일기도 태풍 기후 기후변화 지진·화산 테마날씨 황사 관측 소식·지식 개편된 날씨누리 홈페이지 첫 화면에서 지도를 통한 실시간 기상정보와 레이더영상, 전국 특보 현황을 조회할 수 있으며, 내 지역의 현재 기상상황과 대기질 상태, 일출/일몰 시각을 확인할 수 있습니다. 현재 위치 설정 혹은 검색을 통해 조회한 육상지역 및 해역은 위치 정보 우측의 별표를 클릭하여 관심지역으로 설정할 수 있으며, 관심지역 설정 해제 또한 별표를 다시 클릭하여 해제할 수 있습니다. 설정한 관심지역은 현재 위치 정보 우측의 화살표를 클릭하여 확인할 수 있으며, 사용중인 브라우저 캐시 영역에 저장되므로 캐시 삭제시 설정한 관심지역 정보가 초기화됩니다.\" 첫 화면 상단의 톱니바퀴 아이콘을 클릭하여 날씨누리 홈페이지 첫 화면(기본화면, 지도화면) 및 풍속단위(m/s, km/h)를 맞춤 설정할 수 있습니다. 날씨누리 첫화면에서 육상 및 해상의 현재 기상정보, 초단기 강수예측, 특보 상황을 지도상에서 확인할 수 있습니다.' metadata={'title': '현재 날씨 - 기상청 날씨누리', 'source': 'https://www.weather.go.kr/w/weather/now.do', 'score': 0.24851635, 'images': []}\n",
            "=== 최종 출력 ===\n",
            "서울의 현재 날씨는 31°F(약 -0.6°C)이며, 체감 온도는 36°F(약 2.2°C)입니다. 바람은 남남서쪽에서 시속 4마일(약 6.4km/h)로 불고 있으며, 강수 확률은 40%입니다. 현재 맑고 추운 날씨입니다."
          ]
        }
      ],
      "source": [
        "async for event in chain.astream_events(\"서울의 현재 날씨는?\", version=\"v2\"):\n",
        "    event_kind = event[\"event\"]\n",
        "\n",
        "    if event_kind == \"on_retriever_end\":\n",
        "        print(\"=== 검색 결과 ===\")\n",
        "        documents = event[\"data\"][\"output\"]\n",
        "        for document in documents:\n",
        "            print(document)\n",
        "\n",
        "    elif event_kind == \"on_parser_start\":\n",
        "        print(\"=== 최종 출력 ===\")\n",
        "\n",
        "    elif event_kind == \"on_parser_stream\":\n",
        "        chunk = event[\"data\"][\"chunk\"]\n",
        "        print(chunk, end=\"\", flush=True)"
      ]
    },
    {
      "cell_type": "markdown",
      "metadata": {
        "id": "_J1ZES31gpk9"
      },
      "source": [
        "### (칼럼) Chat history와 Memory\n"
      ]
    },
    {
      "cell_type": "code",
      "execution_count": 46,
      "metadata": {
        "id": "KPqsChLigpk9"
      },
      "outputs": [],
      "source": [
        "from langchain_core.output_parsers import StrOutputParser\n",
        "from langchain_core.prompts import ChatPromptTemplate, MessagesPlaceholder\n",
        "from langchain_openai import ChatOpenAI\n",
        "\n",
        "model = ChatOpenAI(model=\"gpt-4o-mini\", temperature=0)\n",
        "\n",
        "prompt = ChatPromptTemplate.from_messages(\n",
        "    [\n",
        "        (\"system\", \"You are a helpful assistant.\"),\n",
        "        MessagesPlaceholder(\"chat_history\", optional=True),\n",
        "        (\"human\", \"{input}\"),\n",
        "    ]\n",
        ")\n",
        "\n",
        "chain = prompt | model | StrOutputParser()"
      ]
    },
    {
      "cell_type": "code",
      "execution_count": 47,
      "metadata": {
        "id": "ATzS7K7Sgpk9"
      },
      "outputs": [],
      "source": [
        "from langchain_community.chat_message_histories import SQLChatMessageHistory\n",
        "\n",
        "\n",
        "def respond(session_id: str, human_message: str) -> str:\n",
        "    chat_message_history = SQLChatMessageHistory(\n",
        "        session_id=session_id, connection=\"sqlite:///sqlite.db\"\n",
        "    )\n",
        "\n",
        "    ai_message = chain.invoke(\n",
        "        {\n",
        "            \"chat_history\": chat_message_history.get_messages(),\n",
        "            \"input\": human_message,\n",
        "        }\n",
        "    )\n",
        "\n",
        "    chat_message_history.add_user_message(human_message)\n",
        "    chat_message_history.add_ai_message(ai_message)\n",
        "\n",
        "    return ai_message"
      ]
    },
    {
      "cell_type": "code",
      "execution_count": 48,
      "metadata": {
        "id": "eMFL6ZHagpk9",
        "outputId": "d5748a4a-cf4e-4025-f81d-bb1b0920ab51",
        "colab": {
          "base_uri": "https://localhost:8080/"
        }
      },
      "outputs": [
        {
          "output_type": "stream",
          "name": "stdout",
          "text": [
            "안녕하세요, 존님! 만나서 반갑습니다. 어떻게 도와드릴까요?\n",
            "네, 존님이라고 말씀하셨습니다! 다른 질문이나 도움이 필요하신 부분이 있으면 말씀해 주세요.\n"
          ]
        }
      ],
      "source": [
        "from uuid import uuid4\n",
        "\n",
        "session_id = uuid4().hex\n",
        "\n",
        "output1 = respond(\n",
        "    session_id=session_id,\n",
        "    human_message=\"안녕하세요! 저는 존이라고 합니다!\",\n",
        ")\n",
        "print(output1)\n",
        "\n",
        "output2 = respond(\n",
        "    session_id=session_id,\n",
        "    human_message=\"제 이름을 알고 계신가요?\",\n",
        ")\n",
        "print(output2)"
      ]
    }
  ],
  "metadata": {
    "kernelspec": {
      "display_name": ".venv",
      "language": "python",
      "name": "python3"
    },
    "language_info": {
      "codemirror_mode": {
        "name": "ipython",
        "version": 3
      },
      "file_extension": ".py",
      "mimetype": "text/x-python",
      "name": "python",
      "nbconvert_exporter": "python",
      "pygments_lexer": "ipython3",
      "version": "3.11.9"
    },
    "colab": {
      "provenance": []
    }
  },
  "nbformat": 4,
  "nbformat_minor": 0
}