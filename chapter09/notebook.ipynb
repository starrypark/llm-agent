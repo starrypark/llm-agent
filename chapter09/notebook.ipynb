{
  "cells": [
    {
      "cell_type": "markdown",
      "metadata": {
        "id": "sgx47CkAnv_j"
      },
      "source": [
        "# LangGraph로 만드는 AI 에이전트 실전 입문"
      ]
    },
    {
      "cell_type": "markdown",
      "metadata": {
        "id": "jOWzn41rnv_k"
      },
      "source": [
        "## 9.3 Q&A 애플리케이션 실습"
      ]
    },
    {
      "cell_type": "code",
      "execution_count": null,
      "metadata": {
        "id": "mbeix2XOnv_k"
      },
      "outputs": [],
      "source": [
        "!pip install langchain==0.3.0 langchain-openai==0.2.0 langgraph==0.2.22"
      ]
    },
    {
      "cell_type": "code",
      "execution_count": null,
      "metadata": {
        "id": "1KGHWxvunv_l"
      },
      "outputs": [],
      "source": [
        "import os\n",
        "from google.colab import userdata\n",
        "\n",
        "os.environ[\"OPENAI_API_KEY\"] = userdata.get(\"OPENAI_API_KEY\")\n",
        "os.environ[\"LANGCHAIN_TRACING_V2\"] = \"true\"\n",
        "os.environ[\"LANGCHAIN_ENDPOINT\"] = \"https://api.smith.langchain.com\"\n",
        "os.environ[\"LANGCHAIN_API_KEY\"] = userdata.get(\"LANGCHAIN_API_KEY\")\n",
        "os.environ[\"LANGCHAIN_PROJECT\"] = \"agent-book\""
      ]
    },
    {
      "cell_type": "code",
      "execution_count": null,
      "metadata": {
        "id": "XP07ndLCnv_l"
      },
      "outputs": [],
      "source": [
        "ROLES = {\n",
        "    \"1\": {\n",
        "        \"name\": \"일반 지식 전문가\",\n",
        "        \"description\": \"폭넓은 분야의 일반적인 질문에 답변\",\n",
        "        \"details\": \"폭넓은 분야의 일반적인 질문에 대해 정확하고 이해하기 쉬운 답변을 제공해 주세요.\"\n",
        "    },\n",
        "    \"2\": {\n",
        "        \"name\": \"생성 AI 제품 전문가\",\n",
        "        \"description\": \"생성 AI와 관련 제품, 기술에 관한 전문적인 질문에 답변\",\n",
        "        \"details\": \"생성 AI와 관련 제품, 기술에 관한 전문적인 질문에 대해 최신 정보와 깊은 통찰력을 제공해 주세요.\"\n",
        "    },\n",
        "    \"3\": {\n",
        "        \"name\": \"카운슬러\",\n",
        "        \"description\": \"개인적인 고민이나 심리적인 문제에 대해 지원 제공\",\n",
        "        \"details\": \"개인적인 고민이나 심리적인 문제에 대해 공감적이고 지원적인 답변을 제공하고, 가능하다면 적절한 조언도 해주세요.\"\n",
        "    }\n",
        "}"
      ]
    },
    {
      "cell_type": "code",
      "execution_count": null,
      "metadata": {
        "id": "PQ5ZsGuinv_l"
      },
      "outputs": [],
      "source": [
        "import operator\n",
        "from typing import Annotated\n",
        "\n",
        "from pydantic import BaseModel, Field\n",
        "\n",
        "\n",
        "class State(BaseModel):\n",
        "    query: str = Field(..., description=\"사용자의 질문\")\n",
        "    current_role: str = Field(\n",
        "        default=\"\", description=\"선정된 답변 역할\"\n",
        "    )\n",
        "    messages: Annotated[list[str], operator.add] = Field(\n",
        "        default=[], description=\"답변 이력\"\n",
        "    )\n",
        "    current_judge: bool = Field(\n",
        "        default=False, description=\"품질 체크 결과\"\n",
        "    )\n",
        "    judgement_reason: str = Field(\n",
        "        default=\"\", description=\"품질 체크 판단 이유\"\n",
        "    )"
      ]
    },
    {
      "cell_type": "code",
      "execution_count": null,
      "metadata": {
        "id": "E5_T6ffWnv_l"
      },
      "outputs": [],
      "source": [
        "from langchain_openai import ChatOpenAI\n",
        "from langchain_core.runnables import ConfigurableField\n",
        "\n",
        "llm = ChatOpenAI(model=\"gpt-4o\", temperature=0.0)\n",
        "# 나중에 max_tokens 값을 변경할 수 있도록 변경 가능한 필드 선언\n",
        "llm = llm.configurable_fields(max_tokens=ConfigurableField(id='max_tokens'))"
      ]
    },
    {
      "cell_type": "code",
      "execution_count": null,
      "metadata": {
        "id": "2PB69JqUnv_l"
      },
      "outputs": [],
      "source": [
        "from typing import Any\n",
        "\n",
        "from langchain_core.prompts import ChatPromptTemplate\n",
        "from langchain_core.output_parsers import StrOutputParser\n",
        "\n",
        "def selection_node(state: State) -> dict[str, Any]:\n",
        "    query = state.query\n",
        "    role_options = \"\\n\".join([f\"{k}. {v['name']}: {v['description']}\" for k, v in ROLES.items()])\n",
        "    prompt = ChatPromptTemplate.from_template(\n",
        "\"\"\"질문을 분석하고 가장 적합한 답변 담당 역할을 선택해 주세요.\n",
        "\n",
        "선택지:\n",
        "{role_options}\n",
        "\n",
        "답변은 선택지의 번호(1, 2, 또는 3)만 반환해 주세요.\n",
        "\n",
        "질문: {query}\n",
        "\"\"\".strip()\n",
        "    )\n",
        "    # 선택지의 번호만 반환되기를 기대하므로 max_tokens 값을 1로 변경\n",
        "    chain = prompt | llm.with_config(configurable=dict(max_tokens=1)) | StrOutputParser()\n",
        "    role_number = chain.invoke({\"role_options\": role_options, \"query\": query})\n",
        "\n",
        "    selected_role = ROLES[role_number.strip()][\"name\"]\n",
        "    return {\"current_role\": selected_role}"
      ]
    },
    {
      "cell_type": "code",
      "execution_count": null,
      "metadata": {
        "id": "PSH2lZjUnv_m"
      },
      "outputs": [],
      "source": [
        "def answering_node(state: State) -> dict[str, Any]:\n",
        "    query = state.query\n",
        "    role = state.current_role\n",
        "    role_details = \"\\n\".join([f\"- {v['name']}: {v['details']}\" for v in ROLES.values()])\n",
        "    prompt = ChatPromptTemplate.from_template(\n",
        "\"\"\"당신은 {role}로서 답변해 주세요. 다음 질문에 대해 당신의 역할에 기반한 적절한 답변을 제공해 주세요.\n",
        "\n",
        "역할의 상세 내용::\n",
        "{role_details}\n",
        "\n",
        "질문: {query}\n",
        "\n",
        "답변:\"\"\".strip()\n",
        "    )\n",
        "    chain = prompt | llm | StrOutputParser()\n",
        "    answer = chain.invoke({\"role\": role, \"role_details\": role_details, \"query\": query})\n",
        "    return {\"messages\": [answer]}"
      ]
    },
    {
      "cell_type": "code",
      "execution_count": null,
      "metadata": {
        "id": "z8Ms-0aNnv_m"
      },
      "outputs": [],
      "source": [
        "class Judgement(BaseModel):\n",
        "    judge: bool = Field(default=False, description=\"판정 결과\")\n",
        "    reason: str = Field(default=\"\", description=\"판정 이유\")\n",
        "\n",
        "def check_node(state: State) -> dict[str, Any]:\n",
        "    query = state.query\n",
        "    answer = state.messages[-1]\n",
        "    prompt = ChatPromptTemplate.from_template(\n",
        "\"\"\"다음 답변의 품질을 체크하고, 문제가 있으면 'False', 문제가 없으면 'True'로 답변해 주세요.\n",
        "또한, 그 판단 이유도 설명해 주세요.\n",
        "\n",
        "사용자의 질문: {query}\n",
        "답변: {answer}\n",
        "\"\"\".strip()\n",
        "    )\n",
        "    chain = prompt | llm.with_structured_output(Judgement)\n",
        "    result: Judgement = chain.invoke({\"query\": query, \"answer\": answer})\n",
        "\n",
        "    return {\n",
        "        \"current_judge\": result.judge,\n",
        "        \"judgement_reason\": result.reason\n",
        "    }"
      ]
    },
    {
      "cell_type": "code",
      "execution_count": null,
      "metadata": {
        "id": "H6gBp1Bpnv_m"
      },
      "outputs": [],
      "source": [
        "from langgraph.graph import StateGraph\n",
        "\n",
        "workflow = StateGraph(State)"
      ]
    },
    {
      "cell_type": "code",
      "execution_count": null,
      "metadata": {
        "id": "-ZukmmwYnv_m"
      },
      "outputs": [],
      "source": [
        "workflow.add_node(\"selection\", selection_node)\n",
        "workflow.add_node(\"answering\", answering_node)\n",
        "workflow.add_node(\"check\", check_node)"
      ]
    },
    {
      "cell_type": "code",
      "execution_count": null,
      "metadata": {
        "id": "AkeDLayJnv_m"
      },
      "outputs": [],
      "source": [
        "# selection 노드에서 처리 시작\n",
        "workflow.set_entry_point(\"selection\")"
      ]
    },
    {
      "cell_type": "code",
      "execution_count": null,
      "metadata": {
        "id": "JeQ9gwjinv_n"
      },
      "outputs": [],
      "source": [
        "# selection 노드에서 answering 노드로\n",
        "workflow.add_edge(\"selection\", \"answering\")\n",
        "# answering 노드에서 check 노드로\n",
        "workflow.add_edge(\"answering\", \"check\")"
      ]
    },
    {
      "cell_type": "code",
      "execution_count": null,
      "metadata": {
        "id": "wEsRrWVdnv_n"
      },
      "outputs": [],
      "source": [
        "from langgraph.graph import END\n",
        "\n",
        "# check 노드에서 다음 노드로의 전환에 조건부 엣지 정의\n",
        "# state.current_judge 값이 True면 END 노드로, False면 selection 노드로\n",
        "workflow.add_conditional_edges(\n",
        "    \"check\",\n",
        "    lambda state: state.current_judge,\n",
        "    {True: END, False: \"selection\"}\n",
        ")"
      ]
    },
    {
      "cell_type": "code",
      "execution_count": null,
      "metadata": {
        "id": "qYSiBVtVnv_n"
      },
      "outputs": [],
      "source": [
        "compiled = workflow.compile()"
      ]
    },
    {
      "cell_type": "code",
      "execution_count": null,
      "metadata": {
        "id": "ypJzwGhKnv_n"
      },
      "outputs": [],
      "source": [
        "initial_state = State(query=\"생성 AI에 관해 알려주세요\")\n",
        "result = compiled.invoke(initial_state)"
      ]
    },
    {
      "cell_type": "code",
      "execution_count": null,
      "metadata": {
        "id": "FGZy7KBZnv_n"
      },
      "outputs": [],
      "source": [
        "result"
      ]
    },
    {
      "cell_type": "code",
      "execution_count": null,
      "metadata": {
        "id": "hBWW0uXTnv_n"
      },
      "outputs": [],
      "source": [
        "print(result[\"messages\"][-1])"
      ]
    },
    {
      "cell_type": "code",
      "execution_count": null,
      "metadata": {
        "id": "jFggcu_bnv_n"
      },
      "outputs": [],
      "source": [
        "initial_state = State(query=\"생성 AI에 관해 알려주세요\")\n",
        "result = await compiled.ainvoke(initial_state)\n",
        "result"
      ]
    },
    {
      "cell_type": "code",
      "execution_count": null,
      "metadata": {
        "id": "zhkC0Xahnv_n"
      },
      "outputs": [],
      "source": [
        "!apt-get install graphviz libgraphviz-dev pkg-config\n",
        "!pip install pygraphviz"
      ]
    },
    {
      "cell_type": "code",
      "execution_count": null,
      "metadata": {
        "id": "Q7lImZRHnv_n"
      },
      "outputs": [],
      "source": [
        "from IPython.display import Image\n",
        "\n",
        "Image(compiled.get_graph().draw_png())"
      ]
    },
    {
      "cell_type": "markdown",
      "metadata": {
        "id": "n-hH4uRcnv_n"
      },
      "source": [
        "## 9.4 체크포인트 기능: 상태의 영속화와 재개"
      ]
    },
    {
      "cell_type": "code",
      "execution_count": null,
      "metadata": {
        "id": "YA4UCPzrnv_o"
      },
      "outputs": [],
      "source": [
        "!pip install langchain==0.3.0 langchain-openai==0.2.0 langgraph==0.2.22 langgraph-checkpoint==1.0.11"
      ]
    },
    {
      "cell_type": "code",
      "execution_count": null,
      "metadata": {
        "id": "2Nav8Ptcnv_o"
      },
      "outputs": [],
      "source": [
        "import os\n",
        "from google.colab import userdata\n",
        "\n",
        "os.environ[\"OPENAI_API_KEY\"] = userdata.get(\"OPENAI_API_KEY\")\n",
        "os.environ[\"LANGCHAIN_TRACING_V2\"] = \"true\"\n",
        "os.environ[\"LANGCHAIN_ENDPOINT\"] = \"https://api.smith.langchain.com\"\n",
        "os.environ[\"LANGCHAIN_API_KEY\"] = userdata.get(\"LANGCHAIN_API_KEY\")\n",
        "os.environ[\"LANGCHAIN_PROJECT\"] = \"agent-book\""
      ]
    },
    {
      "cell_type": "code",
      "execution_count": null,
      "metadata": {
        "id": "7FEHaJTtnv_o"
      },
      "outputs": [],
      "source": [
        "import operator\n",
        "from typing import Annotated, Any\n",
        "from langchain_core.messages import SystemMessage, HumanMessage, BaseMessage\n",
        "from langchain_openai import ChatOpenAI\n",
        "from pydantic import BaseModel, Field\n",
        "\n",
        "# 그래프의 상태 정의\n",
        "class State(BaseModel):\n",
        "    query: str\n",
        "    messages: Annotated[list[BaseMessage], operator.add] = Field(default=[])\n",
        "\n",
        "# 메시지를 추가하는 노드 함수\n",
        "def add_message(state: State) -> dict[str, Any]:\n",
        "    additional_messages = []\n",
        "    if not state.messages:\n",
        "        additional_messages.append(\n",
        "            SystemMessage(content=\"당신은 최소한의 응답을 하는 대화 에이전트입니다.\")\n",
        "        )\n",
        "    additional_messages.append(HumanMessage(content=state.query))\n",
        "    return {\"messages\": additional_messages}\n",
        "\n",
        "# LLM에서의 응답을 추가하는 노드 함수\n",
        "def llm_response(state: State) -> dict[str, Any]:\n",
        "    llm = ChatOpenAI(model=\"gpt-4o-mini\", temperature=0.5)\n",
        "    ai_message = llm.invoke(state.messages)\n",
        "    return {\"messages\": [ai_message]}"
      ]
    },
    {
      "cell_type": "code",
      "execution_count": null,
      "metadata": {
        "id": "mjTnlnurnv_o"
      },
      "outputs": [],
      "source": [
        "from pprint import pprint\n",
        "from langchain_core.runnables import RunnableConfig\n",
        "from langgraph.checkpoint.base import BaseCheckpointSaver\n",
        "\n",
        "def print_checkpoint_dump(checkpointer: BaseCheckpointSaver, config: RunnableConfig):\n",
        "    checkpoint_tuple = checkpointer.get_tuple(config)\n",
        "\n",
        "    print(\"체크포인트 데이터:\")\n",
        "    pprint(checkpoint_tuple.checkpoint)\n",
        "    print(\"\\n메타데이터:\")\n",
        "    pprint(checkpoint_tuple.metadata)"
      ]
    },
    {
      "cell_type": "code",
      "execution_count": null,
      "metadata": {
        "id": "iD09JG9qnv_o"
      },
      "outputs": [],
      "source": [
        "from langgraph.graph import StateGraph, END\n",
        "from langgraph.checkpoint.memory import MemorySaver\n",
        "\n",
        "# 그래프 설정\n",
        "graph = StateGraph(State)\n",
        "graph.add_node(\"add_message\", add_message)\n",
        "graph.add_node(\"llm_response\", llm_response)\n",
        "\n",
        "graph.set_entry_point(\"add_message\")\n",
        "graph.add_edge(\"add_message\", \"llm_response\")\n",
        "graph.add_edge(\"llm_response\", END)\n",
        "\n",
        "# 체크포인터 설정\n",
        "checkpointer = MemorySaver()\n",
        "\n",
        "# 그래프 컴파일\n",
        "compiled_graph = graph.compile(checkpointer=checkpointer)"
      ]
    },
    {
      "cell_type": "code",
      "execution_count": null,
      "metadata": {
        "id": "PBHdl3sinv_o"
      },
      "outputs": [],
      "source": [
        "config = {\"configurable\": {\"thread_id\": \"example-1\"}}\n",
        "user_query = State(query=\"제가 좋아하는 것은 쿠키앤크림 아이스크림입니다. 기억해 주세요.\")\n",
        "first_response = compiled_graph.invoke(user_query, config)\n",
        "first_response"
      ]
    },
    {
      "cell_type": "code",
      "execution_count": null,
      "metadata": {
        "id": "sTwRdqYOnv_o"
      },
      "outputs": [],
      "source": [
        "for checkpoint in checkpointer.list(config):\n",
        "    print(checkpoint)"
      ]
    },
    {
      "cell_type": "code",
      "execution_count": null,
      "metadata": {
        "id": "p458ZcsTnv_o"
      },
      "outputs": [],
      "source": [
        "print_checkpoint_dump(checkpointer, config)"
      ]
    },
    {
      "cell_type": "code",
      "execution_count": null,
      "metadata": {
        "id": "JDXyKjdtnv_o"
      },
      "outputs": [],
      "source": [
        "user_query = State(query=\"제가 좋아하는 것이 뭔지 기억나세요?\")\n",
        "second_response = compiled_graph.invoke(user_query, config)\n",
        "second_response"
      ]
    },
    {
      "cell_type": "code",
      "execution_count": null,
      "metadata": {
        "id": "XfUeZjDDnv_p"
      },
      "outputs": [],
      "source": [
        "for checkpoint in checkpointer.list(config):\n",
        "    print(checkpoint)"
      ]
    },
    {
      "cell_type": "code",
      "execution_count": null,
      "metadata": {
        "id": "8LcdCNbjnv_p"
      },
      "outputs": [],
      "source": [
        "print_checkpoint_dump(checkpointer, config)"
      ]
    },
    {
      "cell_type": "code",
      "execution_count": null,
      "metadata": {
        "id": "5phoZIxqnv_p"
      },
      "outputs": [],
      "source": [
        "config = {\"configurable\": {\"thread_id\": \"example-2\"}}\n",
        "user_query = State(query=\"제가 좋아하는 것은 뭔가요?\")\n",
        "other_thread_response = compiled_graph.invoke(user_query, config)\n",
        "other_thread_response"
      ]
    }
  ],
  "metadata": {
    "kernelspec": {
      "display_name": "Python 3",
      "language": "python",
      "name": "python3"
    },
    "language_info": {
      "codemirror_mode": {
        "name": "ipython",
        "version": 3
      },
      "file_extension": ".py",
      "mimetype": "text/x-python",
      "name": "python",
      "nbconvert_exporter": "python",
      "pygments_lexer": "ipython3",
      "version": "3.11.8"
    },
    "colab": {
      "provenance": []
    }
  },
  "nbformat": 4,
  "nbformat_minor": 0
}